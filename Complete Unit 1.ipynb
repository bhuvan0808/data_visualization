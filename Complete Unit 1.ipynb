{
 "cells": [
  {
   "cell_type": "markdown",
   "id": "f4674131",
   "metadata": {},
   "source": [
    "#UNIT I - Introduction to Data Science with Python - Python Fundamentals\n",
    "\n",
    "Lecture 1: Python Data Structures / Data Types\n",
    "Lecture 2: Conditional s, Control Structures and Functions\n",
    "Lecture 3: Object Oriented Programming Concepts\n",
    "Lecture 4: File Handling and Exception Handling\n",
    "Lecture 5: Implementation of User-Defined Modules and Packages"
   ]
  },
  {
   "cell_type": "code",
   "execution_count": null,
   "id": "081ee59a",
   "metadata": {},
   "outputs": [],
   "source": [
    "Python Basics"
   ]
  },
  {
   "cell_type": "code",
   "execution_count": null,
   "id": "b33dc127",
   "metadata": {},
   "outputs": [],
   "source": [
    "Variable:\n",
    "A variable allows us to store a value by assigning it to a name, which can be used later.\n",
    "Named memory locations to store values.\n",
    "Programmers generally choose names for their variables that are meaningful.\n",
    "It can be of any length. No space is allowed.\n",
    "We dont need to declare a variable before using it.\n",
    "In Python, we simply assign a value to a variable and it will exist.\n"
   ]
  },
  {
   "cell_type": "code",
   "execution_count": null,
   "id": "a63dc715",
   "metadata": {},
   "outputs": [],
   "source": [
    "# Declaring variables\n",
    "a = 10\n",
    "b = 20\n",
    "\n",
    "print('a')\n",
    "#print('b')\n"
   ]
  },
  {
   "cell_type": "code",
   "execution_count": null,
   "id": "0f30f83c",
   "metadata": {},
   "outputs": [],
   "source": [
    "#Assigning value to variable:\n",
    "#Value should be given on the right side of assignment operator(=) and variable on left side.\n",
    "counter = 45\n",
    "print(counter)\n",
    "#Assigning a single value to several variables simultaneously:\n",
    "a=b=c=100\n",
    "#Assigning multiple values to multiple variables:\n",
    "a,b,c=2,4,\"ram\"\n"
   ]
  },
  {
   "cell_type": "code",
   "execution_count": null,
   "id": "7ca1ad27",
   "metadata": {},
   "outputs": [],
   "source": [
    "Keywords are the reserved words in Python.\n",
    "We cannot use a keyword as name, function name or any other identifier.\n",
    "They are used to define the syntax and structure of the Python language.\n",
    "Keywords are case sensitive.\n",
    "\n",
    "Example:\n",
    "    print\n",
    "    def\n",
    "    False\n",
    "    True\n",
    "    None\n",
    "    if\n",
    "    else\n",
    "etc."
   ]
  },
  {
   "cell_type": "code",
   "execution_count": null,
   "id": "556fff7d",
   "metadata": {},
   "outputs": [],
   "source": [
    "Identifiers:\n",
    "    \n",
    "Identifier is the name given to entities like class, functions, variables etc. in Python.\n",
    "Identifiers can be a combination of letters in lowercase (a to z) or uppercase (A to Z)\n",
    "or digits (0 to 9) or an underscore (_) all are valid example.\n",
    "An identifier cannot start with a digit.\n",
    "Keywords cannot be used as identifiers.\n",
    "Cannot use special symbols like!, @, #, $, % etc. in our identifier.\n",
    "Identifier can be of any length.\n",
    "Example:\n",
    "Names like myClass, var_1, and this_is_a_long_variable"
   ]
  },
  {
   "cell_type": "code",
   "execution_count": null,
   "id": "58fcc00c",
   "metadata": {},
   "outputs": [],
   "source": [
    "#Statements:\n",
    "#Instructions that a Python interpreter can executes are called statements.\n",
    "#A statement is a unit of code like creating a variable or displaying a value.\n",
    "n = 17\n",
    "print (n)\n",
    "#Here, The first line is an assignment statement that gives a value to n.\n",
    "#The second line is a print statement that displays the value of n.\n"
   ]
  },
  {
   "cell_type": "code",
   "execution_count": null,
   "id": "7f42f2b9",
   "metadata": {},
   "outputs": [],
   "source": [
    "#An expression is a combination of values, variables, and operators.\n",
    "#A value all by itself is considered an expression, and also a variable.\n",
    "#So the following are all legal expressions:\n",
    "#42\n",
    "#a=2\n",
    "#a+3+2 7\n",
    "z=(\"hi\"+\"friend\")\n",
    "print(z)\n"
   ]
  },
  {
   "cell_type": "code",
   "execution_count": null,
   "id": "187e33e9",
   "metadata": {},
   "outputs": [],
   "source": [
    "#input and output\n",
    "\n",
    "#input\n",
    "x=input(\"enter the name:\")\n",
    "#output\n",
    "print(x)"
   ]
  },
  {
   "cell_type": "code",
   "execution_count": null,
   "id": "bc4dbb66",
   "metadata": {},
   "outputs": [],
   "source": [
    "#Comment\n",
    "#This is a comment\n",
    "#This is a comment\n",
    "#Print “Woxsen University” to console\n",
    "print(\"Woxsen University\")\n"
   ]
  },
  {
   "cell_type": "code",
   "execution_count": null,
   "id": "1921ca8a",
   "metadata": {},
   "outputs": [],
   "source": [
    "Single line comments: Python single-line comment starts with a hashtag symbol with no white spaces (#) and lasts till the end of the line.\n",
    "\n",
    "If the comment exceeds one line then put a hashtag on the next line and continue the comment.\n",
    "\n",
    "Python’s single-line comments are proved useful for supplying short explanations for variables, function declarations, and expressions. See the following code snippet demonstrating single line comment:"
   ]
  },
  {
   "cell_type": "code",
   "execution_count": null,
   "id": "bf748b10",
   "metadata": {},
   "outputs": [],
   "source": [
    "\"\"\"\n",
    "This would be a multiline comment in Python that\n",
    "spans several lines and describes Woxsen university.\n",
    "A Computer Science portal for Woxsen University. It contains\n",
    "well written, well thought\n",
    "and well-explained computer science\n",
    "and programming articles,\n",
    "quizzes and more.\n",
    "\"\"\"\n",
    "print(\"Woxsen University\")\n"
   ]
  },
  {
   "cell_type": "code",
   "execution_count": null,
   "id": "e82a3009",
   "metadata": {},
   "outputs": [],
   "source": [
    "Multi-line string as a comment: Python multi-line comment is a piece of text enclosed in a delimiter (“””) on each end of the comment. Again there should be no white space between delimiter (“””).\n",
    "\n",
    "They are useful when the comment text does not fit into one line; therefore need to span across lines.\n",
    "\n",
    "Multi-line comments or paragraphs serve as documentation for others reading your code. See the above code snippet demonstrating multi-line comment:"
   ]
  },
  {
   "cell_type": "code",
   "execution_count": null,
   "id": "8f7f99e3",
   "metadata": {},
   "outputs": [],
   "source": [
    "'''This article on Woxsen University gives you a\n",
    "perfect example of\n",
    "multi-line comments'''\n",
    "\n",
    "print(\"Students : A Team of Python Enthusiat\")\n"
   ]
  },
  {
   "cell_type": "code",
   "execution_count": null,
   "id": "e7d4c44a",
   "metadata": {},
   "outputs": [],
   "source": [
    "# Python program showing indentation\n",
    "\n",
    "univ = 'Woxsen University'\n",
    "\n",
    "if univ == ' Other University':\n",
    "\tprint('Logging on to Woxsen University...')\n",
    "else:\n",
    "\tprint('retype the URL.')\n",
    "print('All set !')"
   ]
  },
  {
   "cell_type": "code",
   "execution_count": null,
   "id": "dc2e2290",
   "metadata": {},
   "outputs": [],
   "source": [
    "The lines print(‘Logging on to Woxsen University…’) and print(‘retype the URL.’) are two separate code blocks.\n",
    "\n",
    "The two blocks of code in our example if-statement are both indented four spaces.\n",
    "\n",
    "The final print(‘All set!’) is not indented, so it does not belong to the else block."
   ]
  },
  {
   "cell_type": "code",
   "execution_count": 34,
   "id": "28ddc0b7",
   "metadata": {},
   "outputs": [
    {
     "name": "stdout",
     "output_type": "stream",
     "text": [
      "Hello World!\n",
      "Hello World!\n",
      "Hello World!\n",
      "Hello World!\n"
     ]
    }
   ],
   "source": [
    "#Quotation in python\n",
    "#Python accepts single ('), double (\") and triple (''' or \"\"\") quotes to denote string literals.\n",
    "#Anything that is represented using quotations are considered as string.\n",
    "#Single quotes(' ') Eg, 'This a string in single quotes'\n",
    "#double quotes(\" \") Eg, \"'This a string in double quotes'\"\n",
    "#triple quotes(\"\"\" \"\"\") Eg, This is a paragraph. It is made up of multiple lines and sentences.\"\"\"\n",
    "\n",
    "print('Hello World!')\n",
    "print(\"Hello World!\")\n",
    "print('''Hello World!''')\n",
    "print(\"\"\"Hello World!\"\"\")\n"
   ]
  },
  {
   "cell_type": "markdown",
   "id": "852c4963",
   "metadata": {},
   "source": [
    "Lecture 1 - Python Data Structures"
   ]
  },
  {
   "cell_type": "markdown",
   "id": "bd1802e3",
   "metadata": {},
   "source": [
    "Data Types / Data Structures\n",
    "1. Numeric: (integer, float, complex numbers)\n",
    "2. Boolean: (true, false)\n",
    "3. Sequence: (strings, lists, tuples)\n",
    "4. Sets\n",
    "5. Dictionaries\n",
    "\n",
    "Data types are the classification or categorization of data items.\n",
    "It represents the kind of value that tells what operations can be\n",
    "performed on a particular data.\n"
   ]
  },
  {
   "cell_type": "markdown",
   "id": "385a4539",
   "metadata": {},
   "source": [
    "1. Numeric\n",
    "In Python, numeric data type represent the data which has numeric value.\n",
    "Numeric value can be integer, floating number or even complex numbers.\n",
    "These values are defined as int, float and complex class in Python.\n",
    "\n",
    "Integers – This value is represented by int class.\n",
    "It contains positive or negative whole numbers (without fraction or decimal).\n",
    "In Python there is no limit to how long an integer value can be.\n",
    "\n",
    "\n",
    "Float – This value is represented by float class. It is a real number with\n",
    "floating point representation. It is specified by a decimal point.\n",
    "\n",
    "\n",
    "Complex Numbers – Complex number is represented by complex class.\n",
    "It is specified as (real part) + (imaginary part)j. For example – 2+3j\n",
    "\n",
    "\n",
    "Note – type() function is used to determine the type of data type."
   ]
  },
  {
   "cell_type": "code",
   "execution_count": 5,
   "id": "6fc0ebbb",
   "metadata": {},
   "outputs": [
    {
     "name": "stdout",
     "output_type": "stream",
     "text": [
      "Type of a:  <class 'int'>\n",
      "\n",
      "Type of b:  <class 'float'>\n",
      "\n",
      "Type of c:  <class 'complex'>\n"
     ]
    }
   ],
   "source": [
    "# Python program to demonstrate numeric type\n",
    "\n",
    "a = 5\n",
    "print(\"Type of a: \", type(a))\n",
    "\n",
    "b = 5.0\n",
    "print(\"\\nType of b: \", type(b))\n",
    "\n",
    "c = 2 + 4j\n",
    "print(\"\\nType of c: \", type(c))\n"
   ]
  },
  {
   "cell_type": "markdown",
   "id": "5028750e",
   "metadata": {},
   "source": [
    "2. Boolean\n",
    "Data type with one of the two built-in values, True or False.\n",
    "\n",
    "Note – True and False with capital ‘T’ and ‘F’ are valid\n",
    "booleans otherwise python will throw an error."
   ]
  },
  {
   "cell_type": "code",
   "execution_count": 14,
   "id": "1b3c23f4",
   "metadata": {},
   "outputs": [
    {
     "name": "stdout",
     "output_type": "stream",
     "text": [
      "<class 'bool'>\n",
      "<class 'bool'>\n"
     ]
    },
    {
     "ename": "NameError",
     "evalue": "name 'true' is not defined",
     "output_type": "error",
     "traceback": [
      "\u001b[1;31m---------------------------------------------------------------------------\u001b[0m",
      "\u001b[1;31mNameError\u001b[0m                                 Traceback (most recent call last)",
      "\u001b[1;32m~\\AppData\\Local\\Temp\\ipykernel_11156\\1339273318.py\u001b[0m in \u001b[0;36m<module>\u001b[1;34m\u001b[0m\n\u001b[0;32m      5\u001b[0m \u001b[0mprint\u001b[0m\u001b[1;33m(\u001b[0m\u001b[0mtype\u001b[0m\u001b[1;33m(\u001b[0m\u001b[1;32mFalse\u001b[0m\u001b[1;33m)\u001b[0m\u001b[1;33m)\u001b[0m\u001b[1;33m\u001b[0m\u001b[1;33m\u001b[0m\u001b[0m\n\u001b[0;32m      6\u001b[0m \u001b[1;33m\u001b[0m\u001b[0m\n\u001b[1;32m----> 7\u001b[1;33m \u001b[0mprint\u001b[0m\u001b[1;33m(\u001b[0m\u001b[0mtype\u001b[0m\u001b[1;33m(\u001b[0m\u001b[0mtrue\u001b[0m\u001b[1;33m)\u001b[0m\u001b[1;33m)\u001b[0m\u001b[1;33m\u001b[0m\u001b[1;33m\u001b[0m\u001b[0m\n\u001b[0m",
      "\u001b[1;31mNameError\u001b[0m: name 'true' is not defined"
     ]
    }
   ],
   "source": [
    "# Python program to demonstrate boolean type\n",
    "\n",
    "print(type(True))\n",
    "print(type(False))\n",
    "\n",
    "print(type(true))\n"
   ]
  },
  {
   "cell_type": "markdown",
   "id": "dd86b2ba",
   "metadata": {},
   "source": [
    "3. Sequence Type\n",
    "In Python, sequence is the ordered collection of similar or different data types.\n",
    "Sequences allows to store multiple values in an organized and efficient fashion.\n",
    "There are several sequence types in Python –\n",
    "a. String\n",
    "b. List\n",
    "c. Tuple"
   ]
  },
  {
   "cell_type": "markdown",
   "id": "c2c6df93",
   "metadata": {},
   "source": [
    "\n",
    "1) String\n",
    "\n",
    "A string is a collection of one or more characters put in a single quote,\n",
    "double-quote or triple quote. In python there is no character data type,\n",
    "a character is a string of length one. It is represented by str class.\n",
    " \n",
    "Creating a String:\n",
    "Strings in Python can be created using single quotes or\n",
    "double quotes or even triple quotes."
   ]
  },
  {
   "cell_type": "code",
   "execution_count": 1,
   "id": "7807ec9f",
   "metadata": {},
   "outputs": [
    {
     "name": "stdout",
     "output_type": "stream",
     "text": [
      "String with the use of Single Quotes: \n",
      "Welcome to the World\n",
      "\n",
      "String with the use of Double Quotes: \n",
      "I'm a cool\n",
      "<class 'str'>\n",
      "\n",
      "String with the use of Triple Quotes: \n",
      "I live in a world\n",
      "<class 'str'>\n",
      "\n",
      "Creating a multiline String: \n",
      "Happiness\n",
      "             For\n",
      "            Life\n"
     ]
    }
   ],
   "source": [
    "# Python Program for Creation of String\n",
    "\n",
    "# Creating a String with single Quotes\n",
    "String1 = 'Welcome to the World'\n",
    "print(\"String with the use of Single Quotes: \")\n",
    "print(String1)\n",
    "\n",
    "# Creating a String with double Quotes\n",
    "String1 = \"I'm a cool\"\n",
    "print(\"\\nString with the use of Double Quotes: \")\n",
    "print(String1)\n",
    "print(type(String1))\n",
    "\n",
    "# Creating a String with triple Quotes\n",
    "String1 = '''I live in a world'''\n",
    "print(\"\\nString with the use of Triple Quotes: \")\n",
    "print(String1)\n",
    "print(type(String1))\n",
    "\n",
    "# Creating String with triple Quotes allows multiple lines\n",
    "String1 = '''Happiness\n",
    "             For\n",
    "            Life'''\n",
    "print(\"\\nCreating a multiline String: \")\n",
    "print(String1)\n"
   ]
  },
  {
   "cell_type": "markdown",
   "id": "b1f0e0da",
   "metadata": {},
   "source": [
    "Accessing elements of String:\n",
    "\n",
    "In Python, individual characters of a String can be accessed by using the method of Indexing.\n",
    "Indexing allows negative address references to access characters from the back of the String,\n",
    "e.g. -1 refers to the last character, -2 refers to the second last character and so on."
   ]
  },
  {
   "cell_type": "code",
   "execution_count": 2,
   "id": "8d11d489",
   "metadata": {},
   "outputs": [
    {
     "name": "stdout",
     "output_type": "stream",
     "text": [
      "Initial String: \n",
      "HappinessForLife\n",
      "\n",
      "First character of String is: \n",
      "H\n",
      "\n",
      "Last character of String is: \n",
      "e\n"
     ]
    }
   ],
   "source": [
    "# Python Program to Access characters of String\n",
    "\n",
    "String1 = \"HappinessForLife\"\n",
    "print(\"Initial String: \")\n",
    "print(String1)\n",
    "\n",
    "# Printing First character\n",
    "print(\"\\nFirst character of String is: \")\n",
    "print(String1[0])\n",
    "\n",
    "# Printing Last character\n",
    "print(\"\\nLast character of String is: \")\n",
    "print(String1[-1])\n"
   ]
  },
  {
   "cell_type": "code",
   "execution_count": 4,
   "id": "7508397a",
   "metadata": {},
   "outputs": [
    {
     "name": "stdout",
     "output_type": "stream",
     "text": [
      "oodmorning\n"
     ]
    }
   ],
   "source": [
    "#basic operations on strings\n",
    "\n",
    "#String Slicing\n",
    "\n",
    "#A part of a string is called string slices.\n",
    "#The process of extracting a sub string from a string is called slicing.\n",
    "\n",
    "s=\"goodmorning\"\n",
    "print(s[1:])"
   ]
  },
  {
   "cell_type": "code",
   "execution_count": 35,
   "id": "7692a2dc",
   "metadata": {},
   "outputs": [
    {
     "name": "stdout",
     "output_type": "stream",
     "text": [
      "good morningfriends\n"
     ]
    }
   ],
   "source": [
    "#string concatenation\n",
    "\n",
    "s=\"good morning\"\n",
    "print(s+\"friends\")"
   ]
  },
  {
   "cell_type": "code",
   "execution_count": 3,
   "id": "8798c953",
   "metadata": {},
   "outputs": [
    {
     "name": "stdout",
     "output_type": "stream",
     "text": [
      "good morning good morning good morning \n",
      "good morning good morning good morning  good morning good morning good morning \n"
     ]
    }
   ],
   "source": [
    "#String Repititions\n",
    "\n",
    "s=\"good morning \"\n",
    "print(s*3)\n",
    "print(s*3, end=\" \")\n",
    "print(s*3)\n"
   ]
  },
  {
   "cell_type": "code",
   "execution_count": 5,
   "id": "2ec33af5",
   "metadata": {},
   "outputs": [
    {
     "data": {
      "text/plain": [
       "True"
      ]
     },
     "execution_count": 5,
     "metadata": {},
     "output_type": "execute_result"
    }
   ],
   "source": [
    "s=\"good morning\"\n",
    "\"m\" in s\n",
    "#\"m\" not in s"
   ]
  },
  {
   "cell_type": "markdown",
   "id": "938c7812",
   "metadata": {},
   "source": [
    "Python strings are “immutable” as they cannot be changed after they are created.\n",
    "Therefore [i] operator cannot be used on the left side of an assignment.\n"
   ]
  },
  {
   "cell_type": "code",
   "execution_count": 7,
   "id": "de0c835a",
   "metadata": {},
   "outputs": [
    {
     "ename": "TypeError",
     "evalue": "'str' object does not support item assignment",
     "output_type": "error",
     "traceback": [
      "\u001b[1;31m---------------------------------------------------------------------------\u001b[0m",
      "\u001b[1;31mTypeError\u001b[0m                                 Traceback (most recent call last)",
      "\u001b[1;32m~\\AppData\\Local\\Temp\\ipykernel_5892\\499810664.py\u001b[0m in \u001b[0;36m<module>\u001b[1;34m\u001b[0m\n\u001b[0;32m      1\u001b[0m \u001b[0ms\u001b[0m\u001b[1;33m=\u001b[0m\u001b[1;34m\"good morning\"\u001b[0m\u001b[1;33m\u001b[0m\u001b[1;33m\u001b[0m\u001b[0m\n\u001b[1;32m----> 2\u001b[1;33m \u001b[0ms\u001b[0m\u001b[1;33m[\u001b[0m\u001b[1;36m0\u001b[0m\u001b[1;33m]\u001b[0m\u001b[1;33m=\u001b[0m\u001b[1;34m'a'\u001b[0m\u001b[1;33m\u001b[0m\u001b[1;33m\u001b[0m\u001b[0m\n\u001b[0m",
      "\u001b[1;31mTypeError\u001b[0m: 'str' object does not support item assignment"
     ]
    }
   ],
   "source": [
    "#element assignment\n",
    "s=\"good morning\"\n",
    "s[0]='a'"
   ]
  },
  {
   "cell_type": "code",
   "execution_count": 8,
   "id": "059542c3",
   "metadata": {},
   "outputs": [
    {
     "ename": "TypeError",
     "evalue": "'str' object doesn't support item deletion",
     "output_type": "error",
     "traceback": [
      "\u001b[1;31m---------------------------------------------------------------------------\u001b[0m",
      "\u001b[1;31mTypeError\u001b[0m                                 Traceback (most recent call last)",
      "\u001b[1;32m~\\AppData\\Local\\Temp\\ipykernel_5892\\2911180259.py\u001b[0m in \u001b[0;36m<module>\u001b[1;34m\u001b[0m\n\u001b[0;32m      1\u001b[0m \u001b[1;31m#element deletion\u001b[0m\u001b[1;33m\u001b[0m\u001b[1;33m\u001b[0m\u001b[0m\n\u001b[0;32m      2\u001b[0m \u001b[0ms\u001b[0m\u001b[1;33m=\u001b[0m\u001b[1;34m\"good morning\"\u001b[0m\u001b[1;33m\u001b[0m\u001b[1;33m\u001b[0m\u001b[0m\n\u001b[1;32m----> 3\u001b[1;33m \u001b[1;32mdel\u001b[0m \u001b[0ms\u001b[0m\u001b[1;33m[\u001b[0m\u001b[1;36m0\u001b[0m\u001b[1;33m]\u001b[0m\u001b[1;33m\u001b[0m\u001b[1;33m\u001b[0m\u001b[0m\n\u001b[0m",
      "\u001b[1;31mTypeError\u001b[0m: 'str' object doesn't support item deletion"
     ]
    }
   ],
   "source": [
    "#element deletion\n",
    "s=\"good morning\"\n",
    "del s[0]"
   ]
  },
  {
   "cell_type": "code",
   "execution_count": 6,
   "id": "7ae8083e",
   "metadata": {},
   "outputs": [
    {
     "ename": "NameError",
     "evalue": "name 's' is not defined",
     "output_type": "error",
     "traceback": [
      "\u001b[1;31m---------------------------------------------------------------------------\u001b[0m",
      "\u001b[1;31mNameError\u001b[0m                                 Traceback (most recent call last)",
      "\u001b[1;32m~\\AppData\\Local\\Temp\\ipykernel_2800\\1381981499.py\u001b[0m in \u001b[0;36m<module>\u001b[1;34m\u001b[0m\n\u001b[0;32m      2\u001b[0m \u001b[0ms\u001b[0m\u001b[1;33m=\u001b[0m\u001b[1;34m\"good morning\"\u001b[0m\u001b[1;33m\u001b[0m\u001b[1;33m\u001b[0m\u001b[0m\n\u001b[0;32m      3\u001b[0m \u001b[1;32mdel\u001b[0m \u001b[0ms\u001b[0m\u001b[1;33m\u001b[0m\u001b[1;33m\u001b[0m\u001b[0m\n\u001b[1;32m----> 4\u001b[1;33m \u001b[0mprint\u001b[0m\u001b[1;33m(\u001b[0m\u001b[0ms\u001b[0m\u001b[1;33m)\u001b[0m\u001b[1;33m\u001b[0m\u001b[1;33m\u001b[0m\u001b[0m\n\u001b[0m",
      "\u001b[1;31mNameError\u001b[0m: name 's' is not defined"
     ]
    }
   ],
   "source": [
    "#delete a string\n",
    "s=\"good morning\"\n",
    "del s\n",
    "print(s)"
   ]
  },
  {
   "cell_type": "code",
   "execution_count": 11,
   "id": "7d5f55ae",
   "metadata": {},
   "outputs": [
    {
     "name": "stdout",
     "output_type": "stream",
     "text": [
      "Hii \n",
      "Hello\n",
      "Hii'Hello\n",
      "\"\n",
      "Hii \tHello\n"
     ]
    }
   ],
   "source": [
    "#Escape Sequences in String\n",
    "\n",
    "#\\n printsnew line\n",
    "print(\"Hii \\nHello\")\n",
    "\n",
    "#\\' prints single quote(')\n",
    "print(\"Hii\\'Hello\")\n",
    "\n",
    "#\\\" prints double quote(\")\n",
    "print(\"\\\"\")\n",
    "\n",
    "#\\t prints tab space\n",
    "print(\"Hii \\tHello\")"
   ]
  },
  {
   "cell_type": "markdown",
   "id": "b560a685",
   "metadata": {},
   "source": [
    "2) List\n",
    "Lists are just like the arrays, declared in other languages\n",
    "which is a ordered collection of data. It is very flexible as\n",
    "the items in a list do not need to be of the same type.\n",
    " \n",
    "\n",
    "Creating a List\n",
    "Lists in Python can be created by just placing the\n",
    "sequence inside the square brackets [i]."
   ]
  },
  {
   "cell_type": "code",
   "execution_count": 36,
   "id": "62e7310e",
   "metadata": {},
   "outputs": [
    {
     "name": "stdout",
     "output_type": "stream",
     "text": [
      "Initial blank List: \n",
      "[]\n",
      "\n",
      "List with the use of String: \n",
      "['HappinessForHappiness']\n",
      "\n",
      "List containing multiple values: \n",
      "Happiness\n",
      "Life\n",
      "\n",
      "Multi-Dimensional List: \n",
      "[['Happiness', 'For'], ['Life']]\n"
     ]
    }
   ],
   "source": [
    "# Python program to demonstrate creation of List\n",
    "\n",
    "# Creating an empty List\n",
    "List = []\n",
    "print(\"Initial blank List: \")\n",
    "print(List)\n",
    "\n",
    "# Creating a List with the use of a String\n",
    "List = ['HappinessForHappiness']\n",
    "print(\"\\nList with the use of String: \")\n",
    "print(List)\n",
    "\n",
    "# Creating a List with the use of multiple values\n",
    "List = [\"Happiness\", \"For\", \"Life\"]\n",
    "print(\"\\nList containing multiple values: \")\n",
    "print(List[0])\n",
    "print(List[2])\n",
    "\n",
    "# Creating a Multi-Dimensional List (By Nesting a list inside a List)\n",
    "List = [['Happiness', 'For'], ['Life']]\n",
    "print(\"\\nMulti-Dimensional List: \")\n",
    "print(List)\n"
   ]
  },
  {
   "cell_type": "markdown",
   "id": "c7bdf43b",
   "metadata": {},
   "source": [
    "Accessing elements of List\n",
    "In order to access the list items refer to the index number.\n",
    "Use the index operator [ ] to access an item in a list.\n",
    "\n",
    "In Python, negative sequence indexes represent positions\n",
    "from the end of the array. Instead of having to compute\n",
    "the offset as in List[len(List)-3], it is enough to just\n",
    "write List[-3]. Negative indexing means beginning from the\n",
    "end, -1 refers to the last item, -2 refers to the second-last item, etc."
   ]
  },
  {
   "cell_type": "code",
   "execution_count": 4,
   "id": "912a7e68",
   "metadata": {},
   "outputs": [
    {
     "name": "stdout",
     "output_type": "stream",
     "text": [
      "Accessing element from the list\n",
      "Happiness\n",
      "Life\n",
      "Accessing element using negative indexing\n",
      "Life\n",
      "Happiness\n"
     ]
    }
   ],
   "source": [
    "# Python program to demonstrate accessing of element from list\n",
    "\n",
    "# Creating a List with the use of multiple values\n",
    "List = [\"Happiness\", \"For\", \"Life\"]\n",
    "\n",
    "# accessing a element from the list using index number\n",
    "print(\"Accessing element from the list\")\n",
    "print(List[0])\n",
    "print(List[2])\n",
    "\n",
    "# accessing a element using negative indexing\n",
    "print(\"Accessing element using negative indexing\")\n",
    "\n",
    "# print the last element of list\n",
    "print(List[-1])\n",
    "\n",
    "# print the third last element of list\n",
    "print(List[-3])\n"
   ]
  },
  {
   "cell_type": "code",
   "execution_count": 12,
   "id": "41652e34",
   "metadata": {},
   "outputs": [
    {
     "name": "stdout",
     "output_type": "stream",
     "text": [
      "python\n",
      "101\n",
      "[7.79, 101]\n",
      "[7.79, 101, 'hello']\n",
      "['python', 7.79, 101, 'hello', 'god', 6.78, 9]\n",
      "['god', 6.78, 9, 'god', 6.78, 9, 'god', 6.78, 9]\n",
      "['python', 7.79, 45, 'hello']\n",
      "['python', 7.79, 'program', 45, 'hello']\n",
      "None\n",
      "['python', 7.79, 'program', 'hello']\n"
     ]
    }
   ],
   "source": [
    "#basic operations on list\n",
    "list1=[\"python\", 7.79, 101, \"hello\"]\n",
    "list2=[\"god\",6.78, 9]\n",
    "       \n",
    "#indexing\n",
    "print(list1[0])\n",
    "print(list1[2])\n",
    "\n",
    "#slicing\n",
    "print(list1[1:3])\n",
    "print(list1[1:])\n",
    "\n",
    "#concatenation\n",
    "print(list1+list2)\n",
    "\n",
    "#repetition\n",
    "print(list2*3)\n",
    "\n",
    "#updating the list\n",
    "list1[2]=45\n",
    "print(list1)\n",
    "\n",
    "#inserting an element\n",
    "list1.insert(2,\"program\")\n",
    "print(list1)\n",
    "\n",
    "#removing an element\n",
    "print(list1.remove(45))\n",
    "print(list1)"
   ]
  },
  {
   "cell_type": "markdown",
   "id": "1fc6d7b7",
   "metadata": {},
   "source": [
    "3) Tuple\n",
    "Just like list, tuple is also an ordered collection of Python objects.\n",
    "The only difference between tuple and list is that tuples are immutable\n",
    "i.e. tuples cannot be modified after it is created.\n",
    "It is represented by tuple class.\n",
    " \n",
    "\n",
    "Creating Tuple\n",
    "In Python, tuples are created by placing a sequence of values separated\n",
    "by ‘comma’ with or without the use of parentheses for grouping of the\n",
    "data sequence. Tuples can contain any number of elements and of any\n",
    "datatype (like strings, integers, list, etc.).\n",
    "\n",
    "Note: Tuples can also be created with a single element, but it is a\n",
    "bit tricky. Having one element in the parentheses is not sufficient,\n",
    "there must be a trailing ‘comma’ to make it a tuple."
   ]
  },
  {
   "cell_type": "code",
   "execution_count": 5,
   "id": "9387b150",
   "metadata": {},
   "outputs": [
    {
     "name": "stdout",
     "output_type": "stream",
     "text": [
      "Initial empty Tuple: \n",
      "()\n",
      "\n",
      "Tuple with the use of String: \n",
      "('Happiness', 'For')\n",
      "\n",
      "Tuple using List: \n",
      "(1, 2, 4, 5, 6)\n",
      "\n",
      "Tuple with the use of function: \n",
      "('H', 'a', 'p', 'p', 'i', 'n', 'e', 's', 's')\n",
      "\n",
      "Tuple with nested tuples: \n",
      "((0, 1, 2, 3), ('python', 'geek'))\n"
     ]
    }
   ],
   "source": [
    "# Python program to demonstrate creation of tuple\n",
    "\n",
    "# Creating an empty tuple\n",
    "Tuple1 = ()\n",
    "print(\"Initial empty Tuple: \")\n",
    "print (Tuple1)\n",
    "\n",
    "# Creating a Tuple with the use of Strings\n",
    "Tuple1 = ('Happiness', 'For')\n",
    "print(\"\\nTuple with the use of String: \")\n",
    "print(Tuple1)\n",
    "\n",
    "# Creating a Tuple with the use of list\n",
    "list1 = [1, 2, 4, 5, 6]\n",
    "print(\"\\nTuple using List: \")\n",
    "print(tuple(list1))\n",
    "\n",
    "# Creating a Tuple with the use of built-in function\n",
    "Tuple1 = tuple('Happiness')\n",
    "print(\"\\nTuple with the use of function: \")\n",
    "print(Tuple1)\n",
    "\n",
    "# Creating a Tuple with nested tuples\n",
    "Tuple1 = (0, 1, 2, 3)\n",
    "Tuple2 = ('python', 'geek')\n",
    "Tuple3 = (Tuple1, Tuple2)\n",
    "print(\"\\nTuple with nested tuples: \")\n",
    "print(Tuple3)\n"
   ]
  },
  {
   "cell_type": "markdown",
   "id": "a76b1764",
   "metadata": {},
   "source": [
    "Note – Creation of Python tuple without the use of parentheses is known as Tuple Packing.\n",
    "\n",
    "Accessing elements of Tuple\n",
    "In order to access the tuple items refer to the index number.\n",
    "Use the index operator [] to access an item in a tuple.\n",
    "The index must be an integer. Nested tuples are accessed using nested indexing."
   ]
  },
  {
   "cell_type": "code",
   "execution_count": 13,
   "id": "cacc0054",
   "metadata": {},
   "outputs": [
    {
     "name": "stdout",
     "output_type": "stream",
     "text": [
      "First element of tuple\n",
      "1\n",
      "\n",
      "Last element of tuple\n",
      "5\n",
      "\n",
      "Third last element of tuple\n",
      "3\n"
     ]
    }
   ],
   "source": [
    "# Python program to demonstrate accessing tuple\n",
    "tuple1 = tuple([1, 2, 3, 4, 5])\n",
    "\n",
    "# Accessing element using indexing\n",
    "print(\"First element of tuple\")\n",
    "print(tuple1[0])\n",
    "\n",
    "# Accessing element from last negative indexing\n",
    "print(\"\\nLast element of tuple\")\n",
    "print(tuple1[-1])\n",
    "print(\"\\nThird last element of tuple\")\n",
    "print(tuple1[-3])\n"
   ]
  },
  {
   "cell_type": "code",
   "execution_count": 14,
   "id": "dccca417",
   "metadata": {},
   "outputs": [
    {
     "name": "stdout",
     "output_type": "stream",
     "text": [
      "python\n",
      "101\n",
      "(7.79, 101)\n",
      "('python', 7.79, 101)\n",
      "(7.79, 101, 'hello')\n",
      "('python', 7.79, 101, 'hello', 'ram', 67)\n",
      "('python', 7.79, 101, 'hello', 'python', 7.79, 101, 'hello')\n"
     ]
    },
    {
     "ename": "TypeError",
     "evalue": "'tuple' object does not support item assignment",
     "output_type": "error",
     "traceback": [
      "\u001b[1;31m---------------------------------------------------------------------------\u001b[0m",
      "\u001b[1;31mTypeError\u001b[0m                                 Traceback (most recent call last)",
      "\u001b[1;32m~\\AppData\\Local\\Temp\\ipykernel_2800\\949219155.py\u001b[0m in \u001b[0;36m<module>\u001b[1;34m\u001b[0m\n\u001b[0;32m     19\u001b[0m \u001b[1;33m\u001b[0m\u001b[0m\n\u001b[0;32m     20\u001b[0m \u001b[1;31m#altering\u001b[0m\u001b[1;33m\u001b[0m\u001b[1;33m\u001b[0m\u001b[0m\n\u001b[1;32m---> 21\u001b[1;33m \u001b[0mt\u001b[0m\u001b[1;33m[\u001b[0m\u001b[1;36m0\u001b[0m\u001b[1;33m]\u001b[0m\u001b[1;33m=\u001b[0m\u001b[1;34m'a'\u001b[0m\u001b[1;33m\u001b[0m\u001b[1;33m\u001b[0m\u001b[0m\n\u001b[0m\u001b[0;32m     22\u001b[0m \u001b[0mprint\u001b[0m\u001b[1;33m(\u001b[0m\u001b[0mt\u001b[0m\u001b[1;33m)\u001b[0m\u001b[1;33m\u001b[0m\u001b[1;33m\u001b[0m\u001b[0m\n",
      "\u001b[1;31mTypeError\u001b[0m: 'tuple' object does not support item assignment"
     ]
    }
   ],
   "source": [
    "#basic tuple operations\n",
    "t=(\"python\", 7.79, 101, \"hello\")\n",
    "\n",
    "#indexing\n",
    "print(t[0])\n",
    "print(t[2])\n",
    "\n",
    "#slicing\n",
    "print(t[1:3])\n",
    "print(t[:3])\n",
    "print(t[1:])\n",
    "\n",
    "#concatenation\n",
    "t2= t + (\"ram\", 67)\n",
    "print(t2)\n",
    "\n",
    "#Repetition\n",
    "print(t*2)\n",
    "\n",
    "#altering\n",
    "t[0]='a'\n",
    "print(t)"
   ]
  },
  {
   "cell_type": "code",
   "execution_count": null,
   "id": "0edd2208",
   "metadata": {},
   "outputs": [],
   "source": [
    "#Tuple Assignment:\n",
    "\n",
    "#An assignment to all of the elements in a tuple using a single assignment statement.\n",
    "#Python has a very powerful tuple assignment feature that allows a tuple of\n",
    "#variables on the left of an assignment to be assigned values from a tuple on the right of the assignment.\n",
    "#The left side is a tuple of variables; the right side is a tuple of values.\n",
    "#Each value is assigned to its respective variable.\n",
    "#$All the expressions on the right side are evaluated before any of the assignments.\n",
    "#This feature makes tuple assignment quite versatile.\n",
    "#Naturally, the number of variables on the left and the number of values on the right have to be the same.\n",
    "\n",
    "(a, b, c) = (1, 2, 3)\n",
    "print(a)\n",
    "print(b)\n",
    "print(c)\n",
    "\n"
   ]
  },
  {
   "cell_type": "code",
   "execution_count": null,
   "id": "85de0ce8",
   "metadata": {},
   "outputs": [],
   "source": [
    "#(a, b, c, d) = (1, 2, 3)\n",
    "#ValueError: need more than 3 values to unpack\n",
    "\n",
    "(a, b, c, d) = (1, 2, 3)\n",
    "\n",
    "\n"
   ]
  },
  {
   "cell_type": "code",
   "execution_count": null,
   "id": "b916f4ce",
   "metadata": {},
   "outputs": [],
   "source": [
    "#-Tuple assignment solves this problem neatly:\n",
    "(a, b) = (b, a)\n",
    "#swaping\n",
    "\n",
    "\n",
    "#One way to think of tuple assignment is as tuple packing/unpacking.\n",
    "\n",
    "#In tuple packing, the values on the left are ‘packed’ together in a tuple:\n",
    "b = (\"George\",25,\"20000\") # tuple packing\n",
    "\n",
    "\n",
    "#In tuple unpacking, the values in a tuple on the right are ‘unpacked ‘into the variables/names on the right:\n",
    "b = (\"George\", 25, \"20000\") # tuple packing\n",
    "\n",
    "\n",
    "(name, age, salary)=b # tupleunpacking\n",
    "\n",
    "\n",
    "print(name) #'George'\n",
    "print(age) #25\n",
    "print(salary) #'20000'"
   ]
  },
  {
   "cell_type": "code",
   "execution_count": null,
   "id": "e99bd2eb",
   "metadata": {},
   "outputs": [],
   "source": []
  },
  {
   "cell_type": "markdown",
   "id": "6a5149d6",
   "metadata": {},
   "source": [
    "Sets:\n",
    "In Python, Set is an unordered collection of data type that is iterable,\n",
    "mutable and has no duplicate elements. The order of elements in a set\n",
    "is undefined though it may consist of various elements.\n",
    "\n",
    "Creating Sets\n",
    "Sets can be created by using the built-in set() function with an\n",
    "iterable object or a sequence by placing the sequence inside curly\n",
    "braces, separated by ‘comma’. Type of elements in a set need not be\n",
    "the same, various mixed-up data type values can also be passed to the set."
   ]
  },
  {
   "cell_type": "code",
   "execution_count": 15,
   "id": "50bb5745",
   "metadata": {},
   "outputs": [
    {
     "name": "stdout",
     "output_type": "stream",
     "text": [
      "Initial blank Set: \n",
      "set()\n",
      "\n",
      "Set with the use of String: \n",
      "{'H', 'a', 's', 'o', 'n', 'i', 'L', 'f', 'r', 'F', 'p', 'e'}\n",
      "\n",
      "Set with the use of List: \n",
      "{'Happiness', 'Life', 'For'}\n",
      "\n",
      "Set with the use of Mixed Values\n",
      "{1, 2, 'For', 4, 6, 'Happiness', 'Life'}\n"
     ]
    }
   ],
   "source": [
    "# Python program to demonstrate Creation of Set in Python\n",
    "\n",
    "# Creating a Set\n",
    "set1 = set()\n",
    "print(\"Initial blank Set: \")\n",
    "print(set1)\n",
    "\n",
    "# Creating a Set with the use of a String\n",
    "set1 = set(\"HappinessForLife\")\n",
    "print(\"\\nSet with the use of String: \")\n",
    "print(set1)\n",
    "\n",
    "# Creating a Set with the use of a List\n",
    "set1 = set([\"Happiness\", \"For\", \"Life\"])\n",
    "print(\"\\nSet with the use of List: \")\n",
    "print(set1)\n",
    "\n",
    "# Creating a Set with a mixed type of values (Having numbers and strings)\n",
    "set1 = set([1, 2, 'Happiness', 4, 'For', 6, 'Life'])\n",
    "print(\"\\nSet with the use of Mixed Values\")\n",
    "print(set1)"
   ]
  },
  {
   "cell_type": "markdown",
   "id": "17ec7944",
   "metadata": {},
   "source": [
    "Accessing elements of Sets\n",
    "Set items cannot be accessed by referring to an index,\n",
    "since sets are unordered the items has no index. But you\n",
    "can loop through the set items using a for loop, or ask if\n",
    "a specified value is present in a set, by using the in keyword."
   ]
  },
  {
   "cell_type": "code",
   "execution_count": 19,
   "id": "e4c32b5b",
   "metadata": {},
   "outputs": [
    {
     "name": "stdout",
     "output_type": "stream",
     "text": [
      "\n",
      "Initial set\n",
      "{'Happiness', 'Life', 'For'}\n",
      "<class 'set'>\n",
      "\n",
      "Elements of set: \n",
      "Happiness\n",
      "Life\n",
      "For\n",
      "True\n"
     ]
    }
   ],
   "source": [
    "# Python program to demonstrate Accessing of elements in a set\n",
    "\n",
    "# Creating a set\n",
    "set1 = set([\"Happiness\", \"For\", \"Life\"])\n",
    "print(\"\\nInitial set\")\n",
    "print(set1)\n",
    "print(type(set1))\n",
    "\n",
    "# Accessing element using for loop\n",
    "print(\"\\nElements of set: \")\n",
    "for i in set1:\n",
    "\t#print(i, end =\" \")\n",
    "    print(i)\n",
    "    \n",
    "# Checking the element using in keyword\n",
    "print(\"Happiness\" in set1)\n"
   ]
  },
  {
   "cell_type": "code",
   "execution_count": 47,
   "id": "8277798e",
   "metadata": {},
   "outputs": [
    {
     "name": "stdout",
     "output_type": "stream",
     "text": [
      "{(1, 2, 3), 'Connor', '32'}\n",
      "{1, 45, 46}\n"
     ]
    }
   ],
   "source": [
    "#The most common way of creating a set in Python is by using the built-in set() function.\n",
    "first_set = set((\"Connor\", \"32\", (1, 2, 3)))\n",
    "print(first_set)\n",
    "second_set = set((1, 45, 46))\n",
    "print(second_set)"
   ]
  },
  {
   "cell_type": "code",
   "execution_count": 21,
   "id": "99df26f5",
   "metadata": {},
   "outputs": [
    {
     "name": "stdout",
     "output_type": "stream",
     "text": [
      "{('Bananas', 'Oranges'), 'Apples'}\n"
     ]
    },
    {
     "data": {
      "text/plain": [
       "set"
      ]
     },
     "execution_count": 21,
     "metadata": {},
     "output_type": "execute_result"
    }
   ],
   "source": [
    "#You can also create sets using the curly brace {} syntax:\n",
    "third_set = {\"Apples\", (\"Bananas\", \"Oranges\")}\n",
    "print(third_set)\n",
    "type(third_set)"
   ]
  },
  {
   "cell_type": "code",
   "execution_count": 38,
   "id": "3513655b",
   "metadata": {},
   "outputs": [
    {
     "name": "stdout",
     "output_type": "stream",
     "text": [
      "Normal Set\n",
      "{'a', 'b', 'c'}\n",
      "{'a', 'h', 'b', 'c'}\n",
      " \n",
      "\n",
      "Frozen Set\n",
      "frozenset({'f', 'g', 'e'})\n"
     ]
    },
    {
     "ename": "AttributeError",
     "evalue": "'frozenset' object has no attribute 'add'",
     "output_type": "error",
     "traceback": [
      "\u001b[1;31m---------------------------------------------------------------------------\u001b[0m",
      "\u001b[1;31mAttributeError\u001b[0m                            Traceback (most recent call last)",
      "\u001b[1;32m~\\AppData\\Local\\Temp\\ipykernel_11600\\2264115715.py\u001b[0m in \u001b[0;36m<module>\u001b[1;34m\u001b[0m\n\u001b[0;32m     32\u001b[0m \u001b[1;31m# Uncommenting below line would cause error as\u001b[0m\u001b[1;33m\u001b[0m\u001b[1;33m\u001b[0m\u001b[0m\n\u001b[0;32m     33\u001b[0m \u001b[1;31m# we are trying to add element to a frozen set\u001b[0m\u001b[1;33m\u001b[0m\u001b[1;33m\u001b[0m\u001b[0m\n\u001b[1;32m---> 34\u001b[1;33m \u001b[0mfrozen_set\u001b[0m\u001b[1;33m.\u001b[0m\u001b[0madd\u001b[0m\u001b[1;33m(\u001b[0m\u001b[1;34m\"h\"\u001b[0m\u001b[1;33m)\u001b[0m\u001b[1;33m\u001b[0m\u001b[1;33m\u001b[0m\u001b[0m\n\u001b[0m",
      "\u001b[1;31mAttributeError\u001b[0m: 'frozenset' object has no attribute 'add'"
     ]
    }
   ],
   "source": [
    "#Python Frozen Sets\n",
    "#While elements of a set can be modified at any time,\n",
    "#elements of the frozen set remain the same after creation. \n",
    "#If no parameters are passed, it returns an empty frozenset.\n",
    "# Python program to demonstrate differences\n",
    "# between normal and frozen set\n",
    "\n",
    "# Same as {\"a\", \"b\",\"c\"}\n",
    "normal_set = set([\"a\", \"b\",\"c\"])\n",
    "\n",
    "print(\"Normal Set\")\n",
    "print(normal_set)\n",
    "normal_set.add(\"h\")\n",
    "print(normal_set)\n",
    "print(\" \")\n",
    "\n",
    "# A frozen set\n",
    "frozen_set = frozenset([\"e\", \"f\", \"g\"])\n",
    "\n",
    "print(\"\\nFrozen Set\")\n",
    "print(frozen_set)\n",
    "\n",
    "# Uncommenting below line would cause error as\n",
    "# we are trying to add element to a frozen set\n",
    "frozen_set.add(\"h\")\n"
   ]
  },
  {
   "cell_type": "code",
   "execution_count": 22,
   "id": "91eeac85",
   "metadata": {},
   "outputs": [
    {
     "name": "stdout",
     "output_type": "stream",
     "text": [
      "Initial set\n",
      "{1, 2, 3, 4, 5, 6}\n",
      "\n",
      "Set after using clear() function\n",
      "set()\n"
     ]
    }
   ],
   "source": [
    "# Python program to demonstrate clearing of set\n",
    "set1 = {1,2,3,4,5,6}\n",
    "print(\"Initial set\")\n",
    "print(set1)\n",
    "# This method will remove all the elements of the set\n",
    "set1.clear()\n",
    "print(\"\\nSet after using clear() function\")\n",
    "print(set1)"
   ]
  },
  {
   "cell_type": "markdown",
   "id": "fd569cfb",
   "metadata": {},
   "source": [
    "Dictionary\n",
    "Dictionary in Python is an unordered collection of data values,\n",
    "used to store data values like a map, which unlike other Data Types\n",
    "that hold only single value as an element, Dictionary holds key:value pair.\n",
    "Key-value is provided in the dictionary to make it more optimized.\n",
    "Each key-value pair in a Dictionary is separated by a colon :,\n",
    "whereas each key is separated by a ‘comma’.\n",
    "\n",
    "Creating Dictionary\n",
    "In Python, a Dictionary can be created by placing a sequence of\n",
    "elements within curly {} braces, separated by ‘comma’. Values in\n",
    "a dictionary can be of any datatype and can be duplicated, whereas\n",
    "keys can’t be repeated and must be immutable. Dictionary can also\n",
    "be created by the built-in function dict(). An empty dictionary can\n",
    "be created by just placing it to curly braces{}.\n",
    "\n",
    "Note – Dictionary keys are case sensitive, same name but different\n",
    "cases of Key will be treated distinctly."
   ]
  },
  {
   "cell_type": "code",
   "execution_count": 23,
   "id": "913b58dc",
   "metadata": {},
   "outputs": [
    {
     "name": "stdout",
     "output_type": "stream",
     "text": [
      "Empty Dictionary: \n",
      "{}\n",
      "\n",
      "Dictionary with the use of Integer Keys: \n",
      "{1: 'Happiness', 2: 'For', 3: 'Life'}\n",
      "\n",
      "Dictionary with the use of Mixed Keys: \n",
      "{'Name': 'Happiness', 1: [1, 2, 3, 4]}\n",
      "\n",
      "Dictionary with the use of dict(): \n",
      "{1: 'Happiness', 2: 'For', 3: 'Life'}\n",
      "\n",
      "Dictionary with each item as a pair: \n",
      "{1: 'Happiness', 2: 'For'}\n"
     ]
    }
   ],
   "source": [
    "# Creating an empty Dictionary\n",
    "Dict = {}\n",
    "print(\"Empty Dictionary: \")\n",
    "print(Dict)\n",
    "\n",
    "# Creating a Dictionary with Integer Keys\n",
    "Dict = {1: 'Happiness', 2: 'For', 3: 'Life'}\n",
    "print(\"\\nDictionary with the use of Integer Keys: \")\n",
    "print(Dict)\n",
    "\n",
    "# Creating a Dictionary with Mixed keys\n",
    "Dict = {'Name': 'Happiness', 1: [1, 2, 3, 4]}\n",
    "print(\"\\nDictionary with the use of Mixed Keys: \")\n",
    "print(Dict)\n",
    "\n",
    "# Creating a Dictionary with dict() method\n",
    "Dict = dict({1: 'Happiness', 2: 'For', 3:'Life'})\n",
    "print(\"\\nDictionary with the use of dict(): \")\n",
    "print(Dict)\n",
    "\n",
    "# Creating a Dictionary with each item as a Pair\n",
    "Dict = dict([(1, 'Happiness'), (2, 'For')])\n",
    "print(\"\\nDictionary with each item as a pair: \")\n",
    "print(Dict)\n"
   ]
  },
  {
   "cell_type": "markdown",
   "id": "0f6a4c8e",
   "metadata": {},
   "source": [
    "Accessing elements of Dictionary\n",
    "In order to access the items of a dictionary refer to its key name.\n",
    "Key can be used inside square brackets. There is also a method called\n",
    "get() that will also help in accessing the element from a dictionary."
   ]
  },
  {
   "cell_type": "code",
   "execution_count": 6,
   "id": "cc9930a3",
   "metadata": {},
   "outputs": [
    {
     "name": "stdout",
     "output_type": "stream",
     "text": [
      "Accessing a element using key:\n",
      "For\n",
      "Accessing a element using get:\n",
      "Life\n"
     ]
    }
   ],
   "source": [
    "# Python program to demonstrate accessing a element from a Dictionary\n",
    "\n",
    "# Creating a Dictionary\n",
    "Dict = {1: 'Happiness', 'name': 'For', 3: 'Life'}\n",
    "\n",
    "# accessing a element using key\n",
    "print(\"Accessing a element using key:\")\n",
    "print(Dict['name'])\n",
    "\n",
    "# accessing a element using get() method\n",
    "print(\"Accessing a element using get:\")\n",
    "print(Dict.get(3))\n"
   ]
  },
  {
   "cell_type": "code",
   "execution_count": 1,
   "id": "8c8dd7eb",
   "metadata": {},
   "outputs": [],
   "source": [
    "#Dictionary Example\n",
    "\n",
    "x = {1: \"one\", 2: \"two\", 3: \"three\"}\n",
    "y = {'first': 1, (\"Python\", \"Year\"): (\"Love\", 1991)}"
   ]
  },
  {
   "cell_type": "code",
   "execution_count": 2,
   "id": "ca9f5bc6",
   "metadata": {},
   "outputs": [],
   "source": [
    "#Creates an empty dictionary or a dictionary with some initial values.\n",
    "y = {}\n",
    "x = {1: \"one\", 2: \"two\", 3: \"three\"}"
   ]
  },
  {
   "cell_type": "code",
   "execution_count": 53,
   "id": "c193c19f",
   "metadata": {},
   "outputs": [
    {
     "name": "stdout",
     "output_type": "stream",
     "text": [
      "{'one': 1, 'two': 2}\n",
      "{'one': 1, 'two': 'dos'}\n"
     ]
    }
   ],
   "source": [
    "#Mutable operations\n",
    "# 1. [ ]\n",
    "#Adds a new pair of key and value to the dictionary,\n",
    "#but in case that the key already exists in the dictionary,\n",
    "#we can update the value.\n",
    "y = {}\n",
    "y['one'] = 1\n",
    "y['two'] = 2\n",
    "print(y)\n",
    "#y = {'one': 1, 'two': 2}\n",
    "y['two'] = 'dos'\n",
    "print(y)\n",
    "#{'one': 1, 'two': 'dos'}"
   ]
  },
  {
   "cell_type": "code",
   "execution_count": 4,
   "id": "d961eb22",
   "metadata": {},
   "outputs": [
    {
     "name": "stdout",
     "output_type": "stream",
     "text": [
      "{'one': 1, 'two': 2}\n",
      "{'one': 1}\n"
     ]
    }
   ],
   "source": [
    "#2. del\n",
    "#Del statement can be used to remove an entry\n",
    "#(key-value pair) from a dictionary.\n",
    "y = {'one': 1, 'two': 2}\n",
    "print(y)\n",
    "#{'one': 1, 'two': 2}\n",
    "del y['two']\n",
    "print(y)\n",
    "#{'one': 1}"
   ]
  },
  {
   "cell_type": "code",
   "execution_count": 55,
   "id": "b17f4e9a",
   "metadata": {},
   "outputs": [
    {
     "name": "stdout",
     "output_type": "stream",
     "text": [
      "{'one': 1, 'two': 2, 'three': 3}\n"
     ]
    }
   ],
   "source": [
    "#3. update\n",
    "#This method updates a first dictionary with all\n",
    "#the key-value pairs of a second dictionary. Keys\n",
    "#that are common to both dictionaries, the values\n",
    "#from the second dictionary override those of the first.\n",
    "x = {'one': 0, 'two': 2}\n",
    "y = {'one': 1, 'three': 3}\n",
    "x.update(y)\n",
    "print(x)"
   ]
  },
  {
   "cell_type": "code",
   "execution_count": 57,
   "id": "fc61bc1b",
   "metadata": {},
   "outputs": [
    {
     "name": "stdout",
     "output_type": "stream",
     "text": [
      "2\n"
     ]
    }
   ],
   "source": [
    "#Immutable operations\n",
    "#These operations allow us to work with dictionaries without\n",
    "#altering or modifying their previous definition.\n",
    "#1. len\n",
    "#Returns the number of entries (key-value pairs) in a dictionary.\n",
    "\n",
    "x = {'one': 0, 'two': 2}\n",
    "print(len(x))"
   ]
  },
  {
   "cell_type": "code",
   "execution_count": 58,
   "id": "dcf37c53",
   "metadata": {},
   "outputs": [
    {
     "name": "stdout",
     "output_type": "stream",
     "text": [
      "dict_keys(['one', 'two'])\n"
     ]
    }
   ],
   "source": [
    "#2. keys\n",
    "#This method allows you to get all the keys in the dictionary.\n",
    "#It is often used in a “for loop” to iterate over the content of a dictionary.\n",
    "x = {'one': 1, 'two': 2}\n",
    "print(x.keys())"
   ]
  },
  {
   "cell_type": "code",
   "execution_count": 59,
   "id": "6dd281db",
   "metadata": {},
   "outputs": [
    {
     "name": "stdout",
     "output_type": "stream",
     "text": [
      "dict_values([1, 2])\n"
     ]
    }
   ],
   "source": [
    "#3. values\n",
    "#This method allows you to obtain all the values stored in a dictionary.\n",
    "x = {'one': 1, 'two': 2}\n",
    "print(x.values())"
   ]
  },
  {
   "cell_type": "code",
   "execution_count": 60,
   "id": "23a0299a",
   "metadata": {},
   "outputs": [
    {
     "name": "stdout",
     "output_type": "stream",
     "text": [
      "dict_items([('one', 1), ('two', 2)])\n"
     ]
    }
   ],
   "source": [
    "#4. items\n",
    "#Returns all the keys and their associated values as a sequence of tuples.\n",
    "x = {'one': 1, 'two': 2}\n",
    "print(x.items())"
   ]
  },
  {
   "cell_type": "code",
   "execution_count": 24,
   "id": "c5e8898e",
   "metadata": {},
   "outputs": [
    {
     "ename": "KeyError",
     "evalue": "'three'",
     "output_type": "error",
     "traceback": [
      "\u001b[1;31m---------------------------------------------------------------------------\u001b[0m",
      "\u001b[1;31mKeyError\u001b[0m                                  Traceback (most recent call last)",
      "\u001b[1;32m~\\AppData\\Local\\Temp\\ipykernel_2800\\1468785405.py\u001b[0m in \u001b[0;36m<module>\u001b[1;34m\u001b[0m\n\u001b[0;32m      5\u001b[0m \u001b[1;31m#and False otherwise.\u001b[0m\u001b[1;33m\u001b[0m\u001b[1;33m\u001b[0m\u001b[0m\n\u001b[0;32m      6\u001b[0m \u001b[0my\u001b[0m \u001b[1;33m=\u001b[0m \u001b[1;33m{\u001b[0m\u001b[1;34m'one'\u001b[0m\u001b[1;33m:\u001b[0m \u001b[1;36m1\u001b[0m\u001b[1;33m,\u001b[0m \u001b[1;34m'two'\u001b[0m\u001b[1;33m:\u001b[0m \u001b[1;36m2\u001b[0m\u001b[1;33m}\u001b[0m\u001b[1;33m\u001b[0m\u001b[1;33m\u001b[0m\u001b[0m\n\u001b[1;32m----> 7\u001b[1;33m \u001b[1;32mdel\u001b[0m \u001b[0my\u001b[0m\u001b[1;33m[\u001b[0m\u001b[1;34m'three'\u001b[0m\u001b[1;33m]\u001b[0m\u001b[1;33m\u001b[0m\u001b[1;33m\u001b[0m\u001b[0m\n\u001b[0m",
      "\u001b[1;31mKeyError\u001b[0m: 'three'"
     ]
    }
   ],
   "source": [
    "#5. in\n",
    "#Attempting to access a key that is not in a dictionary will raise an exception.\n",
    "y = {'one': 1, 'two': 2}\n",
    "del y['three']"
   ]
  },
  {
   "cell_type": "code",
   "execution_count": 8,
   "id": "c655e3fa",
   "metadata": {},
   "outputs": [
    {
     "name": "stdout",
     "output_type": "stream",
     "text": [
      "key does not exists\n"
     ]
    }
   ],
   "source": [
    "#5. in\n",
    "#To handle this exception, you can use the in method that test whether a key exists\n",
    "#in a dictionary, returns True if a dictionary has a value stored under the given key\n",
    "#and False otherwise.\n",
    "\n",
    "y = {'one': 1, 'two': 2}\n",
    "if 'three' in y: \n",
    "    del y['three']\n",
    "    print(y)\n",
    "else:\n",
    "    print(\"key does not exists\")"
   ]
  },
  {
   "cell_type": "code",
   "execution_count": 25,
   "id": "6618ea96",
   "metadata": {},
   "outputs": [
    {
     "name": "stdout",
     "output_type": "stream",
     "text": [
      "1\n",
      "The key does not exist.\n",
      "None\n",
      "{'one': 1, 'two': 2}\n"
     ]
    }
   ],
   "source": [
    "#6. get\n",
    "#Returns the value associated with a key if the dictionary contains that key,\n",
    "#in case that the dictionary does not contain the key,\n",
    "#you can specified a second optional argument to return a default value,\n",
    "#if the argument is not included get method will return None.\n",
    "\n",
    "y = {'one': 1, 'two': 2}\n",
    "print(y.get('one'))\n",
    "print(y.get('three', 'The key does not exist.'))\n",
    "print(y.get('three'))\n",
    "print(y)"
   ]
  },
  {
   "cell_type": "code",
   "execution_count": 67,
   "id": "788f3e4b",
   "metadata": {},
   "outputs": [
    {
     "name": "stdout",
     "output_type": "stream",
     "text": [
      "3\n",
      "dos\n",
      "None\n",
      "{'one': 1, 'two': 2, 'three': '3', 'four': 'dos', 'five': None}\n"
     ]
    }
   ],
   "source": [
    "#setdefault\n",
    "\n",
    "#This method is similar to get method, it returns the value associated\n",
    "#with a key if the dictionary contains that key, but in case that the\n",
    "#dictionary does not contain the key, this method will create a new\n",
    "#element in the dictionary (key-value pair), where the first argument\n",
    "#in this method is the key, and the second argument is the value. The\n",
    "#second argument is optional, but if this is not included, the value\n",
    "#will be None.\n",
    "\n",
    "y = {'one': 1, 'two': 2}\n",
    "print(y.setdefault('three', '3'))\n",
    "print(y.setdefault('four', 'dos'))\n",
    "print(y.setdefault('five'))\n",
    "print(y)"
   ]
  },
  {
   "cell_type": "markdown",
   "id": "48a9845d",
   "metadata": {},
   "source": [
    "#Operators\n",
    "\n",
    "Operators are the constructs which can manipulate the value of operands.\n",
    "Consider the expression 4 + 5 = 9. Here, 4 and 5 are called operands and + is called operator\n",
    "Types of Operators:\n",
    "Python language supports the following types of operators\n",
    "Arithmetic Operators\n",
    "Comparison (Relational)Operators\n",
    "Assignment Operators\n",
    "Logical Operators\n",
    "Bitwise Operators\n",
    "Membership Operators\n",
    "Identity Operators\n"
   ]
  },
  {
   "cell_type": "code",
   "execution_count": 23,
   "id": "695ac6c4",
   "metadata": {},
   "outputs": [
    {
     "name": "stdout",
     "output_type": "stream",
     "text": [
      "a+b= 15\n",
      "a-b= 5\n",
      "a*b= 50\n",
      "a/b= 2.0\n",
      "a%b= 0\n",
      "a//b= 2\n",
      "a**b= 100000\n"
     ]
    }
   ],
   "source": [
    "#Addition Operation\n",
    "\n",
    "#They are used to perform mathematical operations like addition,\n",
    "#subtraction, multiplication etc.\n",
    "\n",
    "a=10\n",
    "b=5\n",
    "print(\"a+b=\",a+b)\n",
    "print(\"a-b=\",a-b)\n",
    "print(\"a*b=\",a*b)\n",
    "print(\"a/b=\",a/b)\n",
    "print(\"a%b=\",a%b)\n",
    "print(\"a//b=\",a//b)\n",
    "print(\"a**b=\",a**b)\n",
    "\n"
   ]
  },
  {
   "cell_type": "code",
   "execution_count": 31,
   "id": "3cf0e555",
   "metadata": {},
   "outputs": [
    {
     "name": "stdout",
     "output_type": "stream",
     "text": [
      "a>b=> True\n",
      "a>b=> False\n",
      "a==b=> False\n",
      "a!=b=> True\n",
      "a>=b=> False\n",
      "a>=b=> True\n"
     ]
    }
   ],
   "source": [
    "#Comparison Operators\n",
    "\n",
    "#Comparison operators are used to compare values.\n",
    "#It either returns True or False according to\n",
    "#the condition. Assume,\n",
    "\n",
    "\n",
    "\n",
    "a=10\n",
    "b=5\n",
    "print(\"a>b=>\",a>b)\n",
    "print(\"a<b=>\",a<b)\n",
    "print(\"a==b=>\",a==b)\n",
    "print(\"a!=b=>\",a!=b)\n",
    "print(\"a<=b=>\",a<=b)\n",
    "print(\"a>=b=>\",a>=b)\n",
    "\n",
    "\n",
    "\n"
   ]
  },
  {
   "cell_type": "code",
   "execution_count": 32,
   "id": "872739b6",
   "metadata": {},
   "outputs": [
    {
     "name": "stdout",
     "output_type": "stream",
     "text": [
      "Line 1 - Value of c is  31\n",
      "Line 2 - Value of c is  52\n",
      "Line 3 - Value of c is  1092\n",
      "Line 4 - Value of c is  52.0\n",
      "Line 5 - Value of c is  2\n",
      "Line 6 - Value of c is  2097152\n",
      "Line 7 - Value of c is  99864\n"
     ]
    }
   ],
   "source": [
    "#Assignment Operator\n",
    "\n",
    "a =21\n",
    "b =10\n",
    "c = 0\n",
    "c = a + b\n",
    "print(\"Line 1 - Value of c is \",c)\n",
    "c += a\n",
    "print(\"Line 2 - Value of c is \", c)\n",
    "c *= a\n",
    "print(\"Line 3 - Value of c is \",c)\n",
    "c /= a\n",
    "print(\"Line 4 - Value of c is \", c)\n",
    "c = 2\n",
    "c %=a\n",
    "print(\"Line 5 - Value of c is \",c)\n",
    "c **= a\n",
    "print(\"Line 6 - Value of c is \",c)\n",
    "c //= a\n",
    "print (\"Line 7 - Value of c is \", c)"
   ]
  },
  {
   "cell_type": "code",
   "execution_count": 33,
   "id": "a014a4b6",
   "metadata": {},
   "outputs": [
    {
     "name": "stdout",
     "output_type": "stream",
     "text": [
      "a and b is False\n",
      "a or b is True\n",
      "not a is False\n"
     ]
    }
   ],
   "source": [
    "#Logical Operators\n",
    "\n",
    "a = True\n",
    "b = False\n",
    "print('a and b is', a and b)\n",
    "print('a or b is' ,a or b)\n",
    "print('not a is', not a)\n"
   ]
  },
  {
   "cell_type": "code",
   "execution_count": 35,
   "id": "d120a921",
   "metadata": {},
   "outputs": [
    {
     "name": "stdout",
     "output_type": "stream",
     "text": [
      "Line 1 - Value of c is  12\n",
      "Line 2 - Value of c is  61\n",
      "Line 3 - Value of c is  49\n",
      "Line 4 - Value of c is  -61\n",
      "Line 5 - Value of c is  240\n",
      "Line 6 - Value of c is  15\n"
     ]
    }
   ],
   "source": [
    "#A bitwise operation operates on one or more bit patterns at the level of individual bits\n",
    "#Example: Let x = 10 (0000 1010 in binary)and y = 4 (0000 0100 in binary)\n",
    "\n",
    "\n",
    "a = 60 # 60 = 0011 1100\n",
    "b = 13 # 13 = 0000 1101\n",
    "c = 0\n",
    "c = a & b; # 12 = 0000 1100\n",
    "print (\"Line 1 - Value of c is \", c)\n",
    "c = a|b; # 61 = 00111101\n",
    "print (\"Line 2 - Value of c is \", c)\n",
    "c = a^b; # 49 = 00110001\n",
    "print (\"Line 3 - Value of c is \", c)\n",
    "c =~a; # -61 = 11000011\n",
    "print (\"Line 4 - Value of c is \", c)\n",
    "c = a<<2; # 240 = 11110000\n",
    "print (\"Line 5 - Value of c is \", c)\n",
    "c = a>>2; # 15 = 00001111\n",
    "print (\"Line 6 - Value of c is \", c)"
   ]
  },
  {
   "cell_type": "code",
   "execution_count": 1,
   "id": "f601e611",
   "metadata": {},
   "outputs": [
    {
     "data": {
      "text/plain": [
       "True"
      ]
     },
     "execution_count": 1,
     "metadata": {},
     "output_type": "execute_result"
    }
   ],
   "source": [
    "#Membership Operators\n",
    "#Evaluates to find a value or a variable is in the specified sequence of string, list, tuple, dictionary or not.\n",
    "#Let, x=[5,3,6,4,1]. To check particular item in list or not, in and not in operators are used.\n",
    "\n",
    "x=[5,3,6,4,1]\n",
    "5 in x\n"
   ]
  },
  {
   "cell_type": "code",
   "execution_count": 2,
   "id": "c29c4fb5",
   "metadata": {},
   "outputs": [
    {
     "data": {
      "text/plain": [
       "False"
      ]
     },
     "execution_count": 2,
     "metadata": {},
     "output_type": "execute_result"
    }
   ],
   "source": [
    "x=[5,3,6,4,1]\n",
    "\n",
    "5 not in x"
   ]
  },
  {
   "cell_type": "code",
   "execution_count": 5,
   "id": "3bf37ce2",
   "metadata": {},
   "outputs": [
    {
     "name": "stdout",
     "output_type": "stream",
     "text": [
      "False\n",
      "True\n"
     ]
    }
   ],
   "source": [
    "#Identity Operators\n",
    "\n",
    "#They are used to check if two values (or variables) are located on the same part of the memory.\n",
    "\n",
    "x1 =5\n",
    "y1 =5\n",
    "x2 ='Hello'\n",
    "y2= 'Hello'\n",
    "print(x1 is not y1)\n",
    "print(x2 is y2)\n"
   ]
  },
  {
   "cell_type": "markdown",
   "id": "e1e59dd1",
   "metadata": {},
   "source": [
    "#Operator Precedence\n",
    "\n",
    "#When an expression contains more than one operator, the order of evaluation depends on the order of operations.\n",
    "\n",
    "For mathematical operators, Python follows mathematical convention.\n",
    "The acronym PEMDAS (Parentheses, Exponentiation, Multiplication, Division, Addition, Subtraction) is a useful way to remember the rules:\n",
    "Parentheses have the highest precedence and can be used to force an expression to evaluate in the order you want. Since expressions in parentheses are evaluated first, 2 * (3-1)is 4, and (1+1)**(5-2) is8.\n",
    "You can also use parentheses to make an expression easier to read,asin(minute * 100) / 60, even if it doesn’t change the result.\n",
    "Exponentiation has the next highest precedence, so 1 + 2**3 is 9, not 27, and 2 *3**2 is 18, not 36.\n",
    "Multiplication and Division have higher precedence than Addition and Subtraction. So 2*3-1 is 5, not 4, and 6+4/2 is 8, not5.\n",
    "Operators with the same precedence are evaluated from left to right (except exponentiation).\n",
    "\n",
    "\n"
   ]
  },
  {
   "cell_type": "markdown",
   "id": "cd33eabd",
   "metadata": {},
   "source": [
    "Lecture 2: Conditionals, Control Statements and Functions"
   ]
  },
  {
   "cell_type": "code",
   "execution_count": 33,
   "id": "74ff45eb",
   "metadata": {},
   "outputs": [],
   "source": [
    "#conditionals\n",
    "\n",
    "#1. if conditional\n",
    "\n",
    "#syntax\n",
    "\n",
    "#if expression\n",
    "# Statement\n",
    "    \n",
    "num = -5\n",
    "if num > 0:\n",
    "    print(num, \"is a positive number.\")\n",
    "    print(\"This statement is true.\")\n",
    "#When we run the program, the output will be:\n",
    "#5 is a positive number.\n",
    "#This statement is true."
   ]
  },
  {
   "cell_type": "code",
   "execution_count": null,
   "id": "0acb2d04",
   "metadata": {},
   "outputs": [],
   "source": [
    "num = 5\n",
    "if (num < 10):\n",
    "    print('Num is smaller than 10')\n",
    "print('This statement will always be executed')"
   ]
  },
  {
   "cell_type": "code",
   "execution_count": null,
   "id": "7113961e",
   "metadata": {},
   "outputs": [],
   "source": [
    "# 2. if-else conditionals\n",
    "\n",
    "#syntax\n",
    "\n",
    "#if condition :\n",
    "             #Will executes this block if the condition is true\n",
    "  #  else :\n",
    "              #Will executes this block if the condition is false\n",
    "\n",
    "num = -5\n",
    "if num >= 0:\n",
    "    print(\"Positive or Zero\")\n",
    "else:\n",
    "     print(\"Negative number\")"
   ]
  },
  {
   "cell_type": "code",
   "execution_count": null,
   "id": "72201ec0",
   "metadata": {},
   "outputs": [],
   "source": [
    "# 2. if-else conditionals\n",
    "\n",
    "#syntax\n",
    "\n",
    "#if condition :\n",
    "             #Will executes this block if the condition is true\n",
    "  #  else :\n",
    "              #Will executes this block if the condition is false\n",
    "\n",
    "num = -1\n",
    "if num >= 0:\n",
    "    print(\"Positive or Zero\")\n",
    "else:\n",
    "     print(\"Negative number\")"
   ]
  },
  {
   "cell_type": "code",
   "execution_count": null,
   "id": "8ee5b164",
   "metadata": {},
   "outputs": [],
   "source": [
    "# 3. if-elif-else chained conditionals\n",
    "\n",
    "#syntax\n",
    "#if condition :\n",
    " #   Body of if\n",
    "#elif condition :\n",
    " #   Body of elif\n",
    "#else: \n",
    " #   Body of else\n",
    "    \n",
    "num = -5\n",
    "if num > 0:\n",
    "    print(\"Positive number\")\n",
    "elif num == 0:\n",
    "    print(\"Zero\")\n",
    "else:\n",
    "    print(\"Negative number\")\n",
    "    \n",
    "print(\"Hello\")    \n",
    "#output:  Positive number"
   ]
  },
  {
   "cell_type": "code",
   "execution_count": null,
   "id": "35399461",
   "metadata": {},
   "outputs": [],
   "source": [
    "# 3. if-elif-else chained conditionals\n",
    "\n",
    "#syntax\n",
    "#if condition :\n",
    " #   Body of if\n",
    "#elif condition :\n",
    " #   Body of elif\n",
    "#else: \n",
    " #   Body of else\n",
    "    \n",
    "num = 0\n",
    "if num > 0:\n",
    "    print(\"Positive number\")\n",
    "elif num == 0:\n",
    "    print(\"Zero\")\n",
    "else:\n",
    "    print(\"Negative number\")\n",
    "#output:  Positive number"
   ]
  },
  {
   "cell_type": "code",
   "execution_count": null,
   "id": "c78ee100",
   "metadata": {},
   "outputs": [],
   "source": [
    "# 3. if-elif-else chained conditionals\n",
    "\n",
    "#syntax\n",
    "#if condition :\n",
    " #   Body of if\n",
    "#elif condition :\n",
    " #   Body of elif\n",
    "#else: \n",
    " #   Body of else\n",
    "    \n",
    "num = -1\n",
    "if num > 0:\n",
    "    print(\"Positive number\")\n",
    "elif num == 0:\n",
    "    print(\"Zero\")\n",
    "else:\n",
    "    print(\"Negative number\")\n",
    "#output:  Positive number"
   ]
  },
  {
   "cell_type": "code",
   "execution_count": null,
   "id": "d172c426",
   "metadata": {},
   "outputs": [],
   "source": [
    "#Nested if conditionals\n",
    "#syntax\n",
    "#if (condition1):\n",
    "#Executes if condition 1 is true\n",
    "n #if (condition 2):\n",
    "  #Executes if condition 2 is true\n",
    "  #Condition 2 ends here\n",
    "#Condition 1 ends here\n",
    "\n",
    "num = 8\n",
    "if num >= 0:\n",
    "    print(\"Negative number\")\n",
    "else:\n",
    "        if num == 0:\n",
    "            print(\"zero\")\n",
    "        else:\n",
    "            print(\"Positive number\")\n",
    "    \n",
    "#output: Positive number"
   ]
  },
  {
   "cell_type": "code",
   "execution_count": null,
   "id": "2af3eb98",
   "metadata": {},
   "outputs": [],
   "source": [
    "num = -8\n",
    "if num >= 0:\n",
    "    print(\"Positive number\")\n",
    "else:\n",
    "        if num == 0:\n",
    "            print(\"zero\")\n",
    "        elif:\n",
    "            print(\"Negative number\")\n",
    "        \n",
    "#output: Positive number"
   ]
  },
  {
   "cell_type": "code",
   "execution_count": null,
   "id": "134f2111",
   "metadata": {},
   "outputs": [],
   "source": [
    "#Nested if conditionals\n",
    "\n",
    "\n",
    "#syntax\n",
    "\n",
    "\n",
    "#if (condition1):\n",
    "#Executes if condition 1 is true\n",
    "#if (condition 2):\n",
    "  #Executes if condition 2 is true\n",
    "  #Condition 2 ends here\n",
    "#Condition 1 ends here\n",
    "\n",
    "\n",
    "num = 0\n",
    "if num >= 0:\n",
    "    if num == 0:\n",
    "        print(\"zero\")\n",
    "    else:\n",
    "        print(\"Positive number\")\n",
    "else:\n",
    "    print(\"Negative number\")\n",
    "#output: Positive number"
   ]
  },
  {
   "cell_type": "code",
   "execution_count": null,
   "id": "19bdcd9c",
   "metadata": {},
   "outputs": [],
   "source": [
    "#Nested if conditionals\n",
    "\n",
    "\n",
    "#syntax\n",
    "\n",
    "\n",
    "#if (condition1):\n",
    "#Executes if condition 1 is true\n",
    "#if (condition 2):\n",
    "  #Executes if condition 2 is true\n",
    "  #Condition 2 ends here\n",
    "#Condition 1 ends here\n",
    "\n",
    "\n",
    "num = -1\n",
    "if num >= 0:\n",
    "    if num == 0:\n",
    "        print(\"zero\")\n",
    "    else:\n",
    "        print(\"Positive number\")\n",
    "else:\n",
    "    print(\"Negative number\")\n",
    "#output: Positive number"
   ]
  },
  {
   "cell_type": "code",
   "execution_count": null,
   "id": "876ae113",
   "metadata": {},
   "outputs": [],
   "source": [
    "#example 2\n",
    "\n",
    "price=100\n",
    "quantity=10\n",
    "amount = price*quantity\n",
    "if amount > 200:\n",
    "    if amount >1000:\n",
    "        print(\"The amount is greater than 1000\")\n",
    "    else:\n",
    "        if amount >800:\n",
    "            print(\"The amount is between 800 and 1000\")\n",
    "        elif amount >600:\n",
    "            print(\"The amount is between 600 and 1000\")\n",
    "        else:\n",
    "            print(\"The amount is between 400 and 1000\")\n",
    "elif amount == 200:\n",
    "    print(\"Amount is 200\")\n",
    "else:\n",
    "    print(\"Amount is less than 200\")\n",
    "#The output : “The amount is between 400 and 1000.”"
   ]
  },
  {
   "cell_type": "code",
   "execution_count": null,
   "id": "1c7416a6",
   "metadata": {},
   "outputs": [],
   "source": [
    "\n",
    "\n",
    "#iteration and control statements\n",
    "\n",
    "#Computers are often used to automate repetitive tasks.\n",
    "#Repeating identical or similar tasks without making errors\n",
    "#is something that computers do well and people do poorly.\n",
    "#state\n",
    "#while\n",
    "#for\n",
    "#break\n",
    "#continue\n",
    "#pass"
   ]
  },
  {
   "cell_type": "code",
   "execution_count": null,
   "id": "14d15bb3",
   "metadata": {},
   "outputs": [],
   "source": [
    "#State: Transition from one process to another process under\n",
    "#specified condition with in a time is called state.\n"
   ]
  },
  {
   "cell_type": "code",
   "execution_count": 6,
   "id": "f21b183d",
   "metadata": {},
   "outputs": [
    {
     "name": "stdout",
     "output_type": "stream",
     "text": [
      "Hello\n",
      "Hello\n",
      "Hello\n",
      "Hello World\n"
     ]
    }
   ],
   "source": [
    "#While Loop\n",
    "\n",
    "#Until a specified criterion is true,\n",
    "#a block of statements will be continuously executed in a Python while loop.\n",
    "#And the line in the program that follows the loop is\n",
    "#run when the condition changes to false.\n",
    "#syntax\n",
    "#while expression:\n",
    " #   statement(s)\n",
    "    # prints Hello 3 Times\n",
    "    \n",
    "count = 0\n",
    "while (count < 3):\n",
    "\tcount = count+1\n",
    "\tprint(\"Hello\")\n",
    "print(\"Hello World\")"
   ]
  },
  {
   "cell_type": "code",
   "execution_count": null,
   "id": "a53555cb",
   "metadata": {},
   "outputs": [],
   "source": [
    "# A way of accessing list elements\n",
    "cars = [\"Aston\", \"Audi\", \"McLaren\"]\n",
    "i = 0\n",
    "while (i < len(cars)):\n",
    "\tprint(cars[i])\n",
    "\ti += 1"
   ]
  },
  {
   "cell_type": "code",
   "execution_count": null,
   "id": "3c3150cf",
   "metadata": {},
   "outputs": [],
   "source": [
    "#For Loop\n",
    "#syntax\n",
    "#for iterator_var in sequence:\n",
    " #   statements(s)\n",
    "\n",
    "    \n",
    "# Iterating over a list (mutable)\n",
    "print(\"List Iteration\")\n",
    "l = [\"Hello\", \"Good\", \"Morning\"]\n",
    "for i in l:\n",
    "\tprint(i)\n",
    "\t\n",
    "# Iterating over a tuple (immutable)\n",
    "print(\"\\nTuple Iteration\")\n",
    "t = (\"Hello\", \"Good\", \"Morning\")\n",
    "for i in t:\n",
    "\tprint(i)\n",
    "\t\n",
    "# Iterating over a String (immutable)\n",
    "print(\"\\nString Iteration\")\n",
    "s = \"Hello\"\n",
    "for i in s :\n",
    "\tprint(i)\n",
    "\t\n",
    "# Iterating over dictionary (mutuable)\n",
    "print(\"\\nDictionary Iteration\")\n",
    "d = dict()\n",
    "d['xyz'] = 123\n",
    "d['abc'] = 345\n",
    "for i in d :\n",
    "\tprint(\"%s %d\" %(i, d[i]))\n"
   ]
  },
  {
   "cell_type": "code",
   "execution_count": null,
   "id": "4b9daf91",
   "metadata": {},
   "outputs": [],
   "source": [
    "#for i in range:\n",
    "\n",
    "#syntax\n",
    " #   for iterator_var in range:\n",
    "  #      statements(s)\n",
    "   #     statements(s)\n",
    "    \n",
    "    \n",
    "#from __future__ import print_function\n",
    "for i in range(1, 5):\n",
    "\tfor j in range(i):\n",
    "\t\tprint(i, end=' ')\n",
    "\tprint()\n"
   ]
  },
  {
   "cell_type": "code",
   "execution_count": null,
   "id": "61dc0eca",
   "metadata": {},
   "outputs": [],
   "source": [
    "#for i in range:    \n",
    "    \n",
    "#print nos divisible by 5 not by 10\n",
    "#The eval() function evaluates the specified expression,\n",
    "#if the expression is a legal Python statement, it will be executed.\n",
    "n=eval(input(\"enter a: \"))\n",
    "for i in range(1,n):\n",
    "    if(i%5==0 and i%10!=0):\n",
    "        print(i)"
   ]
  },
  {
   "cell_type": "code",
   "execution_count": 37,
   "id": "90170ff8",
   "metadata": {},
   "outputs": [
    {
     "name": "stdout",
     "output_type": "stream",
     "text": [
      "Current Letter : H\n",
      "Current Letter : l\n",
      "Current Letter : l\n"
     ]
    }
   ],
   "source": [
    "#Loop control statements\n",
    "#They change execution from their normal sequence.\n",
    "#When execution leaves a scope, all automatic objects\n",
    "#that were created in that scope are destroyed.\n",
    "#Python supports the following control statements:\n",
    "\n",
    "#Continue\n",
    "#It returns the control to the beginning of the loop. \n",
    "# Prints all letters except 'e' and 'o'\n",
    "for letter in 'Hello':\n",
    "\tif letter == 'e' or letter == 'o':\n",
    "\t\tcontinue\n",
    "\tprint('Current Letter :', letter)\n"
   ]
  },
  {
   "cell_type": "code",
   "execution_count": 38,
   "id": "d43e27e9",
   "metadata": {},
   "outputs": [
    {
     "name": "stdout",
     "output_type": "stream",
     "text": [
      "Current Letter : h\n",
      "Current Letter : e\n"
     ]
    }
   ],
   "source": [
    "#break\n",
    "#It brings control out of the loop.\n",
    "for l in 'helloworld':\n",
    "    if letter == 'e' or letter == 'l':\n",
    "        break\n",
    "    print('Current Letter :', letter)\n",
    "print('Current Letter :', letter)"
   ]
  },
  {
   "cell_type": "code",
   "execution_count": 39,
   "id": "85064a47",
   "metadata": {},
   "outputs": [
    {
     "name": "stdout",
     "output_type": "stream",
     "text": [
      "Last Letter : d\n"
     ]
    }
   ],
   "source": [
    "#pass\n",
    "#We use pass statements to write empty loops.\n",
    "#Pass is also used for empty control statements,\n",
    "#functions, and classes.\n",
    "\n",
    "# An empty loop\n",
    "for letter in 'helloworld':\n",
    "\tpass\n",
    "print('Last Letter :', letter)\n",
    "\n",
    "\n",
    "#The pass statement is used as a placeholder for future code.\n",
    "#When the pass statement is executed, nothing happens,\n",
    "#but you avoid getting an error when empty code is not allowed.\n",
    "#Empty code is not allowed in loops, function definitions,\n",
    "#class definitions, or in if statements."
   ]
  },
  {
   "cell_type": "code",
   "execution_count": null,
   "id": "9de57391",
   "metadata": {},
   "outputs": [],
   "source": [
    "#Difference between pass and continue\n",
    "#continue forces the loop to start at the next iteration\n",
    "#whereas pass means \"there is no code to execute here\" and\n",
    "#will continue through the remainder of the loop body.\n",
    "\n",
    "#difference between break and continue\n",
    "\n",
    "#break terminates the current loop and executes the remaining statements outside the loop\n",
    "#continue terminates the current iteration and transfer the control to the next iteration in the loop\n",
    "\n",
    "#break\n",
    "for i in \"welcome\":\n",
    "    if(i=='c'):\n",
    "        break\n",
    "    print(i)\n",
    "  \n"
   ]
  },
  {
   "cell_type": "code",
   "execution_count": null,
   "id": "dcb0357e",
   "metadata": {},
   "outputs": [],
   "source": [
    "#continue\n",
    "for i in \"welcome\":\n",
    "    if(i=='c'):\n",
    "        continue\n",
    "    print(i)"
   ]
  },
  {
   "cell_type": "code",
   "execution_count": null,
   "id": "afbc4ce2",
   "metadata": {},
   "outputs": [],
   "source": [
    "#else statement in for loop\n",
    "#If else statement is used in for loop, the else statement\n",
    "#is executed when the loop has reached the limit.\n",
    "#The statements inside for loop and statements inside else will also execute.\n",
    "\n",
    "\n",
    "for i in range(1,6):\n",
    "    print(i)\n",
    "else:\n",
    "    print(\"the number is greater that 6\")"
   ]
  },
  {
   "cell_type": "code",
   "execution_count": null,
   "id": "d3ee43b2",
   "metadata": {},
   "outputs": [],
   "source": [
    "#else statement in while loop\n",
    "#If else statement is used within while loop ,\n",
    "#the else part will be executed when the condition become false.\n",
    "#The statements inside for loop and statements inside else will also execute.\n",
    "\n",
    "\n",
    "\n",
    "i=1\n",
    "while(i<=5):\n",
    "    print(i)\n",
    "    i=i+1\n",
    "else:\n",
    "    print(\"the number is greater than 5\")\n",
    " "
   ]
  },
  {
   "cell_type": "code",
   "execution_count": 45,
   "id": "102794c8",
   "metadata": {},
   "outputs": [],
   "source": [
    "\n",
    "\n",
    "#Functions : Types and Definition, Flow of Execution\n"
   ]
  },
  {
   "cell_type": "markdown",
   "id": "69ed8838",
   "metadata": {},
   "source": [
    "Function is a sub program which consists of set of instructions used to perform a specific task.\n",
    "A large program is divided into basic building blocks called function.\n",
    "Need for functions:\n",
    "When the program is too complex and large they are divided into parts.\n",
    "Each part is separately coded and combined into single program. Each subprogram is called as function.\n",
    "Debugging, Testing and maintenance becomes easy when the program is divided into\n",
    "subprograms.\n",
    "Functions are used to avoid rewriting same code again and again in a program.\n",
    "Function provides code re-usability\n",
    "The length of the program is reduced.\n",
    "\n",
    "Functions can be user defined (customized) or inbuilt (pre-defined/ builtin)."
   ]
  },
  {
   "cell_type": "code",
   "execution_count": 10,
   "id": "6be12ad4",
   "metadata": {},
   "outputs": [
    {
     "name": "stdout",
     "output_type": "stream",
     "text": [
      "Hello\n"
     ]
    }
   ],
   "source": [
    "def my_add(a,b):\n",
    "    c=a+b\n",
    "    #return c\n",
    "\n",
    "\n",
    "print(\"Hello\")\n",
    "my_add(4,5)"
   ]
  },
  {
   "cell_type": "code",
   "execution_count": 40,
   "id": "284d5494",
   "metadata": {},
   "outputs": [
    {
     "name": "stdout",
     "output_type": "stream",
     "text": [
      "10\n",
      "Function to double thevalue\n"
     ]
    }
   ],
   "source": [
    "#Docstring\n",
    "def double(num):\n",
    "    \"\"\"Function to double the value\"\"\"\n",
    "    return 2*num\n",
    "print(double(5))\n",
    "print(double.__doc__)"
   ]
  },
  {
   "cell_type": "code",
   "execution_count": 48,
   "id": "bbd70e72",
   "metadata": {},
   "outputs": [
    {
     "name": "stdout",
     "output_type": "stream",
     "text": [
      "Hello Students\n",
      " This program prints out hello students \n"
     ]
    }
   ],
   "source": [
    "# program illustrates the use of docstrings\n",
    "def hellostudents():\n",
    "    ''' This program prints out hello students '''\n",
    "    \n",
    "    #This is a docstring comment\n",
    "    print(\"Hello Students\")\n",
    "\n",
    "\n",
    "hellostudents()\n",
    "print(hellostudents.__doc__)"
   ]
  },
  {
   "cell_type": "code",
   "execution_count": null,
   "id": "7e7e69a1",
   "metadata": {},
   "outputs": [],
   "source": [
    "Docstrings: Docstrings are a type of comment that is used to show how the program works.\n",
    "\n",
    "Docstrings are surrounded by triple quotes (“”” “””) single/double.\n",
    "\n",
    "Docstrings are also neglected by the interpreter.\n",
    "\n",
    "Note: Docstrings and Multi-line comments may look the same but they aren’t.\n",
    "\n",
    "Docstrings are written in the functions and classes to show how to use the program.\n",
    "\n",
    "Multi-line comments are used to show how a block of code works."
   ]
  },
  {
   "cell_type": "markdown",
   "id": "bd3b9cef",
   "metadata": {},
   "source": [
    "\n",
    "\n",
    "Functions can be classified into two categories:\n",
    "\n",
    "\n",
    "i) user defined function: User defined functions are the functions that programmers create for their requirement anduse.\n",
    "These functions can then be combined to form module which can be used in other programs by importing them.\n",
    "Advantages of user defined functions:\n",
    "Programmers working on large project can divide the workload by making different functions.\n",
    "If repeated code occurs in a program, function can be used to include those codes and execute when needed by calling that function.\n",
    "\n",
    "\n",
    "\n",
    "ii) Built in function: Built in functions are the functions that are already created and stored in python.\n",
    "These built in functions are always available for usage and accessed by a programmer. It cannot be modified.\n"
   ]
  },
  {
   "cell_type": "markdown",
   "id": "0e0f5c17",
   "metadata": {},
   "source": [
    "def keyword is used to define a function.\n",
    "Give the function name after def keyword followed by parentheses in which arguments are given.\n",
    "End with colon (:)\n",
    "Inside the function add the program statements to be executed\n",
    "End with or without return statement\n",
    "Syntax:\n",
    "def fun_name(Parameter1,Parameter2…Parameter n):\n",
    "  statement1\n",
    "  statement2\n",
    "  .\n",
    "  .\n",
    "  .\n",
    "  statement n\n",
    "  return[expression]\n"
   ]
  },
  {
   "cell_type": "code",
   "execution_count": 50,
   "id": "01a1bcac",
   "metadata": {},
   "outputs": [
    {
     "data": {
      "text/plain": [
       "9"
      ]
     },
     "execution_count": 50,
     "metadata": {},
     "output_type": "execute_result"
    }
   ],
   "source": [
    "#Once we have defined a function, we can call it from another function, program or even the Python prompt.\n",
    "#To call a function we simply type the function name with appropriate arguments.\n",
    "#Example:\n",
    "x=5\n",
    "y=4\n",
    "my_add(x,y)\n"
   ]
  },
  {
   "cell_type": "markdown",
   "id": "876715db",
   "metadata": {},
   "source": [
    "#Flow of Execution\n",
    "\n",
    "The order in which statements are executed is called the flow of execution.\n",
    "\n",
    "Execution always begins at the first statement of the program\n",
    "\n",
    "Statements are executed one at a time, in order, from top to bottom.\n",
    "\n",
    "Function definitions do not alter the flow of execution of the program,\n",
    "but remember that statements inside the function are not executed until the function is called.\n",
    "\n",
    "Function calls are like a bypass in the flow of execution.\n",
    "Instead of going to the next statement, the flow jumps to the\n",
    "first line of the called function, executes all the statements there,\n",
    "and then comes back to pick up where it left off.\n",
    "\n",
    "Note: When you read a program, don’t read from top to bottom.\n",
    "Instead, follow the flow of execution. This means that you will\n",
    "read the def statements as you are scanning from top to bottom,\n",
    "but you should skip the statements of the function definition\n",
    "until you reach a point where that function is called.\n"
   ]
  },
  {
   "cell_type": "code",
   "execution_count": null,
   "id": "8949693a",
   "metadata": {},
   "outputs": [],
   "source": [
    "#Function Prototype; Parameters and Arguments"
   ]
  },
  {
   "cell_type": "code",
   "execution_count": null,
   "id": "95b744c2",
   "metadata": {},
   "outputs": [],
   "source": [
    "#Function Prototype\n",
    "#i. Function without arguments and without return type\n",
    "#ii. Function with arguments and without return type\n",
    "#iii. Function without arguments and with return type\n",
    "#iv. Function with arguments and with return type\n"
   ]
  },
  {
   "cell_type": "code",
   "execution_count": 16,
   "id": "76f7eec8",
   "metadata": {},
   "outputs": [
    {
     "name": "stdout",
     "output_type": "stream",
     "text": [
      "enter a 1\n",
      "enter b 1\n"
     ]
    }
   ],
   "source": [
    "#without return type\n",
    "#without arguments\n",
    "\n",
    "def add():\n",
    "    a=int(input(\"enter a \"))\n",
    "    b=int(input(\"enter b \"))\n",
    "    c=a+b\n",
    "    #print(c)\n",
    "add()"
   ]
  },
  {
   "cell_type": "code",
   "execution_count": 48,
   "id": "6c239f48",
   "metadata": {},
   "outputs": [
    {
     "name": "stdout",
     "output_type": "stream",
     "text": [
      "enter a 1\n",
      "enter b 1\n",
      "2\n"
     ]
    }
   ],
   "source": [
    "#without return type\n",
    "#with arguments\n",
    "\n",
    "def add(a,b):\n",
    "    c=a+b\n",
    "    print(c)\n",
    "x=int(input(\"enter a \"))\n",
    "y=int(input(\"enter b \"))\n",
    "add(x,y)"
   ]
  },
  {
   "cell_type": "code",
   "execution_count": 20,
   "id": "4e1ca9b8",
   "metadata": {},
   "outputs": [
    {
     "name": "stdout",
     "output_type": "stream",
     "text": [
      "enter a 1\n",
      "enter b 1\n",
      "2\n"
     ]
    }
   ],
   "source": [
    "#with return type\n",
    "#without arguments\n",
    "\n",
    "def add():\n",
    "    a=int(input(\"enter a \"))\n",
    "    b=int(input(\"enter b \"))\n",
    "    c=a+b\n",
    "    return c\n",
    "d=add()\n",
    "print(d)"
   ]
  },
  {
   "cell_type": "code",
   "execution_count": 55,
   "id": "22520b09",
   "metadata": {},
   "outputs": [
    {
     "name": "stdout",
     "output_type": "stream",
     "text": [
      "enter a 1\n",
      "enter b 1\n",
      "None\n"
     ]
    }
   ],
   "source": [
    "#with return type\n",
    "#with arguments\n",
    "\n",
    "def add(x,y):\n",
    "    c=x+y\n",
    "    return\n",
    "x=int(input(\"enter a \"))\n",
    "y=int(input(\"enter b \"))\n",
    "z=add(x,y)\n",
    "print(z)"
   ]
  },
  {
   "cell_type": "code",
   "execution_count": 51,
   "id": "ecb16ab5",
   "metadata": {},
   "outputs": [
    {
     "name": "stdout",
     "output_type": "stream",
     "text": [
      "Name: george\n",
      "Age 56\n"
     ]
    }
   ],
   "source": [
    "#required arguments\n",
    "\n",
    "def my_details(name,age):\n",
    "    print(\"Name:\", name)\n",
    "    print(\"Age\", age)\n",
    "    return\n",
    "\n",
    "my_details(\"george\", 56)"
   ]
  },
  {
   "cell_type": "code",
   "execution_count": 52,
   "id": "dec422c7",
   "metadata": {},
   "outputs": [
    {
     "name": "stdout",
     "output_type": "stream",
     "text": [
      "Name: george\n",
      "Age 56\n"
     ]
    }
   ],
   "source": [
    "#keyword arguments\n",
    "\n",
    "def my_details(name,age):\n",
    "    print(\"Name:\", name)\n",
    "    print(\"Age\", age)\n",
    "    return\n",
    "\n",
    "my_details(age=56, name=\"george\")"
   ]
  },
  {
   "cell_type": "code",
   "execution_count": 61,
   "id": "a51af619",
   "metadata": {},
   "outputs": [
    {
     "name": "stdout",
     "output_type": "stream",
     "text": [
      "Name: george\n",
      "Age 50\n"
     ]
    }
   ],
   "source": [
    "#default arguments\n",
    "\n",
    "def my_details(name,age=40):\n",
    "    print(\"Name:\", name)\n",
    "    print(\"Age\", age)\n",
    "    return\n",
    "\n",
    "my_details(name=\"george\", age=50)"
   ]
  },
  {
   "cell_type": "code",
   "execution_count": 54,
   "id": "87c74392",
   "metadata": {},
   "outputs": [
    {
     "name": "stdout",
     "output_type": "stream",
     "text": [
      "('rajan', 'rahul', 'micheal', 'ärjun')\n"
     ]
    }
   ],
   "source": [
    "#variable length arguments\n",
    "\n",
    "def my_details(*name):\n",
    "    print(*name)\n",
    "\n",
    "my_details((\"rajan\",\"rahul\",\"micheal\", \"ärjun\"))"
   ]
  },
  {
   "cell_type": "code",
   "execution_count": 55,
   "id": "86b65247",
   "metadata": {},
   "outputs": [
    {
     "name": "stdout",
     "output_type": "stream",
     "text": [
      "rajan rahul micheal ärjun\n"
     ]
    }
   ],
   "source": [
    "def my_details(*name ):\n",
    "    print(*name)\n",
    "my_details(\"rajan\",\"rahul\",\"micheal\", \"ärjun\")"
   ]
  },
  {
   "cell_type": "code",
   "execution_count": null,
   "id": "10a98eab",
   "metadata": {},
   "outputs": [],
   "source": [
    "\n",
    "\n",
    "#Fruitful Functions\n",
    "\n",
    "A function that returns a value is called fruitful function. \n",
    "\n",
    "\n",
    "Fruitful function\n",
    "Void function\n",
    "Return values\n",
    "Parameters\n",
    "Local and global scope\n",
    "Function composition\n",
    "Recursion\n"
   ]
  },
  {
   "cell_type": "code",
   "execution_count": null,
   "id": "3545a12c",
   "metadata": {},
   "outputs": [],
   "source": [
    "#Fruitful function is a special function in which\n",
    "#function is defined in the return statement.\n",
    "\n",
    "#A function that returns a value is called fruitful function.\n",
    "\n",
    "#It is a function with return type as expression.\n",
    "\n",
    "#We have seen the return statement before,\n",
    "#but in a fruitful function the return statement includes a return value.\n",
    "\n",
    "#This statement means: “Return immediately from this function and\n",
    "#use the following expression as a return value.”\n",
    "\n"
   ]
  },
  {
   "cell_type": "code",
   "execution_count": 12,
   "id": "2a3cea74",
   "metadata": {},
   "outputs": [
    {
     "data": {
      "text/plain": [
       "30"
      ]
     },
     "execution_count": 12,
     "metadata": {},
     "output_type": "execute_result"
    }
   ],
   "source": [
    "#Example:\n",
    "def add():\n",
    "    a=10\n",
    "    b=20\n",
    "    c=a+b\n",
    "    return c\n",
    "#c=\n",
    "add()\n",
    "#print(c)"
   ]
  },
  {
   "cell_type": "code",
   "execution_count": 13,
   "id": "6921b0aa",
   "metadata": {},
   "outputs": [
    {
     "name": "stdout",
     "output_type": "stream",
     "text": [
      "13\n"
     ]
    }
   ],
   "source": [
    "#Fruitful function with parameters and return statement\n",
    "\n",
    "def fun2(a,b):\n",
    "    return a+b\n",
    "print(fun2(5,8))\n",
    "\n",
    "#In above example we have\n",
    "#passed two values to the given function which then\n",
    "#returns sum of that values to main function using return keyword."
   ]
  },
  {
   "cell_type": "code",
   "execution_count": 62,
   "id": "f3fd61cd",
   "metadata": {},
   "outputs": [
    {
     "name": "stdout",
     "output_type": "stream",
     "text": [
      "Hello\n"
     ]
    }
   ],
   "source": [
    "#Void Functions\n",
    "#A function that perform action but don’t return any value.\n",
    "#Example:\n",
    "print('Hello')"
   ]
  },
  {
   "cell_type": "code",
   "execution_count": 9,
   "id": "9dea2a26",
   "metadata": {},
   "outputs": [],
   "source": [
    "#Example:\n",
    "def add():\n",
    "    a=10\n",
    "    b=20\n",
    "    c=a+b\n",
    "    #return c\n",
    "add()\n",
    "#print(c)\n"
   ]
  },
  {
   "cell_type": "code",
   "execution_count": 4,
   "id": "ed33acde",
   "metadata": {},
   "outputs": [],
   "source": [
    "#Void Function without Return Statements\n",
    "\n",
    "def fun1():\n",
    "    print(\"Python\")"
   ]
  },
  {
   "cell_type": "code",
   "execution_count": 5,
   "id": "5aba25e0",
   "metadata": {},
   "outputs": [],
   "source": [
    "#Void Function with Return Statements\n",
    "\n",
    "def fun2():\n",
    "    print(\"Name\")\n",
    "    return "
   ]
  },
  {
   "cell_type": "code",
   "execution_count": 64,
   "id": "4ba73f71",
   "metadata": {},
   "outputs": [
    {
     "name": "stdout",
     "output_type": "stream",
     "text": [
      "sum of a and b is 7\n"
     ]
    }
   ],
   "source": [
    "#Void function with parameter without return statement\n",
    "\n",
    "def fun1(a,b):\n",
    "    print(\"sum of a and b is\", a+b)\n",
    "fun1(5,2)\n",
    "\n",
    "#In above example main function have passed values to given function\n",
    "#and as print statement is used function will not return anything\n",
    "#it will just print value."
   ]
  },
  {
   "cell_type": "code",
   "execution_count": 65,
   "id": "818f2bac",
   "metadata": {},
   "outputs": [
    {
     "name": "stdout",
     "output_type": "stream",
     "text": [
      "sum is 7\n",
      "None\n"
     ]
    }
   ],
   "source": [
    "#When you try to assign a void function\n",
    "#to a variable it displays a special value\n",
    "#called as None.\n",
    "#None is a legal empty value returned\n",
    "#by void function in python.\n",
    "\n",
    "def add_me(x,y):\n",
    "    print(\"sum is\",x+y)\n",
    "\n",
    "p=add_me(4,3)\n",
    "print(p)"
   ]
  },
  {
   "cell_type": "code",
   "execution_count": null,
   "id": "7d6cd5f3",
   "metadata": {},
   "outputs": [],
   "source": [
    "#Return values:\n",
    "#return keywords are used to return the values from the function.\n",
    "#example:\n",
    "#return a – return 1 variable\n",
    "#return a,b – return 2 variables\n",
    "#return a+b – return expression\n",
    "#return 8 – return value\n",
    "\n",
    "\n",
    "\n",
    "Various built-in functions like math\n",
    "functions produces results\n",
    "or return values.\n",
    "\n",
    "When a function generates return values it can be\n",
    "assigned to a variable for holding the result.\n",
    "\n",
    "This stored result can be used further in the script.\n",
    "\n",
    "To make a function fruitful return keyword is used.\n",
    "\n",
    "Once a return statement is executed the function terminates\n",
    "without executing immediate statements.\n",
    "\n",
    "Code that appears after return statement or any place where the\n",
    "flow of execution cannot reach is called as dead code.\n",
    "\n",
    "Values returned can be a literal(return 3, return 4-2),\n",
    "variable(return a), expression(return (a+b)/c) etc.\n"
   ]
  },
  {
   "cell_type": "code",
   "execution_count": null,
   "id": "15425583",
   "metadata": {},
   "outputs": [],
   "source": [
    "def product(a,b):\n",
    "    c=a*b\n",
    "    return (c)\n",
    "y=product(5,2)\n",
    "print(\"product is\",y)"
   ]
  },
  {
   "cell_type": "code",
   "execution_count": null,
   "id": "d6b3a77c",
   "metadata": {},
   "outputs": [],
   "source": [
    "Scope of Variables\n",
    "The scope of variable can be defined by the area of\n",
    "script where the variable is accessible.\n",
    "\n",
    "The variables can be accessible either inside\n",
    "function body or outside function body.\n",
    "\n",
    "Scope of variables can be classified as local scope and\n",
    "global scope and variables accessible in that scopes are\n",
    "classified as local variable and global variable respectively."
   ]
  },
  {
   "cell_type": "code",
   "execution_count": null,
   "id": "780e2c29",
   "metadata": {},
   "outputs": [],
   "source": [
    "Global and Local Scope\n",
    "\n",
    "Global Scope:\n",
    "The scope of a variable refers to the places that you\n",
    "can see or access a variable.\n",
    "\n",
    "A variable with global scope can be used\n",
    "anywhere in the program.\n",
    "\n",
    "It can be created by defining a variable outside the function.\n",
    "Variables declared outside function body are accessible\n",
    "throughout that function body as well as outside the\n",
    "function are called as global variables.\n",
    "Such variables are present in global scope.\n",
    "\n",
    "\n",
    "Local Scope:\n",
    "Variables declared inside a function body are accessible only that\n",
    "function and not outside the function are called as local variables.\n",
    "\n",
    "Such variables are present in local scope.\n",
    "\n",
    "A variable with local scope can be used only within the function .\n"
   ]
  },
  {
   "cell_type": "code",
   "execution_count": 70,
   "id": "b624dac8",
   "metadata": {},
   "outputs": [
    {
     "name": "stdout",
     "output_type": "stream",
     "text": [
      "Output of local and global variables\n",
      "---------------------------------------\n",
      "Total value inside function is 30\n",
      "Total value inside function is 30\n",
      "Total value outside function is 35\n",
      "35\n",
      "4\n"
     ]
    }
   ],
   "source": [
    "#Description : Program to show local variables and global variables\n",
    "\n",
    "total=0                         #total is global variable in global scope\n",
    "def add_me(a,b):\n",
    "#We can use both local and global variables inside function body\n",
    "    total=a+b                 #a and b are local varibles in local scope\n",
    "    print(\"Total value inside function is\",total)\n",
    "    return total\n",
    "\n",
    "print(\"Output of local and global variables\")\n",
    "\n",
    "print(\"---------------------------------------\")\n",
    "\n",
    "#x=add_me(10,20)         # x stores the value returned by funtion\n",
    "add_me(10,20)\n",
    "total = add_me(10,20)+5                   # total is global variable in global scope\n",
    "\n",
    "print(\"Total value outside function is\",total)\n",
    "print(total)\n",
    "#print(a)"
   ]
  },
  {
   "cell_type": "code",
   "execution_count": null,
   "id": "15760e62",
   "metadata": {},
   "outputs": [],
   "source": [
    "#Function Composition:\n",
    "\n",
    "Function Composition is the ability to call one\n",
    "function from within another function.\n",
    "\n",
    "It is a way of combining functions such that the result of\n",
    "each function is passed as the argument of the next function.\n",
    "\n",
    "In other words the output of one function is given as the\n",
    "input of another function is known as function composition.\n"
   ]
  },
  {
   "cell_type": "code",
   "execution_count": 14,
   "id": "a5db112d",
   "metadata": {},
   "outputs": [
    {
     "name": "stdout",
     "output_type": "stream",
     "text": [
      "Adding 2 to 5 and multiplying the result with 2:  14\n"
     ]
    }
   ],
   "source": [
    "#Function composition is the way of combining two or more\n",
    "#functions in such a way that the output of one function becomes\n",
    "#the input of the second function and so on.\n",
    "\n",
    "#For example,\n",
    "#let there be two functions “F” and “G” and their composition\n",
    "#can be represented as F(G(x)) where “x” is the argument and\n",
    "#output of G(x) function will become the input of F() function.\n",
    "\n",
    "\n",
    "#Example:\n",
    "\n",
    "\n",
    "# Function to add 2 \n",
    "# to a number\n",
    "def add(x):\n",
    "    return x + 2\n",
    "  \n",
    "# Function to multiply \n",
    "# 2 to a number\n",
    "def multiply(x):\n",
    "    return x * 2\n",
    "  \n",
    "# Printing the result of \n",
    "# composition of add and \n",
    "# multiply to add 2 to a number \n",
    "# and then multiply by 2\n",
    "print(\"Adding 2 to 5 and multiplying the result with 2: \", multiply(add(5)))\n"
   ]
  },
  {
   "cell_type": "code",
   "execution_count": 15,
   "id": "b0584f69",
   "metadata": {},
   "outputs": [
    {
     "name": "stdout",
     "output_type": "stream",
     "text": [
      "enter a: 1\n",
      "enter b: 1\n",
      "the avg is:  1.0\n"
     ]
    }
   ],
   "source": [
    "#Example\n",
    "\n",
    "def sum(a,b):\n",
    "    sum=a+b\n",
    "    return sum\n",
    "def avg(sum):\n",
    "    avg=sum/2\n",
    "    return avg\n",
    "a=eval(input(\"enter a: \"))\n",
    "b=eval(input(\"enter b: \"))\n",
    "sum=sum(a,b)\n",
    "avg=avg(sum)\n",
    "print(\"the avg is: \", avg)"
   ]
  },
  {
   "cell_type": "code",
   "execution_count": null,
   "id": "75b0dcb9",
   "metadata": {},
   "outputs": [],
   "source": [
    "#Recursion\n",
    "\n",
    "A function calling itself till it reaches the base value -\n",
    "stop point of function call.\n",
    "\n",
    "Example: factorial of a given number using recursion.\n",
    "\n",
    "When a function is called by itself in its own definition is termed\n",
    "as recursive function and the process is called as recursion.\n",
    "Python stop calling recursive function after 1000 calls by default.\n",
    "\n",
    "If we provide value as 1000 it will show “RuntimeError: maximum recursion\n",
    "depth exceeded in comparison” as it will move from 0 to 999\n",
    "\n",
    "Working of recursive function\n",
    "Recursive function is called from main().\n",
    "If the condition is met then the script executes\n",
    "statements and exits .\n",
    "Else, function performs required processing and\n",
    "then calls itself to continue recursion\n"
   ]
  },
  {
   "cell_type": "code",
   "execution_count": null,
   "id": "9eb57136",
   "metadata": {},
   "outputs": [],
   "source": [
    "#Description : Program to find factorial using recursive function\n",
    "\n",
    "def facto(num):\n",
    "    if num == 1:\n",
    "        return 1\n",
    "    else:\n",
    "        return (num * facto(num-1))\n",
    "print(\"Output of factorial using recursive function\")\n",
    "print(\"-------------------------------------------------\")\n",
    "n=int(input(\"Enter a number\"))\n",
    "if n<0:\n",
    "    print(\"Factorial does not exists for negative number\")\n",
    "elif n==0:\n",
    "    print(\"The factorial of 0 is 1\")\n",
    "else:\n",
    "    print(\"The factorial of\",n,\"is\",facto(n))"
   ]
  },
  {
   "cell_type": "raw",
   "id": "4342299b",
   "metadata": {},
   "source": [
    "Lecture 3: Python OOPS Concepts"
   ]
  },
  {
   "cell_type": "markdown",
   "id": "2abd8d17",
   "metadata": {},
   "source": [
    "In Python, object-oriented Programming (OOPs) is a programming\n",
    "paradigm that uses objects and classes in programming.\n",
    "\n",
    "It aims to implement real-world entities like inheritance, \n",
    "polymorphisms, encapsulation, etc. in the programming.\n",
    "\n",
    "The main concept of OOPs is to bind the data and the \n",
    "functions that work on that data together as a single unit \n",
    "so that no other part of the code can access this data.\n",
    "\n",
    "\n",
    "Main Concepts of Object-Oriented Programming (OOPs) \n",
    "Class\n",
    "Objects\n",
    "Methods \n",
    "Polymorphism\n",
    "Encapsulation\n",
    "Inheritance\n",
    "Data Abstraction"
   ]
  },
  {
   "cell_type": "markdown",
   "id": "7e45fd45",
   "metadata": {},
   "source": [
    "Class \n",
    "A class is a collection of objects of same type.\n",
    "A class contains the blueprints or the prototype from which the objects are being created.\n",
    "It is a logical entity that contains some attributes and methods. \n",
    "\n",
    "To understand the need for creating a class let’s consider an example,\n",
    "let’s say you wanted to track the number of dogs that may have different\n",
    "attributes like breed, age.\n",
    "\n",
    "If a list is used, the first element could\n",
    "be the dog’s breed while the second element could represent its age.\n",
    "\n",
    "Let’s suppose there are 100 different dogs, then how would you know\n",
    "which element is supposed to be which?\n",
    "\n",
    "What if you wanted to add other\\properties to these dogs?\n",
    "This lacks organization and it’s the exact need for classes. "
   ]
  },
  {
   "cell_type": "markdown",
   "id": "53dc99e0",
   "metadata": {},
   "source": [
    "Classes are created by keyword class.\n",
    "Attributes are the variables that belong to a class.\n",
    "Attributes are always public and can be accessed using\n",
    "the dot (.) operator. Eg.: Myclass.Myattribute\n",
    "    \n",
    "Syntax:\n",
    "class ClassName:\n",
    "   #Statement-1\n",
    "   .\n",
    "   .\n",
    "   .\n",
    "   #Statement-N"
   ]
  },
  {
   "cell_type": "code",
   "execution_count": 1,
   "id": "fdba7faf",
   "metadata": {},
   "outputs": [],
   "source": [
    "#creating empty class in python\n",
    "# Python3 program to demonstrate defining a class\n",
    "\n",
    "class Dog:\n",
    "    pass\n"
   ]
  },
  {
   "cell_type": "code",
   "execution_count": null,
   "id": "cc85b0b5",
   "metadata": {},
   "outputs": [],
   "source": [
    "Objects\n",
    "The object is an entity that has a state and behavior associated with it.\n",
    "\n",
    "It may be any real-world object like a mouse, keyboard, chair, table, pen, etc.\n",
    "\n",
    "Integers, strings, floating-point numbers, even arrays, and dictionaries, are all objects.\n",
    "\n",
    "More specifically, any single integer or any single string is an object.\n",
    "\n",
    "The number 12 is an object, the string “Hello, world” is an object,\n",
    "a list is an object that can hold other objects, and so on.\n",
    "\n",
    "You’ve been using objects all along and may not even realize it."
   ]
  },
  {
   "cell_type": "markdown",
   "id": "3edbed49",
   "metadata": {},
   "source": [
    "An object consists of :\n",
    "\n",
    "State: It is represented by the attributes of an object.\n",
    "    It also reflects the properties of an object.\n",
    "    \n",
    "Behavior: It is represented by the methods of an object.\n",
    "    It also reflects the response of an object to other objects.\n",
    "    \n",
    "Identity: It gives a unique name to an object and enables one object to interact with other objects.\n",
    "To understand the state, behavior, and identity let us take the example of the class dog (explained above). \n",
    "\n",
    "The identity can be considered as the name of the dog.\n",
    "\n",
    "State or Attributes can be considered as the breed, age, or color of the dog.\n",
    "\n",
    "The behavior can be considered as to whether the dog is eating or sleeping."
   ]
  },
  {
   "cell_type": "code",
   "execution_count": 2,
   "id": "3c8a7750",
   "metadata": {},
   "outputs": [],
   "source": [
    "obj = Dog()\n"
   ]
  },
  {
   "cell_type": "markdown",
   "id": "b6b99148",
   "metadata": {},
   "source": [
    "This will create an object named obj of the class Dog defined above.\n",
    "\n",
    "Before diving deep into objects and class let us understand some basic keywords\n",
    "that will we used while working with objects and classes."
   ]
  },
  {
   "cell_type": "markdown",
   "id": "8d2af673",
   "metadata": {},
   "source": [
    "The self  \n",
    "Class methods must have an extra first parameter in the method definition.\n",
    "We do not give a value for this parameter when we call the method, Python provides it.\n",
    "If we have a method that takes no arguments, then we still have to have one argument.\n",
    "This is similar to this pointer in C++ and this reference in Java.\n",
    "\n",
    "When we call a method of this object as myobject.method(arg1, arg2),\n",
    "this is automatically converted by Python into MyClass.method(myobject, arg1, arg2) – this is all the special self is about.\n",
    "\n",
    "The __init__ method \n",
    "The __init__ method is similar to constructors in C++ and Java.\n",
    "\n",
    "It is run as soon as an object of a class is instantiated.\n",
    "\n",
    "The method is useful to do any initialization you want to do with your object. "
   ]
  },
  {
   "cell_type": "markdown",
   "id": "45b1a842",
   "metadata": {},
   "source": [
    "The __init__ method is the Python equivalent of the C++ constructor in an object-oriented approach.\n",
    "The __init__ function is called every time an object is created from a class.\n",
    "The __init__ method lets the class initialize the object's attributes and serves no other purpose.\n",
    "It is only used within classes."
   ]
  },
  {
   "cell_type": "markdown",
   "id": "ff76b518",
   "metadata": {},
   "source": [
    "The self in keyword in Python is used to all the instances in a class.\n",
    "By using the self keyword, one can easily access all the instances defined within a class,\n",
    "including its methods and attributes. __init__ is one of the reserved methods in Python.\n",
    "In object oriented programming, it is known as a constructor."
   ]
  },
  {
   "cell_type": "code",
   "execution_count": 9,
   "id": "31ee1416",
   "metadata": {},
   "outputs": [
    {
     "name": "stdout",
     "output_type": "stream",
     "text": [
      "rno= 123\n",
      "name= abc\n",
      "branch= cse\n"
     ]
    },
    {
     "ename": "TypeError",
     "evalue": "read() takes 0 positional arguments but 1 was given",
     "output_type": "error",
     "traceback": [
      "\u001b[1;31m---------------------------------------------------------------------------\u001b[0m",
      "\u001b[1;31mTypeError\u001b[0m                                 Traceback (most recent call last)",
      "\u001b[1;32m~\\AppData\\Local\\Temp\\ipykernel_4556\\4183904466.py\u001b[0m in \u001b[0;36m<module>\u001b[1;34m\u001b[0m\n\u001b[0;32m     11\u001b[0m \u001b[0mprint\u001b[0m\u001b[1;33m(\u001b[0m\u001b[1;34m\"name=\"\u001b[0m\u001b[1;33m,\u001b[0m \u001b[0mabc\u001b[0m\u001b[1;33m.\u001b[0m\u001b[0mname\u001b[0m\u001b[1;33m)\u001b[0m\u001b[1;33m\u001b[0m\u001b[1;33m\u001b[0m\u001b[0m\n\u001b[0;32m     12\u001b[0m \u001b[0mprint\u001b[0m\u001b[1;33m(\u001b[0m\u001b[1;34m\"branch=\"\u001b[0m\u001b[1;33m,\u001b[0m \u001b[0mabc\u001b[0m\u001b[1;33m.\u001b[0m\u001b[0mbranch\u001b[0m\u001b[1;33m)\u001b[0m\u001b[1;33m\u001b[0m\u001b[1;33m\u001b[0m\u001b[0m\n\u001b[1;32m---> 13\u001b[1;33m \u001b[0mabc\u001b[0m\u001b[1;33m.\u001b[0m\u001b[0mread\u001b[0m\u001b[1;33m(\u001b[0m\u001b[1;33m)\u001b[0m\u001b[1;33m\u001b[0m\u001b[1;33m\u001b[0m\u001b[0m\n\u001b[0m\u001b[0;32m     14\u001b[0m \u001b[1;33m\u001b[0m\u001b[0m\n",
      "\u001b[1;31mTypeError\u001b[0m: read() takes 0 positional arguments but 1 was given"
     ]
    }
   ],
   "source": [
    "class student:\n",
    "    rno=123\n",
    "    name=\"abc\"\n",
    "    branch=\"cse\"\n",
    "    \n",
    "    def read():\n",
    "        print(\"reading\")\n",
    "        \n",
    "\n",
    "#object creation\n",
    "abc=student()\n",
    "print(\"rno=\", abc.rno)\n",
    "print(\"name=\", abc.name)\n",
    "print(\"branch=\", abc.branch)\n",
    "abc.read()\n",
    "    "
   ]
  },
  {
   "cell_type": "code",
   "execution_count": 9,
   "id": "e0a6c98d",
   "metadata": {},
   "outputs": [
    {
     "name": "stdout",
     "output_type": "stream",
     "text": [
      "rno= 123\n",
      "name= abc\n",
      "branch= cse\n",
      "reading\n"
     ]
    }
   ],
   "source": [
    "class student():\n",
    "    rno=123\n",
    "    name=\"abc\"\n",
    "    branch=\"cse\"\n",
    "    def read(self):\n",
    "        print(\"reading\")\n",
    "        \n",
    "#self is implicit reference to access the instances defined in the class\n",
    "abc=student()\n",
    "print(\"rno=\", student.rno)\n",
    "print(\"name=\", abc.name)\n",
    "print(\"branch=\", abc.branch)\n",
    "abc.read()\n",
    "    "
   ]
  },
  {
   "cell_type": "code",
   "execution_count": 7,
   "id": "76ef45f1",
   "metadata": {},
   "outputs": [
    {
     "name": "stdout",
     "output_type": "stream",
     "text": [
      "rno= 123\n",
      "name= abc\n",
      "branch= cse\n",
      "345\n",
      "reading\n"
     ]
    }
   ],
   "source": [
    "class student:\n",
    "    rno=123\n",
    "    name=\"abc\"\n",
    "    branch=\"cse\"\n",
    "    def read(self):\n",
    "        rollno=345\n",
    "        print(rollno)\n",
    "        print(\"reading\")\n",
    "        \n",
    "\n",
    "abc=student()\n",
    "print(\"rno=\", student.rno)\n",
    "print(\"name=\", abc.name)\n",
    "print(\"branch=\", abc.branch)\n",
    "abc.read()\n",
    "    "
   ]
  },
  {
   "cell_type": "code",
   "execution_count": 6,
   "id": "cbd452f0",
   "metadata": {},
   "outputs": [
    {
     "name": "stdout",
     "output_type": "stream",
     "text": [
      "rno= 123\n",
      "name= abc\n",
      "branch= cse\n",
      "rollno= 345\n",
      "reading\n"
     ]
    }
   ],
   "source": [
    "class student:\n",
    "    rno=123\n",
    "    name=\"abc\"\n",
    "    branch=\"cse\"\n",
    "    def read(self):\n",
    "        rno=345\n",
    "        print(\"rollno=\", rno)\n",
    "        print(\"reading\")\n",
    "        \n",
    "\n",
    "abc=student()\n",
    "print(\"rno=\", student.rno)\n",
    "print(\"name=\", abc.name)\n",
    "print(\"branch=\", abc.branch)\n",
    "abc.read()\n",
    "    "
   ]
  },
  {
   "cell_type": "code",
   "execution_count": 5,
   "id": "141f30fe",
   "metadata": {},
   "outputs": [
    {
     "name": "stdout",
     "output_type": "stream",
     "text": [
      "rno= 123\n",
      "name= abc\n",
      "branch= cse\n",
      "rollno= 345\n",
      "Instance Variable= 123\n",
      "reading\n"
     ]
    }
   ],
   "source": [
    "class student:\n",
    "    rno=123\n",
    "    name=\"abc\"\n",
    "    branch=\"cse\"\n",
    "    def read(self):\n",
    "        rno=345\n",
    "        print(\"rollno=\", rno)\n",
    "        print(\"Instance Variable=\", self.rno)\n",
    "        print(\"reading\")\n",
    "        \n",
    "\n",
    "abc=student()\n",
    "print(\"rno=\", student.rno)\n",
    "print(\"name=\", abc.name)\n",
    "print(\"branch=\", abc.branch)\n",
    "abc.read()\n",
    "    "
   ]
  },
  {
   "cell_type": "code",
   "execution_count": 4,
   "id": "fa9c7281",
   "metadata": {},
   "outputs": [
    {
     "name": "stdout",
     "output_type": "stream",
     "text": [
      "rno= 123\n",
      "name= abc\n",
      "branch= cse\n",
      "rollno= 345\n",
      "Instance Variable= 123\n",
      "reading\n"
     ]
    }
   ],
   "source": [
    "class student:\n",
    "    rno=123\n",
    "    name=\"abc\"\n",
    "    branch=\"cse\"\n",
    "    def read(self):\n",
    "        rno=345\n",
    "        print(\"rollno=\", rno)\n",
    "        print(\"Instance Variable=\", self.rno)\n",
    "        print(\"reading\")\n",
    "    def write(self):\n",
    "        print(\"writing\")\n",
    "        \n",
    "\n",
    "abc=student()\n",
    "obj=student()\n",
    "print(\"rno=\", student.rno)\n",
    "print(\"name=\", abc.name)\n",
    "print(\"branch=\", abc.branch)\n",
    "abc.read()\n",
    "    "
   ]
  },
  {
   "cell_type": "code",
   "execution_count": 3,
   "id": "1e77430c",
   "metadata": {},
   "outputs": [
    {
     "name": "stdout",
     "output_type": "stream",
     "text": [
      "rno= 123\n",
      "name= abc\n",
      "branch= cse\n",
      "rollno= 345\n",
      "Instance Variable= 123\n",
      "reading\n",
      "writing\n"
     ]
    }
   ],
   "source": [
    "class student:\n",
    "    rno=123\n",
    "    name=\"abc\"\n",
    "    branch=\"cse\"\n",
    "    def read(self):\n",
    "        rno=345\n",
    "        print(\"rollno=\", rno)\n",
    "        print(\"Instance Variable=\", self.rno)\n",
    "        print(\"reading\")\n",
    "    def write(self):\n",
    "        print(\"writing\")\n",
    "        \n",
    "\n",
    "abc=student()\n",
    "print(\"rno=\", student.rno)\n",
    "print(\"name=\", abc.name)\n",
    "print(\"branch=\", abc.branch)\n",
    "abc.read()\n",
    "abc.write()\n",
    "    "
   ]
  },
  {
   "cell_type": "code",
   "execution_count": 2,
   "id": "6cb8b02d",
   "metadata": {},
   "outputs": [
    {
     "name": "stdout",
     "output_type": "stream",
     "text": [
      "rno= 123\n",
      "name= abc\n",
      "branch= cse\n",
      "rollno= 345\n",
      "Instance Variable= 123\n",
      "reading\n",
      "writing\n"
     ]
    }
   ],
   "source": [
    "class student:\n",
    "    rno=123\n",
    "    name=\"abc\"\n",
    "    branch=\"cse\"\n",
    "    def read(self):\n",
    "        rno=345\n",
    "        print(\"rollno=\", rno)\n",
    "        print(\"Instance Variable=\", self.rno)\n",
    "        print(\"reading\")\n",
    "    def write(self):\n",
    "        print(\"writing\")\n",
    "        \n",
    "\n",
    "abc=student()\n",
    "obj=student()\n",
    "print(\"rno=\", student.rno)\n",
    "print(\"name=\", abc.name)\n",
    "print(\"branch=\", abc.branch)\n",
    "abc.read()\n",
    "abc.write()\n",
    "    "
   ]
  },
  {
   "cell_type": "code",
   "execution_count": 8,
   "id": "1be339d1",
   "metadata": {},
   "outputs": [
    {
     "name": "stdout",
     "output_type": "stream",
     "text": [
      "Hello, my name is  Malvika\n",
      "Hello, my name is  Singh\n"
     ]
    }
   ],
   "source": [
    "# A class with init method\n",
    "class Person:\n",
    "    \n",
    "    \n",
    "    #init method or constructor\n",
    "    #The __init__ method lets the class initialize the\n",
    "    #object's attributes and serves no other purpose.\n",
    "    #It is only used within classes.\n",
    "    #We need the keyword self to bind the object’s attributes to the arguments received.\n",
    "    def __init__(self, name):\n",
    "        self.name=name\n",
    "    #The __init__ method uses the keyword self to assign the values passed as arguments\n",
    "    #to the object attributes self.name.\n",
    "    \n",
    "    \n",
    "    #sample method\n",
    "    def say_hi(self):\n",
    "        print(\"Hello, my name is \", self.name) \n",
    "        \n",
    "        \n",
    "# Creating different objects\n",
    "#We next pass the argument to “name” which correspond to the respective\n",
    "#parameters of the __init__ method of the class Person.\n",
    "p1=Person(\"Malvika\")\n",
    "p2=Person(\"Singh\")\n",
    "p1.say_hi()\n",
    "p2.say_hi()"
   ]
  },
  {
   "cell_type": "markdown",
   "id": "a524a7ce",
   "metadata": {},
   "source": [
    "Now let us define a class and create some objects using the self and __init__ method.\n",
    "\n",
    "Example 1: Creating a class and object with class and instance attributes"
   ]
  },
  {
   "cell_type": "code",
   "execution_count": 3,
   "id": "03920c0f",
   "metadata": {},
   "outputs": [
    {
     "name": "stdout",
     "output_type": "stream",
     "text": [
      "Rodger is a mammal\n",
      "Tommy is also a mammal\n",
      "My name is Rodger\n",
      "My name is Tommy\n"
     ]
    }
   ],
   "source": [
    "class Dog:\n",
    "\n",
    "\t# class attribute\n",
    "\tattr1 = \"mammal\"\n",
    "\n",
    "\t# Instance attribute\n",
    "\tdef __init__(self, name):\n",
    "\t\tself.name = name\n",
    "\n",
    "# Driver code\n",
    "# Object instantiation\n",
    "Rodger = Dog(\"Rodger\")\n",
    "Tommy = Dog(\"Tommy\")\n",
    "\n",
    "# Accessing class attributes\n",
    "print(\"Rodger is a {}\".format(Rodger.__class__.attr1))\n",
    "print(\"Tommy is also a {}\".format(Tommy.__class__.attr1))\n",
    "\n",
    "# Accessing instance attributes\n",
    "print(\"My name is {}\".format(Rodger.name))\n",
    "print(\"My name is {}\".format(Tommy.name))\n"
   ]
  },
  {
   "cell_type": "markdown",
   "id": "770b357d",
   "metadata": {},
   "source": [
    "A method is a function that “belongs to” an object.\n",
    "(In Python, the term method is not unique to class instances: other object types can have methods as well.\n",
    "For example, list objects have methods called append, insert, remove, sort, and so on."
   ]
  },
  {
   "cell_type": "markdown",
   "id": "a4c32214",
   "metadata": {},
   "source": [
    "Example 2: Creating Class and objects with methods"
   ]
  },
  {
   "cell_type": "code",
   "execution_count": 4,
   "id": "49198862",
   "metadata": {},
   "outputs": [
    {
     "name": "stdout",
     "output_type": "stream",
     "text": [
      "My name is Rodger\n",
      "My name is Tommy\n"
     ]
    }
   ],
   "source": [
    "class Dog:\n",
    "\n",
    "\t# class attribute\n",
    "\tattr1 = \"mammal\"\n",
    "\n",
    "\t# Instance attribute\n",
    "\tdef __init__(self, name):\n",
    "\t\tself.name = name\n",
    "\t\t\n",
    "\tdef speak(self):\n",
    "\t\tprint(\"My name is {}\".format(self.name))\n",
    "\n",
    "# Driver code\n",
    "# Object instantiation\n",
    "Rodger = Dog(\"Rodger\")\n",
    "Tommy = Dog(\"Tommy\")\n",
    "\n",
    "# Accessing class methods\n",
    "Rodger.speak()\n",
    "Tommy.speak()\n"
   ]
  },
  {
   "cell_type": "markdown",
   "id": "812c4ebf",
   "metadata": {},
   "source": [
    "Inheritance\n",
    "\n",
    "Inheritance is the capability of one class to derive or inherit the properties from another class. The class that derives properties is called the derived class or child class and the class from which the properties are being derived is called the base class or parent class. The benefits of inheritance are:\n",
    "\n",
    "It represents real-world relationships well.\n",
    "It provides the reusability of a code.\n",
    "We don’t have to write the same code again and again.\n",
    "Also, it allows us to add more features to a class without modifying it.\n",
    "It is transitive in nature, which means that if class B inherits from another class A, then all the subclasses of B would automatically inherit from class A.\n",
    "\n",
    "Types of Inheritance – \n",
    "Single Inheritance:\n",
    "Single-level inheritance enables a derived class to inherit characteristics from a single-parent class.\n",
    "\n",
    "Multilevel Inheritance:\n",
    "Multi-level inheritance enables a derived class to inherit properties from an immediate parent class which in turn inherits properties from his parent class.\n",
    "\n",
    "Hierarchical Inheritance:\n",
    "Hierarchical level inheritance enables more than one derived class to inherit properties from a parent class.\n",
    "\n",
    "Multiple Inheritance:\n",
    "Multiple level inheritance enables one derived class to inherit properties from more than one base class."
   ]
  },
  {
   "cell_type": "code",
   "execution_count": 5,
   "id": "d87fb833",
   "metadata": {},
   "outputs": [
    {
     "name": "stdout",
     "output_type": "stream",
     "text": [
      "Rahul\n",
      "886012\n",
      "My name is Rahul\n",
      "IdNumber: 886012\n",
      "Post: Intern\n"
     ]
    }
   ],
   "source": [
    "# Python code to demonstrate how parent constructors are called.\n",
    "\n",
    "# parent class\n",
    "class Person(object):\n",
    "\n",
    "\t# __init__ is known as the constructor\n",
    "\tdef __init__(self, name, idnumber):\n",
    "\t\tself.name = name\n",
    "\t\tself.idnumber = idnumber\n",
    "\n",
    "\tdef display(self):\n",
    "\t\tprint(self.name)\n",
    "\t\tprint(self.idnumber)\n",
    "\t\t\n",
    "\tdef details(self):\n",
    "\t\tprint(\"My name is {}\".format(self.name))\n",
    "\t\tprint(\"IdNumber: {}\".format(self.idnumber))\n",
    "\t\n",
    "# child class\n",
    "class Employee(Person):\n",
    "\tdef __init__(self, name, idnumber, salary, post):\n",
    "\t\tself.salary = salary\n",
    "\t\tself.post = post\n",
    "\n",
    "\t\t# invoking the __init__ of the parent class\n",
    "\t\tPerson.__init__(self, name, idnumber)\n",
    "\t\t\n",
    "\tdef details(self):\n",
    "\t\tprint(\"My name is {}\".format(self.name))\n",
    "\t\tprint(\"IdNumber: {}\".format(self.idnumber))\n",
    "\t\tprint(\"Post: {}\".format(self.post))\n",
    "\n",
    "\n",
    "# creation of an object variable or an instance\n",
    "a = Employee('Rahul', 886012, 200000, \"Intern\")\n",
    "\n",
    "# calling a function of the class Person using\n",
    "# its instance\n",
    "a.display()\n",
    "a.details()\n"
   ]
  },
  {
   "cell_type": "markdown",
   "id": "db8c4cec",
   "metadata": {},
   "source": [
    "Above, we have created two classes i.e. Person (parent class) and Employee (Child Class).\n",
    "The Employee class inherits from the Person class. We can use the methods of the person\n",
    "class through employee class as seen in the display function in the above code.\n",
    "A child class can also modify the behavior of the parent class as seen through the details() method."
   ]
  },
  {
   "cell_type": "code",
   "execution_count": null,
   "id": "0e63e03f",
   "metadata": {},
   "outputs": [],
   "source": [
    "Polymorphism\n",
    "Polymorphism simply means having many forms.\n",
    "For example, we need to determine if the given species\n",
    "of birds fly or not, using polymorphism we can do this using a single function."
   ]
  },
  {
   "cell_type": "code",
   "execution_count": 1,
   "id": "6aa7b822",
   "metadata": {},
   "outputs": [
    {
     "name": "stdout",
     "output_type": "stream",
     "text": [
      "There are many types of birds.\n",
      "Most of the birds can fly but some cannot.\n",
      "There are many types of birds.\n",
      "Sparrows can fly.\n",
      "There are many types of birds.\n",
      "Ostriches cannot fly.\n"
     ]
    }
   ],
   "source": [
    "class Bird:\n",
    "\n",
    "\tdef intro(self):\n",
    "\t\tprint(\"There are many types of birds.\")\n",
    "\n",
    "\tdef flight(self):\n",
    "\t\tprint(\"Most of the birds can fly but some cannot.\")\n",
    "\n",
    "class sparrow(Bird):\n",
    "\n",
    "\tdef flight(self):\n",
    "\t\tprint(\"Sparrows can fly.\")\n",
    "\n",
    "class ostrich(Bird):\n",
    "\n",
    "\tdef flight(self):\n",
    "\t\tprint(\"Ostriches cannot fly.\")\n",
    "\n",
    "obj_bird = Bird()\n",
    "obj_spr = sparrow()\n",
    "obj_ost = ostrich()\n",
    "\n",
    "obj_bird.intro()\n",
    "obj_bird.flight()\n",
    "\n",
    "obj_spr.intro()\n",
    "obj_spr.flight()\n",
    "\n",
    "obj_ost.intro()\n",
    "obj_ost.flight()\n"
   ]
  },
  {
   "cell_type": "code",
   "execution_count": null,
   "id": "b72f40a6",
   "metadata": {},
   "outputs": [],
   "source": [
    "Encapsulation\n",
    "Encapsulation is one of the fundamental concepts in object-oriented programming (OOP).\n",
    "It describes the idea of wrapping data and the methods that work on data within one unit.\n",
    "This puts restrictions on accessing variables and methods directly and can prevent\n",
    "the accidental modification of data. To prevent accidental change, an object’s\n",
    "variable can only be changed by an object’s method. Those types of variables are known as private variables.\n",
    "\n",
    "A class is an example of encapsulation as it encapsulates all the data that is member functions, variables, etc."
   ]
  },
  {
   "cell_type": "code",
   "execution_count": 3,
   "id": "64b84ce7",
   "metadata": {},
   "outputs": [
    {
     "name": "stdout",
     "output_type": "stream",
     "text": [
      "Malvika\n"
     ]
    }
   ],
   "source": [
    "# Python program to\n",
    "# demonstrate private members\n",
    "\n",
    "# Creating a Base class\n",
    "class Base:\n",
    "\tdef __init__(self):\n",
    "\t\tself.a = \"Malvika\"\n",
    "\t\tself.__c = \"Malvika\"\n",
    "\n",
    "# Creating a derived class\n",
    "class Derived(Base):\n",
    "\tdef __init__(self):\n",
    "\n",
    "\t\t# Calling constructor of\n",
    "\t\t# Base class\n",
    "\t\tBase.__init__(self)\n",
    "\t\tprint(\"Calling private member of base class: \")\n",
    "\t\tprint(self.__c)\n",
    "\n",
    "\n",
    "# Driver code\n",
    "obj1 = Base()\n",
    "print(obj1.a)\n",
    "\n",
    "# Uncommenting print(obj1.c) will\n",
    "# raise an AttributeError\n",
    "\n",
    "# Uncommenting obj2 = Derived() will\n",
    "# also raise an AtrributeError as\n",
    "# private member of base class\n",
    "# is called inside derived class\n"
   ]
  },
  {
   "cell_type": "code",
   "execution_count": null,
   "id": "d92fb232",
   "metadata": {},
   "outputs": [],
   "source": [
    "In the above example, we have created the c variable as the private attribute.\n",
    "We cannot even access this attribute directly and can’t even change its value."
   ]
  },
  {
   "cell_type": "code",
   "execution_count": null,
   "id": "20b57dd5",
   "metadata": {},
   "outputs": [],
   "source": [
    "Data Abstraction \n",
    "It hides the unnecessary code details from the user.\n",
    "Also,  when we do not want to give out sensitive parts of our code implementation and this is where data abstraction came.\n",
    "\n",
    "Data Abstraction in Python can be achieved through creating abstract classes.\n"
   ]
  },
  {
   "cell_type": "code",
   "execution_count": null,
   "id": "a30256cc",
   "metadata": {},
   "outputs": [],
   "source": [
    "Lecture 4: File Handling and Exception Handling"
   ]
  },
  {
   "cell_type": "markdown",
   "id": "3cd7c970",
   "metadata": {},
   "source": [
    "PERSISTENCE\n",
    "Most of the programs we have seen are transient (lasting\n",
    "or continuing for a short period of time)\n",
    "in the sense that they run for a short time and produce some\n",
    "output,but when they end, their data disappears.\n",
    "If you run the program again, it starts with a clean slate.\n",
    "\n",
    "Other programs are persistent: they run for a long time (or all the time);\n",
    "they keep at least some of their data in permanent storage (a hard drive, for example);\n",
    "and if they shut down and restart, they pick up where they left off.\n",
    "\n",
    "Examples of persistent programs are operating systems, which run pretty much \n",
    "whenever a computer is on, and web servers, which run all the time, waiting for requests to come \n",
    "in on the network.\n",
    "\n",
    "One of the simplest ways for programs to maintain their data is by reading and writing text files.\n",
    "An alternative is to store the state of the program in a database.\n",
    "\n"
   ]
  },
  {
   "cell_type": "markdown",
   "id": "e845e7e1",
   "metadata": {},
   "source": [
    "FILE AND ITS OPERATION\n",
    "• File is a collection of record.\n",
    "• A file stores related data, information, settings or commands\n",
    "in secondary storage\n",
    "device like magnetic disk, magnetic tape, optical disk, flash memory.\n",
    "File Type\n",
    "1. Text file\n",
    "2. Binary file\n",
    "\n",
    "TEXTFILE:\n",
    "Text file is a sequence of characters that can be sequentially\n",
    "processed by a computer in forward direction\n",
    "Each line is terminated with a special character called\n",
    "the E0L or end of line character\n",
    "\n",
    "A textfile is a sequence of characters stored on a permanent\n",
    "medium like a hard drive, flash memory, or CD-ROM.\n",
    "A text file is a file containing characters, structured \n",
    "as individual lines of text.\n",
    "In addition to printable characters, text files also contain\n",
    "the nonprinting newline character, \\n, to \n",
    "denote the end of each text line.\n",
    "The newline character causes the screen cursor to move to the\n",
    "beginning of the next screen line.\n",
    "Thus, text files can be directly viewed and created using a\n",
    "text editor.\n",
    "\n",
    "\n",
    "\n",
    "BINARY FILE:\n",
    "A binary files store the data in the binary format(i.e .0’s and 1’s)\n",
    "It contains any type of data(pdf,images,word doc,spreadsheet,zip files,etc)\n",
    "\n",
    "Binary files can contain various types of data, such as numerical values, \n",
    "and are therefore not structured as lines of text.\n",
    "Such files can only be read and written via a computer program.\n"
   ]
  },
  {
   "cell_type": "markdown",
   "id": "98117054",
   "metadata": {},
   "source": [
    "Modes in File:\n",
    "    \n",
    "Using Text Files\n",
    "Fundamental operations of all types of files include opening a file,\n",
    "reading from a file, \n",
    "writing to a file, and closing a file. Next we discuss each of these\n",
    "operations when using text files \n",
    "in Python.\n",
    "\n",
    "Mode: r\n",
    "Decsription: Read Only\n",
    "    \n",
    "Mode: w\n",
    "Decsription: Write Only. Open a file for writing.\n",
    "If a file already exists,\n",
    "it deletes all the existing contents and adds new\n",
    "content from the start of the file.\n",
    "    \n",
    "Mode: a\n",
    "Decsription: Appending Only\n",
    "\n",
    "Mode: x\n",
    "Decsription: Open a file for exclusive creation.\n",
    "If the file already\n",
    "exists, this operation fails.\n",
    "\n",
    "I test the \"x\" mode and find some:\n",
    "\"x\" is only writeable. \"x+\" can write and read\n",
    "The file must not exist before open\n",
    "The file will be created after open\n",
    "So, \"x\" is similar to \"w\". But for \"x\", if the file exists,\n",
    "raise FileExistsError. For \"w\", it will simply \n",
    "create a new file / truncate the existed file.\n",
    "That is what x means: The same as w but raises \n",
    "an exception if the file already exists.\n",
    "When you specify exclusive creation, it clearly means, you would\n",
    "use this mode for exclusively creating the file. The need for this\n",
    "is required when you won't accidentally truncate/append an existing\n",
    "file with either of the modes w or a.\n",
    "\n",
    "\n",
    "Mode: b\n",
    "Decsription: Open the file in binary mode\n",
    "\n",
    "Mode: t\n",
    "Decsription: Open the file in text mode(default)\n",
    "\n",
    "Mode: +\n",
    "Decsription: Open a file for updating (reading and writing)\n",
    "    \n",
    "Mode: r+\n",
    "Decsription: To read and write data into the file. \n",
    "The previous data in the file will be overridden.\n",
    "\n",
    "Mode: w+\n",
    "Decsription: To write and read data. \n",
    "It will override existing data.\n",
    "\n",
    "\"r+\" Open a text file for update\n",
    "(that is, for both reading and writing).\n",
    "\"w+\" Open a text file for update\n",
    "(reading and writing), first truncating \n",
    "the file to zero length if it exists or\n",
    "creating the file if it does not exist.\n",
    "\n",
    "r+: Opens a file in read and write mode. File pointer starts at the\n",
    "beginning of the file. w+: Opens a file in read and write mode. \n",
    "It creates a new file if it does not exist, if it exists, it erases \n",
    "the contents of the file and the file pointer starts from the beginning.\n",
    "\n",
    "Mode: a+\n",
    "Decsription: To append and read data from the file.\n",
    "It won’t override existing data\n",
    "\n",
    "Mode: rb\n",
    "Decsription: Opens a file for reading\n",
    "only in binary format.\n",
    "\n",
    "Mode: rb+\n",
    "Decsription: Opens a file for both reading \n",
    "and writing in binary format.\n"
   ]
  },
  {
   "cell_type": "markdown",
   "id": "1a5419ad",
   "metadata": {},
   "source": [
    "Difference between write and append mode:\n",
    "    \n",
    "Write mode:\n",
    "• It is used to write a string in a file\n",
    "• If file is not exist it creates a new file\n",
    "• If file is exit in the specified name, the existing content will\n",
    "overwrite in a file by the given string\n",
    "Append mode:\n",
    "• It is used to append (add) a string into a file\n",
    "• If file is not exist it creates a new file\n",
    "• It will add the string at the end of the old file"
   ]
  },
  {
   "cell_type": "markdown",
   "id": "d75ca120",
   "metadata": {},
   "source": [
    "File Operations:\n",
    "    \n",
    "Open a file\n",
    "Reading a file\n",
    "Writing a file\n",
    "Closing a file\n"
   ]
  },
  {
   "cell_type": "markdown",
   "id": "4f3c1c1d",
   "metadata": {},
   "source": [
    "Steps For Opening File in Python\n",
    "\n",
    "To open a file in Python:\n",
    "\n",
    "1. Find the path of a file\n",
    "We can open a file using both relative path and\n",
    "absolute path.\n",
    "The path is the location of the file on the disk.\n",
    "An absolute path contains the complete directory \n",
    "list required to locate the file.\n",
    "A relative path contains the current directory \n",
    "and then the file name.\n",
    "\n",
    "2. Decide the access mode\n",
    "The access mode specifies the operation you wanted to \n",
    "perform on the file, such as reading or writing.\n",
    "To open and read a file, use the r access mode.\n",
    "To open a file for writing, use the w mode.\n",
    "\n",
    "3. Pass file path and access mode to the open() function\n",
    "fp= open(r\"File_Name\", \"Access_Mode\").\n",
    "For example, to open and read: fp = open('sample.txt', 'r')\n",
    "\n",
    "4. Read content from a file.\n",
    "Next, read a file using the read() method.\n",
    "For example, content = fp.read().\n",
    "You can also use readline(), and readlines()\n",
    "\n",
    "5. Write content into the file\n",
    "If you have opened a file in a write mode, you can write or \n",
    "append text to the file using the write() method.\n",
    "For example, fp.write('content').\n",
    "You can also use the writeline() method.\n",
    "\n",
    "6. Close file after completing operation\n",
    "We need to make sure that the file will be closed properly \n",
    "after completing the file operation.\n",
    "Use fp.close() to close a file."
   ]
  },
  {
   "cell_type": "markdown",
   "id": "0fd3d193",
   "metadata": {},
   "source": [
    "1. Open () Function:\n",
    "    \n",
    "• Pythons built in open function to get a file object.\n",
    "• The open function opens a file.\n",
    "• It returns a something called a file object.\n",
    "• File objects can turn methods and attributes that can be used to collect\n",
    "\n",
    "Syntax:\n",
    "file_object=open(\"file_name\" , \"mode\")\n",
    "\n",
    "Example:\n",
    "fp=open(\"a.txt\",\"r\")\n",
    "\n",
    "Create a text file\n",
    "fp=open (\"text.txt\",\"w\")\n"
   ]
  },
  {
   "cell_type": "code",
   "execution_count": 22,
   "id": "30fef3ae",
   "metadata": {},
   "outputs": [
    {
     "name": "stdout",
     "output_type": "stream",
     "text": [
      "Hi\n",
      "\n",
      "Welcome to Woxsen University\n",
      "\n",
      "Hyderabad\n"
     ]
    }
   ],
   "source": [
    "#import os\n",
    "#os.chdir(\"/path/to/Desktop\")\n",
    "\n",
    "# a file named \"a\", will be opened with the reading mode.\n",
    "file = open(\"C:/Users/Faculty-34/Desktop/a.txt\", 'r')\n",
    "# This will print every line one by one in the file\n",
    "for each in file:\n",
    "\tprint(each)\n"
   ]
  },
  {
   "cell_type": "markdown",
   "id": "69f3df40",
   "metadata": {},
   "source": [
    "2. Read() Function\n",
    "\n",
    "Read functions contains different methods\n",
    "• read() – return one big string\n",
    "• readline() – return one line at a time\n",
    "• readlines() – return a list of lines\n",
    "\n",
    "Syntax:\n",
    "file_name.read ()\n",
    "\n",
    "Example:\n",
    "fp=open(“a.txt”,”w”)\n",
    "print(fp.read())\n",
    "print(fp.read(6))\n",
    "print (fp.readline())\n",
    "print (fp.readline(3))\n",
    "print (fp.readlines())"
   ]
  },
  {
   "cell_type": "code",
   "execution_count": 13,
   "id": "f4656f8f",
   "metadata": {},
   "outputs": [
    {
     "name": "stdout",
     "output_type": "stream",
     "text": [
      "\n"
     ]
    }
   ],
   "source": [
    "aa=open(\"C:/Users/Faculty-34/Desktop/a.txt\", 'r')\n",
    "aa.read()\n",
    "print(aa.read())\n",
    "#print(a.read(6))\n",
    "#print (a.readline())\n",
    "#print (a.readline(3))\n",
    "#print (a.readlines())"
   ]
  },
  {
   "cell_type": "code",
   "execution_count": 14,
   "id": "ebe7988f",
   "metadata": {},
   "outputs": [
    {
     "name": "stdout",
     "output_type": "stream",
     "text": [
      "Hi\n",
      "Welcome to Woxsen University\n",
      "Hyderabad\n"
     ]
    }
   ],
   "source": [
    "aa=open(\"C:/Users/Faculty-34/Desktop/a.txt\", 'r')\n",
    "a=aa.read()\n",
    "print(a)"
   ]
  },
  {
   "cell_type": "code",
   "execution_count": 17,
   "id": "3d80cb03",
   "metadata": {},
   "outputs": [],
   "source": [
    "#aa=open(\"C:/Users/Faculty-34/Desktop/a.txt\", 'r')\n",
    "#a.read()\n",
    "#print(aa.read())\n",
    "#print(aa.read(6))\n",
    "#print (a.readline())\n",
    "#print (a.readline(3))\n",
    "#print (a.readlines())"
   ]
  },
  {
   "cell_type": "code",
   "execution_count": 18,
   "id": "96ede72b",
   "metadata": {},
   "outputs": [],
   "source": [
    "#aa=open(\"C:/Users/Faculty-34/Desktop/a.txt\", 'a+')\n",
    "#a.read()\n",
    "#print(a.read())\n",
    "#print(a.read(6))\n",
    "#print(aa.readline())\n",
    "#print (a.readline(3))\n",
    "#print (a.readlines())"
   ]
  },
  {
   "cell_type": "code",
   "execution_count": 13,
   "id": "40efaa5e",
   "metadata": {},
   "outputs": [
    {
     "name": "stdout",
     "output_type": "stream",
     "text": [
      "\n"
     ]
    }
   ],
   "source": [
    "#aa=open(\"C:/Users/Faculty-34/Desktop/a.txt\", 'a+')\n",
    "#a.read()\n",
    "#print(a.read())\n",
    "#print(a.read(6))\n",
    "#print (a.readline())\n",
    "#print(aa.readline(3))\n",
    "#print (a.readlines())"
   ]
  },
  {
   "cell_type": "code",
   "execution_count": 19,
   "id": "670ca621",
   "metadata": {},
   "outputs": [],
   "source": [
    "#aa=open(\"C:/Users/Faculty-34/Desktop/a.txt\", 'a+')\n",
    "#a.read()\n",
    "#print(a.read())\n",
    "#print(a.read(6))\n",
    "#print (a.readline())\n",
    "#print (a.readline(3))\n",
    "#print(aa.readlines())"
   ]
  },
  {
   "cell_type": "markdown",
   "id": "f663cfc4",
   "metadata": {},
   "source": [
    "Reading file using looping:\n",
    "• Reading a line one by one in given file\n",
    "fp=open(“a.txt”,”r”)\n",
    "for line in fp:\n",
    "print(line)"
   ]
  },
  {
   "cell_type": "code",
   "execution_count": 15,
   "id": "20ce65ec",
   "metadata": {},
   "outputs": [
    {
     "name": "stdout",
     "output_type": "stream",
     "text": [
      "Hi\n",
      "\n",
      "Welcome to Woxsen University\n",
      "\n",
      "Hyderabad\n"
     ]
    }
   ],
   "source": [
    "\n",
    "aa=open(\"C:/Users/Faculty-34/Desktop/a.txt\", 'r+')\n",
    "for line in aa:\n",
    "    print(line)"
   ]
  },
  {
   "cell_type": "markdown",
   "id": "da7a1acc",
   "metadata": {},
   "source": [
    "3. Write ( ) function\n",
    "This method is used to add information or content to existing file.\n",
    "Syntax:\n",
    "file_name.write( )\n",
    "Example:\n",
    "fp=open(“a.txt”,”w”)\n",
    "fp.write(“this file is a.txt”)\n",
    "fp.write(“to add more lines”)\n",
    "fp.close()"
   ]
  },
  {
   "cell_type": "code",
   "execution_count": 23,
   "id": "72864163",
   "metadata": {},
   "outputs": [],
   "source": [
    "aa=open(\"C:/Users/Faculty-34/Desktop/a.txt\", 'w')\n",
    "aa.write('this file is a.txt')\n",
    "aa.write('to add more lines')\n",
    "aa.close()"
   ]
  },
  {
   "cell_type": "markdown",
   "id": "21490bc8",
   "metadata": {},
   "source": [
    "4. Close ( ) function\n",
    "It is used to close the file.\n",
    "Syntax:\n",
    "File name.close()\n",
    "Example:\n",
    "fp=open(“a.txt”,”w”)\n",
    "fp.write(“this file is a.txt”)\n",
    "fp.write(“to add more lines”)\n",
    "fp.close()\n",
    "\n",
    "Splitting line in a text line:\n",
    "fp=open(“a.txt”,”w”)\n",
    "for line in fp:\n",
    "words=line.split()\n",
    "print(words)"
   ]
  },
  {
   "cell_type": "code",
   "execution_count": 21,
   "id": "40df0975",
   "metadata": {},
   "outputs": [],
   "source": [
    "fp=open(\"C:/Users/Faculty-34/Desktop/a.txt\", 'w')\n",
    "fp.write('this file is a.txt')\n",
    "fp.write('to add more lines')\n",
    "fp.close()"
   ]
  },
  {
   "cell_type": "code",
   "execution_count": 16,
   "id": "4be2c20f",
   "metadata": {},
   "outputs": [
    {
     "name": "stdout",
     "output_type": "stream",
     "text": [
      "['Hi']\n",
      "['Welcome', 'to', 'Woxsen', 'University']\n",
      "['Hyderabad']\n"
     ]
    }
   ],
   "source": [
    "#Splitting line in a text line:\n",
    "aa=open(\"C:/Users/Faculty-34/Desktop/a.txt\", 'r+')\n",
    "for line in aa:\n",
    "    words=line.split()\n",
    "    print(words)"
   ]
  },
  {
   "cell_type": "code",
   "execution_count": 17,
   "id": "77f94c4d",
   "metadata": {},
   "outputs": [],
   "source": [
    "#Write a program for one file content copy into another file:\n",
    "source=open(\"C:/Users/Faculty-34/Desktop/a.txt\", 'r')\n",
    "destination=open(\"C:/Users/Faculty-34/Desktop/b.txt\", 'w')\n",
    "for line in source:\n",
    "    destination.write(line)\n",
    "source.close()\n",
    "destination.close()"
   ]
  },
  {
   "cell_type": "code",
   "execution_count": 18,
   "id": "41a1c4b7",
   "metadata": {},
   "outputs": [
    {
     "name": "stdout",
     "output_type": "stream",
     "text": [
      "Number of character 41\n",
      "Number of words 6\n",
      "Total Number of lines: 3\n"
     ]
    }
   ],
   "source": [
    "#Write a program to count number of lines, words and characters in a text file:\n",
    "a=open(\"C:/Users/Faculty-34/Desktop/a.txt\", 'r')\n",
    "line = 0\n",
    "word = 0\n",
    "character = 0\n",
    "count = 0\n",
    "for count, line in enumerate(a):\n",
    "    words = line.split ( )\n",
    "    #l = len(a.readlines())\n",
    "    #line += 1\n",
    "    word = word + len(words)\n",
    "    character = character +len(line)\n",
    "#print('Number of line', line)\n",
    "print('Number of character', character)\n",
    "print('Number of words', word)\n",
    "print('Total Number of lines:', count + 1)"
   ]
  },
  {
   "cell_type": "markdown",
   "id": "b6bf25e7",
   "metadata": {},
   "source": [
    "You can use enumerate() in a loop in almost the same way that you use the original iterable object. Instead of putting the iterable directly after in in the for loop, you put it inside the parentheses of enumerate(). You also have to change the loop variable a little bit, as shown in this example:\n",
    "\n",
    ">>> for count, value in enumerate(values):\n",
    "...     print(count, value)\n",
    "...\n",
    "0 a\n",
    "1 b\n",
    "2 c"
   ]
  },
  {
   "cell_type": "code",
   "execution_count": 20,
   "id": "ec6491eb",
   "metadata": {},
   "outputs": [
    {
     "name": "stdout",
     "output_type": "stream",
     "text": [
      "0 a\n",
      "1 b\n",
      "2 c\n"
     ]
    }
   ],
   "source": [
    "values = [\"a\", \"b\", \"c\"]\n",
    "for count, value in enumerate(values):\n",
    "    print(count, value)"
   ]
  },
  {
   "cell_type": "markdown",
   "id": "ce359754",
   "metadata": {},
   "source": [
    "\n",
    "\n",
    "Exceptions handling"
   ]
  },
  {
   "cell_type": "code",
   "execution_count": null,
   "id": "15c50746",
   "metadata": {},
   "outputs": [],
   "source": []
  },
  {
   "cell_type": "markdown",
   "id": "e81b550a",
   "metadata": {},
   "source": [
    "ERRORS,EXCEPTION HANDLING\n",
    "Errors\n",
    "Error is a mistake in python also referred as bugs.\n",
    "They are almost always the fault of the programmer.\n",
    "The process of finding and eliminating errors is\n",
    "called debugging.\n",
    "\n",
    "\n",
    "Types of errors\n",
    "1. Syntax error or compile time error\n",
    "2. Run time error\n",
    "3. Logical error\n",
    "\n",
    "\n",
    "1. Syntax Errors:\n",
    "Syntax errors are the errors which are displayed when the \n",
    "programmer do mistakes when writing a program.\n",
    "When a program has syntax errors it will not get executed.\n",
    "Examples:\n",
    "Leaving out a keyword\n",
    "Leaving out a symbol, such as colon, comma, brackets\n",
    "Misspelling a keyword\n",
    "Incorrect indentation\n",
    "\n",
    "\n",
    "2. Runtime Errors:\n",
    "If a program is syntactically correct-that is ,free of syntax errors-it\n",
    "will be run by the python interpreter\n",
    "However, the program may exit unexpectedly during execution if it \n",
    "encounters a runtime error.\n",
    "When a program has runtime error it will get executed but it will\n",
    "not produce output\n",
    "Examples:\n",
    "Division by zero\n",
    "Performing an operation on incompatible types\n",
    "Using an identifier which has not been defined\n",
    "Trying to access a file which doesn’t exit\n",
    "\n",
    "\n",
    "3. Logical Errors:\n",
    "Logical errors are the most difficult to fix.\n",
    "They occur when the program runs without crashing\n",
    "but produces incorrect result.\n",
    "Examples:\n",
    "Using the wrong variable name\n",
    "Indenting a blocks to the wrong level\n",
    "Using integer division instead of floating point division\n",
    "Getting operator precedence wrong\n",
    "\n",
    "\n",
    "Exception Handling\n",
    "Exceptions:\n",
    "An exception is an error that happens during execution\n",
    "of a program when that error occurs.\n",
    "\n",
    "Errors in python:\n",
    "1. IO Err or-If the file cannot be opened\n",
    "2. Import Error -If python cannot find the module\n",
    "3. Value Error -Raised when a built-in operation or function receives\n",
    "an argument that has the right type but an inappropriate value\n",
    "\n",
    "4. Keyboard Interrupt -Raised when the user hits the interrupt (When\n",
    "the user types a key on the keyboard, the keyboard triggers an \n",
    "interrupt request to the CPU. The interrupt suspends execution \n",
    "of the currently-running process and executes the handler whose\n",
    "job it is to deal with this particular I/O event.)\n",
    "\n",
    "An exception is an unexpected event from within the processor. \n",
    "Interrupt is an unexpected event from outside the process.\n",
    "Whenever an exception or interrupt occurs, the hardware starts\n",
    "executing the code that performs an action in response to the exception.\n",
    "\n",
    "When a key is struck on a keyboard or the mouse is moved, it \n",
    "causes hardware interrupts. These interrupts tell the CPU to \n",
    "read the keystroke or mouse movement that was detected. \n",
    "Errors that occur during the execution of a program can result\n",
    "in software interruptions, which are commonly referred to as exceptions.\n",
    "\n",
    "5. EOF Error -Raised when one of the built-in functions (input() or \n",
    "raw_input()) hits an end-of-file condition (EOF) without reading any data\n",
    "\n",
    "\n",
    "Exception Handling Mechanism\n",
    "1. try –except\n",
    "2. try –multiple except\n",
    "3. try –except-else\n",
    "4. raise exception\n",
    "5. try –except-finally"
   ]
  },
  {
   "cell_type": "markdown",
   "id": "ba58361c",
   "metadata": {},
   "source": [
    "1. Try –Except Statements\n",
    "The try and except statements are used to handle runtime errors\n",
    "Syntax:\n",
    "try :\n",
    "statements\n",
    "except :\n",
    "statements\n",
    "\n",
    "The try statement works as follows:-\n",
    "First, the try clause (the statement(s) between the try and except keywords) is executed.\n",
    "If no exception occurs, the except clause is skipped and execution of the try statement is finished.\n",
    "If an exception occurs during execution of the try clause, the rest of the clause is skipped.\n",
    "Then if its type matches the exception named after the except keyword, the except clause is executed, and then execution continues after the try statement.\n",
    "Example:\n",
    "X=int(input(“Enter the value of X”))\n",
    "Y=int(input(“Enter the value of Y”))\n",
    "try:\n",
    "result = X / ( X – Y )\n",
    "print(“result=”.result)\n",
    "except ZeroDivisionError:\n",
    "print(“Division by Zero”)\n"
   ]
  },
  {
   "cell_type": "code",
   "execution_count": 9,
   "id": "6de8b7dc",
   "metadata": {},
   "outputs": [
    {
     "name": "stdout",
     "output_type": "stream",
     "text": [
      "Yeah ! Your answer is : 1\n"
     ]
    }
   ],
   "source": [
    "# Python code to illustrate\n",
    "# working of try()\n",
    "def divide(x, y):\n",
    "\ttry:\n",
    "\t\t# Floor Division : Gives only Fractional Part as Answer\n",
    "\t\tresult = x // y\n",
    "\t\tprint(\"Yeah ! Your answer is :\", result)\n",
    "\texcept ZeroDivisionError:\n",
    "\t\tprint(\"Sorry ! You are dividing by zero \")\n",
    "\n",
    "# Look at parameters and note the working of Program\n",
    "divide(3, 2)\n"
   ]
  },
  {
   "cell_type": "code",
   "execution_count": 10,
   "id": "6d19cb77",
   "metadata": {},
   "outputs": [
    {
     "name": "stdout",
     "output_type": "stream",
     "text": [
      "Yeah ! Your answer is : 0\n"
     ]
    }
   ],
   "source": [
    "# Python code to illustrate\n",
    "# working of try()\n",
    "def divide(x, y):\n",
    "\ttry:\n",
    "\t\t# Floor Division : Gives only Fractional Part as Answer\n",
    "\t\tresult = x // y\n",
    "\t\tprint(\"Yeah ! Your answer is :\", result)\n",
    "\texcept ZeroDivisionError:\n",
    "\t\tprint(\"Sorry ! You are dividing by zero \")\n",
    "\n",
    "# Look at parameters and note the working of Program\n",
    "divide(0, 2)\n"
   ]
  },
  {
   "cell_type": "code",
   "execution_count": 11,
   "id": "ddb7ea85",
   "metadata": {},
   "outputs": [
    {
     "name": "stdout",
     "output_type": "stream",
     "text": [
      "Sorry ! You are dividing by zero \n"
     ]
    }
   ],
   "source": [
    "# Python code to illustrate\n",
    "# working of try()\n",
    "def divide(x, y):\n",
    "\ttry:\n",
    "\t\t# Floor Division : Gives only Fractional Part as Answer\n",
    "\t\tresult = x // y\n",
    "\t\tprint(\"Yeah ! Your answer is :\", result)\n",
    "\texcept ZeroDivisionError:\n",
    "\t\tprint(\"Sorry ! You are dividing by zero \")\n",
    "\n",
    "# Look at parameters and note the working of Program\n",
    "divide(3, 0)\n"
   ]
  },
  {
   "cell_type": "markdown",
   "id": "43c84f86",
   "metadata": {},
   "source": [
    "2. Try – Multiple except Statements\n",
    "Exception type must be different for except statements\n",
    "Syntax:\n",
    "try:\n",
    "statements\n",
    "except errors1:\n",
    "statements\n",
    "except errors2:\n",
    "statements\n",
    "except errors3:\n",
    "statements\n",
    "\n",
    "Example\n",
    "X=int(input(“Enter the value of X”))\n",
    "Y=int(input(“Enter the value of y”))\n",
    "try:\n",
    "sum = X + Y\n",
    "divide = X / Y\n",
    "print (“ Sum of %d and %d = %d”, %(X,Y,sum))\n",
    "print (“ Division of %d and %d = %d”, %(X,Y,divide))\n",
    "except NameError:\n",
    "print(“ The input must be number”)\n",
    "except ZeroDivisionError:\n",
    "print(“Division by Zero”)"
   ]
  },
  {
   "cell_type": "code",
   "execution_count": 31,
   "id": "4aa949b2",
   "metadata": {},
   "outputs": [
    {
     "name": "stdout",
     "output_type": "stream",
     "text": [
      "Enter the value of X4\n",
      "Enter the value of y2\n",
      "Sum of 4 and 2 = 6,\n",
      "Division of 4 and 2 = 2.0,\n"
     ]
    }
   ],
   "source": [
    "X=int(input('Enter the value of X'))\n",
    "Y=int(input('Enter the value of y'))\n",
    "try:\n",
    "    sum = X + Y\n",
    "    divide = X / Y\n",
    "    print ('Sum of {0} and {1} = {2},'.format(X,Y,sum))\n",
    "    print ('Division of {0} and {1} = {2},'.format(X,Y,divide))\n",
    "except NameError:\n",
    "    print('The input must be number')\n",
    "except ZeroDivisionError:\n",
    "    print('Division by Zero')"
   ]
  },
  {
   "cell_type": "code",
   "execution_count": null,
   "id": "806b1da9",
   "metadata": {},
   "outputs": [],
   "source": [
    "X=int(input('Enter the value of X'))\n",
    "Y=int(input('Enter the value of y'))\n",
    "try:\n",
    "    sum = X + Y\n",
    "    divide = X / Y\n",
    "    print ('Sum of {0} and {1} = {2},'.format(X,Y,sum))\n",
    "    print ('Division of {0} and {1} = {2},'.format(X,Y,divide))\n",
    "except NameError:\n",
    "    print('The input must be number')\n",
    "except ZeroDivisionError:\n",
    "    print('Division by Zero')"
   ]
  },
  {
   "cell_type": "code",
   "execution_count": 34,
   "id": "93479089",
   "metadata": {},
   "outputs": [
    {
     "name": "stdout",
     "output_type": "stream",
     "text": [
      "Enter the value of X10\n",
      "Enter the value of y0\n",
      "Division by Zero\n"
     ]
    }
   ],
   "source": [
    "X=int(input('Enter the value of X'))\n",
    "Y=int(input('Enter the value of y'))\n",
    "try:\n",
    "    sum = X + Y\n",
    "    divide = X / Y\n",
    "    print ('Sum of {0} and {1} = {2},'.format(X,Y,sum))\n",
    "    print ('Division of {0} and {1} = {2},'.format(X,Y,divide))\n",
    "except NameError:\n",
    "    print('The input must be number')\n",
    "except ZeroDivisionError:\n",
    "    print('Division by Zero')"
   ]
  },
  {
   "cell_type": "markdown",
   "id": "ed952a39",
   "metadata": {},
   "source": [
    "3. Try –Except-Else\n",
    "The else part will be executed only if the try block does not raise the exception.\n",
    "Python will try to process all the statements inside try block. If value error occur,\n",
    "the flow of control will immediately pass to the except block and remaining\n",
    "statements in try block will be skipped.\n",
    "Syntax:\n",
    "try:\n",
    "Example\n",
    "except:\n",
    "else:\n",
    "statements\n",
    "statements\n",
    "statements\n",
    "\n",
    "Example:\n",
    "X=int(input(“Enter the value of X”))\n",
    "Y=int(input(“Enter the value of Y”))\n",
    "try:\n",
    "result = X / ( X – Y )\n",
    "except ZeroDivisionError:\n",
    "print(“Division by Zero”)\n",
    "else:\n",
    "print(“result=”.result)\n"
   ]
  },
  {
   "cell_type": "code",
   "execution_count": 16,
   "id": "303ec553",
   "metadata": {},
   "outputs": [
    {
     "name": "stdout",
     "output_type": "stream",
     "text": [
      "Enter the value of X10\n",
      "Enter the value of Y5\n",
      "result= 2.0\n"
     ]
    }
   ],
   "source": [
    "X=int(input('Enter the value of X'))\n",
    "Y=int(input('Enter the value of Y'))\n",
    "try:\n",
    "    result = X / ( X-Y )\n",
    "except ZeroDivisionError:\n",
    "    print('Division by Zero')\n",
    "else:\n",
    "    print('result=', result)"
   ]
  },
  {
   "cell_type": "code",
   "execution_count": 37,
   "id": "7f1959a5",
   "metadata": {},
   "outputs": [
    {
     "name": "stdout",
     "output_type": "stream",
     "text": [
      "Enter the value of X10\n",
      "Enter the value of Y10\n",
      "Division by Zero\n"
     ]
    }
   ],
   "source": [
    "X=int(input('Enter the value of X'))\n",
    "Y=int(input('Enter the value of Y'))\n",
    "try:\n",
    "    result = X / ( X-Y )\n",
    "except ZeroDivisionError:\n",
    "    print('Division by Zero')\n",
    "else:\n",
    "    print('result='.result)"
   ]
  },
  {
   "cell_type": "markdown",
   "id": "019de2e1",
   "metadata": {},
   "source": [
    "4. Raise statement\n",
    "• The raise statement allows the programmer to \n",
    "force a specified exception to occur.\n",
    "Example:\n",
    ">>> raise NameError('HiThere')\n",
    "Output:\n",
    "Traceback (most recent call last):\n",
    "File \"<stdin>\", line 1, in <module>\n",
    "NameError: HiThere\n",
    " If you need to determine whether an exception was \n",
    "    raised but don’t intend to handle\n",
    "it, a simpler form of the raise statement allows you\n",
    "    to re-raise the exception:\n",
    "Example\n",
    "try:\n",
    "... raise NameError('HiThere')\n",
    "... except NameError:\n",
    "... print('An exception flew by!')\n",
    "... raise\n",
    "Output:\n",
    "An exception flew by! Traceback\n",
    "(most recent call last):\n",
    "File \"<stdin>\", line 2, in <module>\n",
    "NameError: HiThere\n",
    "\n",
    "    \n",
    "As a Python developer you can choose to throw an exception if a condition occurs.\n",
    "To throw (or raise) an exception, use the raise keyword.\n",
    "    \n",
    "The critical operation which can raise an exception is placed inside the try clause.\n",
    "The code that handles the exceptions is written in the except clause.    "
   ]
  },
  {
   "cell_type": "code",
   "execution_count": 17,
   "id": "304f277f",
   "metadata": {},
   "outputs": [
    {
     "name": "stdout",
     "output_type": "stream",
     "text": [
      "An exception flew by!\n"
     ]
    }
   ],
   "source": [
    "try:\n",
    "    raise NameError('HiThere')\n",
    "except NameError:\n",
    "    print('An exception flew by!')\n",
    "#raise"
   ]
  },
  {
   "cell_type": "markdown",
   "id": "3a40a2f2",
   "metadata": {},
   "source": [
    "5. Try –Except-Finally\n",
    " A finally clause is always executed before\n",
    "leaving the try statement, whether an\n",
    "exception has occurred or not.\n",
    " The finally clause is also executed \n",
    "“on the way out” when any other clause of the\n",
    "try statement is left via a break, \n",
    "continue or return statement.\n",
    "Syntax\n",
    "try:\n",
    "except:\n",
    "finally:\n",
    "Example\n",
    "statements\n",
    "statements\n",
    "statements\n",
    "X=int(input(“Enter the value of X”))\n",
    "Y=int(input(“Enter the value of Y”))\n",
    "try:\n",
    "result = X / ( X – Y )\n",
    "except Zero DivisionError:\n",
    "print(“Division by Zero”)\n",
    "else:\n",
    "print(“result=”.result)\n",
    "finally:\n",
    "print (“executing finally clause”)"
   ]
  },
  {
   "cell_type": "code",
   "execution_count": 18,
   "id": "39f7f0a7",
   "metadata": {},
   "outputs": [
    {
     "name": "stdout",
     "output_type": "stream",
     "text": [
      "Enter the value of X10\n",
      "Enter the value of Y5\n",
      "result= 2.0\n",
      "executing finally clause\n"
     ]
    }
   ],
   "source": [
    "X=int(input('Enter the value of X'))\n",
    "Y=int(input('Enter the value of Y'))\n",
    "try:\n",
    "    result = X / ( X-Y )\n",
    "except ZeroDivisionError:\n",
    "    print('Division by Zero')\n",
    "else:\n",
    "    print('result=', result)\n",
    "finally:\n",
    "    print ('executing finally clause')"
   ]
  },
  {
   "cell_type": "code",
   "execution_count": 42,
   "id": "5329489e",
   "metadata": {},
   "outputs": [
    {
     "name": "stdout",
     "output_type": "stream",
     "text": [
      "Enter the value of X10\n",
      "Enter the value of Y10\n",
      "Division by Zero\n",
      "executing finally clause\n"
     ]
    }
   ],
   "source": [
    "X=int(input('Enter the value of X'))\n",
    "Y=int(input('Enter the value of Y'))\n",
    "try:\n",
    "    result = X / ( X-Y )\n",
    "except ZeroDivisionError:\n",
    "    print('Division by Zero')\n",
    "else:\n",
    "    print('result='.result)\n",
    "finally:\n",
    "    print ('executing finally clause')"
   ]
  },
  {
   "cell_type": "markdown",
   "id": "9fc0e0de",
   "metadata": {},
   "source": [
    "Lecture 5: Implementation of User-Defined Modules and Packages"
   ]
  },
  {
   "cell_type": "code",
   "execution_count": null,
   "id": "34b8f454",
   "metadata": {},
   "outputs": [],
   "source": [
    "Module\n",
    "\n",
    "A module is a file containing Python definitions ,functions, statements and instructions.\n",
    "Standard library of Python is extended as modules.\n",
    "To use these modules in a program, programmer needs to import the module.\n",
    "Once we import a module, we can reference or use to any of its functions or variables in our code.\n",
    "There is large number of standard modules also available in python.\n",
    "Standard modules can be imported the same way as we import our user- defined modules.\n",
    "Every module contains many functions.\n",
    "To access one of the function , you have to specify the name of the module and the name of the function separated by dot .\n",
    "This format is called dot notation."
   ]
  },
  {
   "cell_type": "code",
   "execution_count": null,
   "id": "33540f69",
   "metadata": {},
   "outputs": [],
   "source": [
    "Built-in python modules are,\n",
    "1.math– mathematical functions:\n",
    "some of the functions in math module is,\n",
    "math.ceil(x) - Return the ceiling of x, the smallest integer greater than or equal to x\n",
    "math. floor(x) - Return the floor of x, the largest integer less than or equal to x.\n",
    "math. factorial(x)-Return x factorial.\n",
    "math.gcd(x,y)-Return the greatest common divisor of the integers a and b\n",
    "math.sqrt(x)- Return the square root of x\n",
    "math.pi - The mathematical constant π = 3.141592\n",
    "math.e – returns The mathematical constant e = 2.718281\n",
    "2 .random-Generate pseudo-random numbers\n",
    "random.randrange(stop) random.randrange(start, stop[,step]) random.uniform(a, b)\n",
    "-Return a random floating point number\n"
   ]
  },
  {
   "cell_type": "code",
   "execution_count": null,
   "id": "83e5c7df",
   "metadata": {},
   "outputs": [],
   "source": [
    "Difference between Python’s Module, Package, and Library. \n",
    "\n",
    "What is Module in Python?\n",
    "The module is a simple Python file that contains collections of functions and global variables and with having a .py extension file.\n",
    "It is an executable file and to organize all the modules we have the concept called Package in Python. \n",
    "\n",
    "Examples of modules:\n",
    "Datetime\n",
    "Random etc.\n",
    "\n",
    "\n",
    "What is Package in Python?\n",
    "The package is a simple directory having collections of modules.\n",
    "This directory contains Python modules and also having __init__.py file by which the interpreter interprets it as a Package.\n",
    "The package is simply a namespace.\n",
    "The package also contains sub-packages inside it. \n",
    "\n",
    "Examples of Packages: \n",
    "Numpy \n",
    "Pandas\n",
    "\n",
    "\n",
    "What is Library in Python\n",
    "The library is having a collection of related functionality of codes that allows you to perform many tasks without\n",
    "rewriting your code.\n",
    "It is a reusable chunk of code that we can use by importing it into our program,\n",
    "we can just use it by importing that library and calling the method of that library with a period(.).\n",
    "However, it is often assumed that while a package is a collection of modules, a library is a collection of packages.\n",
    "\n",
    "Examples of Libraries: \n",
    "Matplotlib\n",
    "Pytorch\n",
    "Pygame\n",
    "Seaborn etc."
   ]
  },
  {
   "cell_type": "code",
   "execution_count": null,
   "id": "b0e68028",
   "metadata": {},
   "outputs": [],
   "source": [
    "#There are 4 ways to import module in a program:\n",
    "1. import\n",
    "2. from import\n",
    "3. import with renaming\n",
    "4. import all"
   ]
  },
  {
   "cell_type": "code",
   "execution_count": null,
   "id": "d43b4785",
   "metadata": {},
   "outputs": [],
   "source": [
    "# 1. import\n",
    "#most common way of importing a module\n",
    "\n",
    "import math\n",
    "x = math.sqrt(-1)\n",
    "print(x)"
   ]
  },
  {
   "cell_type": "code",
   "execution_count": 24,
   "id": "5e700a7f",
   "metadata": {},
   "outputs": [
    {
     "name": "stdout",
     "output_type": "stream",
     "text": [
      "The value of pi is 3.141592653589793\n"
     ]
    }
   ],
   "source": [
    "#1. import\n",
    "\n",
    "import math\n",
    "x=math.pi\n",
    "print(\"The value of pi is\", x)"
   ]
  },
  {
   "cell_type": "code",
   "execution_count": null,
   "id": "d7edfa2b",
   "metadata": {},
   "outputs": [],
   "source": [
    "#2. from import\n",
    "#used to get a specific function in a code instead of the complete file\n",
    "\n",
    "\n",
    "from math import pi\n",
    "x=pi\n",
    "print(\"The value of pi is\", x)"
   ]
  },
  {
   "cell_type": "code",
   "execution_count": null,
   "id": "8752c1d2",
   "metadata": {},
   "outputs": [],
   "source": [
    "# 3. renaming the module\n",
    "# we can rename the module as per our wish\n",
    "\n",
    "import math as m\n",
    "x=m.pi\n",
    "print(\"The value of pi is\", x)"
   ]
  },
  {
   "cell_type": "code",
   "execution_count": null,
   "id": "fa96c44d",
   "metadata": {},
   "outputs": [],
   "source": [
    "#4. import all\n",
    "# we can import all names (definitions) from a module using *\n",
    "\n",
    "from math import *\n",
    "x=pi\n",
    "print(\"The value of pi is\", x)"
   ]
  },
  {
   "cell_type": "markdown",
   "id": "0a10a3b2",
   "metadata": {},
   "source": [
    "MODULES IN PYTHON\n",
    "A python module is a file that consists of python\n",
    "definition and statements.\n",
    "A module can define functions, classes and variables.\n",
    "It allows us to logically arrange related code and\n",
    "makes the code easier to understand and use.\n",
    "\n",
    "\n",
    "1. Import statement:\n",
    "• An import statement is used to import python module in\n",
    "some python source file.\n",
    "Syntax: import module1 [, module2 […module]]\n",
    "Example:\n",
    "import math\n",
    "print (math.pi)\n",
    "3.14159265\n",
    "\n",
    "2. Import with renaming:\n",
    "The import a module by renaming it as follows,\n",
    "import math as a\n",
    "print(“The value of pi is “,a.pi)\n",
    "The value of pi is 3.14159265\n",
    "\n",
    "Writing modules:\n",
    "• Any python source code file can be imported\n",
    "as a module into another python source file.\n",
    "For example, consider the following code named\n",
    "as support.py, which is python source file \n",
    "defining two function add(), display().\n",
    "\n",
    "Support.py:\n",
    "def add(a,b):\n",
    "print(“The result is “,a+b)\n",
    "return\n",
    "def display(p):\n",
    "print(“welcome “,p)\n",
    "return\n",
    "\n",
    "The support.py file can be imported as a module into\n",
    "another python source file and its functions can be\n",
    "called from the new files as shown in the following code:\n",
    "\n",
    "\n",
    "3. Import file name\n",
    "import support #import module support\n",
    "support.add(3,4) #calling add() of support\n",
    "module with two integers\n",
    "support.add (3.5,4.7) #calling add() of support\n",
    "module with two real values\n",
    "support.add (‘a’,’b’) #calling add() of support\n",
    "module with two character values\n",
    "support.add (“yona”,”alex”)#calling add() of \n",
    "support module with two string values\n",
    "support.display (‘fleming’) #calling display()\n",
    "of support module with a string value\n",
    "\n",
    "Output:\n",
    "The result is 7\n",
    "The result is 8.2\n",
    "The result is ab\n",
    "The result is yonaalex\n",
    "Welcome, fleming\n",
    "\n",
    "\n",
    "4. from……import statement:\n",
    "It allows us to import specific attributes from a module into the current namespace.\n",
    "Syntax: from modulename import name1 [, name2[,……nameN]]\n",
    "from support import add #import module support\n",
    "support.add(3,4) #calling add() of support module with two integers\n",
    "support.add(3.5,4.7) #calling add() of support module with two real values\n",
    "support.add(‘a’,’b’) #calling add() of support module with two character values\n",
    "support.add (“yona”,”alex”)#calling add() of support module with two string values\n",
    "support.display (‘fleming’) #calling display() of support module with a string value\n",
    "Output:\n",
    "The result is 7\n",
    "The result is 8.2\n",
    "The result is ab\n",
    "The result is yonaalex\n",
    "Welcome, fleming"
   ]
  },
  {
   "cell_type": "code",
   "execution_count": 43,
   "id": "fb16b79d",
   "metadata": {},
   "outputs": [
    {
     "name": "stdout",
     "output_type": "stream",
     "text": [
      "3.141592653589793\n"
     ]
    }
   ],
   "source": [
    "import math\n",
    "print (math.pi)\n",
    "#3.14159265"
   ]
  },
  {
   "cell_type": "code",
   "execution_count": 44,
   "id": "26203002",
   "metadata": {},
   "outputs": [
    {
     "name": "stdout",
     "output_type": "stream",
     "text": [
      "The value of pi is 3.141592653589793\n"
     ]
    }
   ],
   "source": [
    "import math as a\n",
    "print('The value of pi is' ,a.pi)\n",
    "#The value of pi is 3.14159265"
   ]
  },
  {
   "cell_type": "code",
   "execution_count": 46,
   "id": "4bd0932d",
   "metadata": {},
   "outputs": [
    {
     "name": "stdout",
     "output_type": "stream",
     "text": [
      "The result is 4\n"
     ]
    }
   ],
   "source": [
    "def add(a,b):\n",
    "    print('The result is', a+b)\n",
    "    return\n",
    "def display(p):\n",
    "    print('welcome', p)\n",
    "    return\n",
    "\n",
    "add(2,2)\n"
   ]
  },
  {
   "cell_type": "code",
   "execution_count": 47,
   "id": "987a3a68",
   "metadata": {},
   "outputs": [
    {
     "name": "stdout",
     "output_type": "stream",
     "text": [
      "welcome 2\n"
     ]
    }
   ],
   "source": [
    "def add(a,b):\n",
    "    print('The result is', a+b)\n",
    "    return\n",
    "def display(p):\n",
    "    print('welcome', p)\n",
    "    return\n",
    "\n",
    "display(2)"
   ]
  },
  {
   "cell_type": "code",
   "execution_count": 5,
   "id": "4f42ba53",
   "metadata": {},
   "outputs": [
    {
     "name": "stdout",
     "output_type": "stream",
     "text": [
      "The result is 7\n",
      "The result is 8.2\n",
      "The result is ab\n",
      "The result is sirialexa\n",
      "welcome fleming\n"
     ]
    }
   ],
   "source": [
    "import support\n",
    "support.add(3,4) #calling add() of support module with two integers\n",
    "support.add(3.5,4.7) #calling add() of support module with two real values\n",
    "support.add('a','b') #calling add() of support module with two character values\n",
    "support.add('siri','alexa')#calling add() of support module with two string values\n",
    "support.display('fleming') #calling display() of support module with a string value"
   ]
  },
  {
   "cell_type": "code",
   "execution_count": 9,
   "id": "24488c2c",
   "metadata": {},
   "outputs": [
    {
     "name": "stdout",
     "output_type": "stream",
     "text": [
      "The result is 7\n",
      "The result is 8.2\n",
      "The result is ab\n",
      "The result is yonaalex\n",
      "welcome fleming\n"
     ]
    }
   ],
   "source": [
    "from support import add\n",
    "from support import display\n",
    "add(3,4) #calling add() of support module with two integers\n",
    "add(3.5,4.7) #calling add() of support module with two real values\n",
    "add('a','b') #calling add() of support module with two character values\n",
    "add('yona','alex')#calling add() of support module with two string values\n",
    "display('fleming') #calling display() of support module with a string value"
   ]
  },
  {
   "cell_type": "markdown",
   "id": "498d596a",
   "metadata": {},
   "source": [
    "5. OS Module\n",
    "The OS module in python provide function for interacting with operating system\n",
    "To access the OS module have to import the OS module in our program"
   ]
  },
  {
   "cell_type": "code",
   "execution_count": 11,
   "id": "d03b308a",
   "metadata": {},
   "outputs": [
    {
     "data": {
      "text/plain": [
       "'nt'"
      ]
     },
     "execution_count": 11,
     "metadata": {},
     "output_type": "execute_result"
    }
   ],
   "source": [
    "#This function gives the name of the operating system\n",
    "import os\n",
    "os.name\n",
    "\n",
    "#(Windows NT is a Microsoft Windows personal\n",
    "#computer operating system designed for users\n",
    "#and businesses needing advanced capability.)"
   ]
  },
  {
   "cell_type": "code",
   "execution_count": 13,
   "id": "7820bdca",
   "metadata": {},
   "outputs": [
    {
     "data": {
      "text/plain": [
       "'C:\\\\Users\\\\Faculty-34\\\\Documents'"
      ]
     },
     "execution_count": 13,
     "metadata": {},
     "output_type": "execute_result"
    }
   ],
   "source": [
    "import os\n",
    "os.getcwd()\n",
    "\n",
    "#(Return the current working\n",
    "#directory(CWD)of the file\n",
    "#used to execute the code)"
   ]
  },
  {
   "cell_type": "code",
   "execution_count": 26,
   "id": "e846e50e",
   "metadata": {},
   "outputs": [
    {
     "ename": "FileExistsError",
     "evalue": "[WinError 183] Cannot create a file when that file already exists: 'MalvikaSingh'",
     "output_type": "error",
     "traceback": [
      "\u001b[1;31m---------------------------------------------------------------------------\u001b[0m",
      "\u001b[1;31mFileExistsError\u001b[0m                           Traceback (most recent call last)",
      "\u001b[1;32m~\\AppData\\Local\\Temp\\ipykernel_10292\\524489926.py\u001b[0m in \u001b[0;36m<module>\u001b[1;34m\u001b[0m\n\u001b[0;32m      1\u001b[0m \u001b[1;32mimport\u001b[0m \u001b[0mos\u001b[0m\u001b[1;33m\u001b[0m\u001b[1;33m\u001b[0m\u001b[0m\n\u001b[1;32m----> 2\u001b[1;33m \u001b[0mos\u001b[0m\u001b[1;33m.\u001b[0m\u001b[0mmkdir\u001b[0m\u001b[1;33m(\u001b[0m\u001b[1;34m\"MalvikaSingh\"\u001b[0m\u001b[1;33m)\u001b[0m\u001b[1;33m\u001b[0m\u001b[1;33m\u001b[0m\u001b[0m\n\u001b[0m\u001b[0;32m      3\u001b[0m \u001b[1;33m\u001b[0m\u001b[0m\n\u001b[0;32m      4\u001b[0m \u001b[1;31m#(Create a directory(folder)\u001b[0m\u001b[1;33m\u001b[0m\u001b[1;33m\u001b[0m\u001b[0m\n\u001b[0;32m      5\u001b[0m \u001b[1;31m#with the given name)\u001b[0m\u001b[1;33m\u001b[0m\u001b[1;33m\u001b[0m\u001b[0m\n",
      "\u001b[1;31mFileExistsError\u001b[0m: [WinError 183] Cannot create a file when that file already exists: 'MalvikaSingh'"
     ]
    }
   ],
   "source": [
    "import os\n",
    "os.mkdir(\"MalvikaSingh\")\n",
    "\n",
    "#(Create a directory(folder)\n",
    "#with the given name)"
   ]
  },
  {
   "cell_type": "code",
   "execution_count": 22,
   "id": "4dcc30db",
   "metadata": {},
   "outputs": [],
   "source": [
    "#rename(oldname,newname)\n",
    "import os\n",
    "os.rename(\"MalvikaSingh\",\"Hyderabad\")\n",
    "\n",
    "#Rename the directory or folder"
   ]
  },
  {
   "cell_type": "code",
   "execution_count": 20,
   "id": "429fd1f2",
   "metadata": {},
   "outputs": [
    {
     "ename": "PermissionError",
     "evalue": "[WinError 5] Access is denied: 'WoxsenUniversityHyderabad'",
     "output_type": "error",
     "traceback": [
      "\u001b[1;31m---------------------------------------------------------------------------\u001b[0m",
      "\u001b[1;31mPermissionError\u001b[0m                           Traceback (most recent call last)",
      "\u001b[1;32m~\\AppData\\Local\\Temp\\ipykernel_15160\\4253361599.py\u001b[0m in \u001b[0;36m<module>\u001b[1;34m\u001b[0m\n\u001b[0;32m      1\u001b[0m \u001b[1;31m#remove(“folder”)\u001b[0m\u001b[1;33m\u001b[0m\u001b[1;33m\u001b[0m\u001b[0m\n\u001b[0;32m      2\u001b[0m \u001b[1;32mimport\u001b[0m \u001b[0mos\u001b[0m\u001b[1;33m\u001b[0m\u001b[1;33m\u001b[0m\u001b[0m\n\u001b[1;32m----> 3\u001b[1;33m \u001b[0mos\u001b[0m\u001b[1;33m.\u001b[0m\u001b[0mremove\u001b[0m\u001b[1;33m(\u001b[0m\u001b[1;34m\"WoxsenUniversityHyderabad\"\u001b[0m\u001b[1;33m)\u001b[0m\u001b[1;33m\u001b[0m\u001b[1;33m\u001b[0m\u001b[0m\n\u001b[0m\u001b[0;32m      4\u001b[0m \u001b[1;33m\u001b[0m\u001b[0m\n\u001b[0;32m      5\u001b[0m \u001b[1;31m#Remove (delete)the directory or folder\u001b[0m\u001b[1;33m\u001b[0m\u001b[1;33m\u001b[0m\u001b[0m\n",
      "\u001b[1;31mPermissionError\u001b[0m: [WinError 5] Access is denied: 'WoxsenUniversityHyderabad'"
     ]
    }
   ],
   "source": [
    "#remove(“folder”)\n",
    "import os\n",
    "os.remove(\"Hyderabad\")\n",
    "\n",
    "#Remove (delete)the directory or folder"
   ]
  },
  {
   "cell_type": "code",
   "execution_count": 24,
   "id": "532c44bb",
   "metadata": {},
   "outputs": [
    {
     "data": {
      "text/plain": [
       "'Faculty-34'"
      ]
     },
     "execution_count": 24,
     "metadata": {},
     "output_type": "execute_result"
    }
   ],
   "source": [
    "import os\n",
    "#os.getuid()\n",
    "os.getlogin()\n",
    "#Return the current process’s user id environ\n"
   ]
  },
  {
   "cell_type": "code",
   "execution_count": 29,
   "id": "9e4ff087",
   "metadata": {},
   "outputs": [
    {
     "name": "stdout",
     "output_type": "stream",
     "text": [
      "User's Environment variable:\n",
      "{'ALLUSERSPROFILE': 'C:\\\\ProgramData',\n",
      " 'APPDATA': 'C:\\\\Users\\\\Faculty-34\\\\AppData\\\\Roaming',\n",
      " 'CLICOLOR': '1',\n",
      " 'COMMONPROGRAMFILES': 'C:\\\\Program '\n",
      "                       'Files\\\\Common '\n",
      "                       'Files',\n",
      " 'COMMONPROGRAMFILES(X86)': 'C:\\\\Program '\n",
      "                            'Files '\n",
      "                            '(x86)\\\\Common '\n",
      "                            'Files',\n",
      " 'COMMONPROGRAMW6432': 'C:\\\\Program '\n",
      "                       'Files\\\\Common '\n",
      "                       'Files',\n",
      " 'COMPUTERNAME': 'DESKTOP-L9Q676B',\n",
      " 'COMSPEC': 'C:\\\\Windows\\\\system32\\\\cmd.exe',\n",
      " 'CONDA_DEFAULT_ENV': 'base',\n",
      " 'CONDA_EXE': 'C:\\\\Users\\\\Faculty-34\\\\anaconda3\\\\Scripts\\\\conda.exe',\n",
      " 'CONDA_PREFIX': 'C:\\\\Users\\\\Faculty-34\\\\anaconda3',\n",
      " 'CONDA_PROMPT_MODIFIER': '(base) ',\n",
      " 'CONDA_PYTHON_EXE': 'C:\\\\Users\\\\Faculty-34\\\\anaconda3\\\\python.exe',\n",
      " 'CONDA_ROOT': 'C:\\\\Users\\\\Faculty-34\\\\anaconda3',\n",
      " 'CONDA_SHLVL': '1',\n",
      " 'DRIVERDATA': 'C:\\\\Windows\\\\System32\\\\Drivers\\\\DriverData',\n",
      " 'GIT_PAGER': 'cat',\n",
      " 'HOMEDRIVE': 'C:',\n",
      " 'HOMEPATH': '\\\\Users\\\\Faculty-34',\n",
      " 'IPY_INTERRUPT_EVENT': '2892',\n",
      " 'JPY_INTERRUPT_EVENT': '2892',\n",
      " 'JPY_PARENT_PID': '2312',\n",
      " 'LOCALAPPDATA': 'C:\\\\Users\\\\Faculty-34\\\\AppData\\\\Local',\n",
      " 'LOGONSERVER': '\\\\\\\\DESKTOP-L9Q676B',\n",
      " 'MPLBACKEND': 'module://matplotlib_inline.backend_inline',\n",
      " 'NUMBER_OF_PROCESSORS': '8',\n",
      " 'ONEDRIVE': 'C:\\\\Users\\\\Faculty-34\\\\OneDrive',\n",
      " 'OS': 'Windows_NT',\n",
      " 'PAGER': 'cat',\n",
      " 'PATH': 'C:\\\\Users\\\\Faculty-34\\\\anaconda3;C:\\\\Users\\\\Faculty-34\\\\anaconda3\\\\Library\\\\mingw-w64\\\\bin;C:\\\\Users\\\\Faculty-34\\\\anaconda3\\\\Library\\\\usr\\\\bin;C:\\\\Users\\\\Faculty-34\\\\anaconda3\\\\Library\\\\bin;C:\\\\Users\\\\Faculty-34\\\\anaconda3\\\\Scripts;C:\\\\Users\\\\Faculty-34\\\\anaconda3\\\\bin;C:\\\\Users\\\\Faculty-34\\\\anaconda3\\\\condabin;C:\\\\Users\\\\Faculty-34\\\\anaconda3;C:\\\\Users\\\\Faculty-34\\\\anaconda3\\\\Library\\\\mingw-w64\\\\bin;C:\\\\Users\\\\Faculty-34\\\\anaconda3\\\\Library\\\\usr\\\\bin;C:\\\\Users\\\\Faculty-34\\\\anaconda3\\\\Library\\\\bin;C:\\\\Users\\\\Faculty-34\\\\anaconda3\\\\Scripts;C:\\\\Windows\\\\system32;C:\\\\Windows;C:\\\\Windows\\\\System32\\\\Wbem;C:\\\\Windows\\\\System32\\\\WindowsPowerShell\\\\v1.0;C:\\\\Windows\\\\System32\\\\OpenSSH;C:\\\\Users\\\\Faculty-34\\\\AppData\\\\Local\\\\Microsoft\\\\WindowsApps;.',\n",
      " 'PATHEXT': '.COM;.EXE;.BAT;.CMD;.VBS;.VBE;.JS;.JSE;.WSF;.WSH;.MSC',\n",
      " 'PROCESSOR_ARCHITECTURE': 'AMD64',\n",
      " 'PROCESSOR_IDENTIFIER': 'Intel64 '\n",
      "                         'Family '\n",
      "                         '6 '\n",
      "                         'Model '\n",
      "                         '140 '\n",
      "                         'Stepping '\n",
      "                         '1, '\n",
      "                         'GenuineIntel',\n",
      " 'PROCESSOR_LEVEL': '6',\n",
      " 'PROCESSOR_REVISION': '8c01',\n",
      " 'PROGRAMDATA': 'C:\\\\ProgramData',\n",
      " 'PROGRAMFILES': 'C:\\\\Program '\n",
      "                 'Files',\n",
      " 'PROGRAMFILES(X86)': 'C:\\\\Program '\n",
      "                      'Files '\n",
      "                      '(x86)',\n",
      " 'PROGRAMW6432': 'C:\\\\Program '\n",
      "                 'Files',\n",
      " 'PROMPT': '(base) '\n",
      "           '$P$G',\n",
      " 'PSMODULEPATH': 'C:\\\\Program '\n",
      "                 'Files\\\\WindowsPowerShell\\\\Modules;C:\\\\Windows\\\\system32\\\\WindowsPowerShell\\\\v1.0\\\\Modules',\n",
      " 'PUBLIC': 'C:\\\\Users\\\\Public',\n",
      " 'PYDEVD_USE_FRAME_EVAL': 'NO',\n",
      " 'SESSIONNAME': 'Console',\n",
      " 'SYSTEMDRIVE': 'C:',\n",
      " 'SYSTEMROOT': 'C:\\\\Windows',\n",
      " 'TEMP': 'C:\\\\Users\\\\FACULT~1\\\\AppData\\\\Local\\\\Temp',\n",
      " 'TERM': 'xterm-color',\n",
      " 'TMP': 'C:\\\\Users\\\\FACULT~1\\\\AppData\\\\Local\\\\Temp',\n",
      " 'USERDOMAIN': 'DESKTOP-L9Q676B',\n",
      " 'USERDOMAIN_ROAMINGPROFILE': 'DESKTOP-L9Q676B',\n",
      " 'USERNAME': 'Faculty-34',\n",
      " 'USERPROFILE': 'C:\\\\Users\\\\Faculty-34',\n",
      " 'WINDIR': 'C:\\\\Windows',\n",
      " 'ZES_ENABLE_SYSMAN': '1'}\n"
     ]
    }
   ],
   "source": [
    "# Python program to explain os.environ object\n",
    "\n",
    "#(An environment variable is a dynamic-named value\n",
    "#that can affect the way running processes will behave\n",
    "#on a computer. They are part of the environment\n",
    "#in which a process runs)\n",
    "\n",
    "# importing os module\n",
    "import os\n",
    "import pprint\n",
    "\n",
    "# Get the list of user's\n",
    "# environment variables\n",
    "env_var = os.environ\n",
    "\n",
    "# Print the list of user's\n",
    "# environment variables\n",
    "print(\"User's Environment variable:\")\n",
    "pprint.pprint(dict(env_var), width = 1)\n"
   ]
  },
  {
   "cell_type": "markdown",
   "id": "e20ef91b",
   "metadata": {},
   "source": [
    "6. Sys Module\n",
    " Sys module provides information about constant, function and methods\n",
    " It provides access to some variables used or maintained by the interpreter\n"
   ]
  },
  {
   "cell_type": "code",
   "execution_count": null,
   "id": "4741b750",
   "metadata": {},
   "outputs": [],
   "source": [
    "#Provides the list of command line arguments passed to a python script\n",
    "\"\"\"The arguments that are given after the name of the program in the\n",
    "command line shell of the operating system are known as Command Line Arguments. \"\"\"\n",
    "import sys\n",
    "sys.argv\n",
    "sys.argv(0) #Provides to access the file name\n",
    "sys.argv(1) #Provides to access the first input\n"
   ]
  },
  {
   "cell_type": "markdown",
   "id": "444855ab",
   "metadata": {},
   "source": [
    "The sys module provides functions and variables used to manipulate different parts of the Python runtime environment. This module provides access to some variables used or maintained by the interpreter and to functions that interact strongly with the interpreter.\n",
    "One such variable is sys.argv which is a simple list structure. It’s main purpose are:\n",
    "\n",
    "It is a list of command line arguments.\n",
    "len(sys.argv) provides the number of command line arguments.\n",
    "sys.argv[0] is the name of the current Python script. "
   ]
  },
  {
   "cell_type": "code",
   "execution_count": 4,
   "id": "42bd2fd2",
   "metadata": {},
   "outputs": [
    {
     "data": {
      "text/plain": [
       "['C:\\\\Users\\\\Faculty-34\\\\Documents',\n",
       " 'C:\\\\Users\\\\Faculty-34\\\\anaconda3\\\\python39.zip',\n",
       " 'C:\\\\Users\\\\Faculty-34\\\\anaconda3\\\\DLLs',\n",
       " 'C:\\\\Users\\\\Faculty-34\\\\anaconda3\\\\lib',\n",
       " 'C:\\\\Users\\\\Faculty-34\\\\anaconda3',\n",
       " '',\n",
       " 'C:\\\\Users\\\\Faculty-34\\\\anaconda3\\\\lib\\\\site-packages',\n",
       " 'C:\\\\Users\\\\Faculty-34\\\\anaconda3\\\\lib\\\\site-packages\\\\win32',\n",
       " 'C:\\\\Users\\\\Faculty-34\\\\anaconda3\\\\lib\\\\site-packages\\\\win32\\\\lib',\n",
       " 'C:\\\\Users\\\\Faculty-34\\\\anaconda3\\\\lib\\\\site-packages\\\\Pythonwin',\n",
       " 'C:\\\\Users\\\\Faculty-34\\\\anaconda3\\\\lib\\\\site-packages\\\\IPython\\\\extensions',\n",
       " 'C:\\\\Users\\\\Faculty-34\\\\.ipython']"
      ]
     },
     "execution_count": 4,
     "metadata": {},
     "output_type": "execute_result"
    }
   ],
   "source": [
    "import sys\n",
    "sys.path\n",
    "#It provide the search path for module"
   ]
  },
  {
   "cell_type": "code",
   "execution_count": 6,
   "id": "4eae51ef",
   "metadata": {},
   "outputs": [],
   "source": [
    "import sys\n",
    "sys.path.append(0)\n",
    "\n",
    "#Provide the access to specific path to our program\n"
   ]
  },
  {
   "cell_type": "code",
   "execution_count": 15,
   "id": "54dfb1b0",
   "metadata": {},
   "outputs": [
    {
     "data": {
      "text/plain": [
       "'win32'"
      ]
     },
     "execution_count": 15,
     "metadata": {},
     "output_type": "execute_result"
    }
   ],
   "source": [
    "import sys\n",
    "sys.platform\n",
    "\n",
    "#Provide information about the operating system platform\n"
   ]
  },
  {
   "cell_type": "code",
   "execution_count": 8,
   "id": "9bbc2ea6",
   "metadata": {},
   "outputs": [
    {
     "data": {
      "text/plain": [
       "<function sys.exit(status=None, /)>"
      ]
     },
     "execution_count": 8,
     "metadata": {},
     "output_type": "execute_result"
    }
   ],
   "source": [
    "import sys\n",
    "sys.exit\n",
    "#<built.in function exit>\n",
    "#Exit from python"
   ]
  },
  {
   "cell_type": "markdown",
   "id": "fab783cf",
   "metadata": {},
   "source": [
    "Steps to Create the Own Module\n",
    "Same as support.py\n"
   ]
  },
  {
   "cell_type": "markdown",
   "id": "59962ee6",
   "metadata": {},
   "source": [
    "\n",
    "\n",
    "Importing Module from a Package "
   ]
  },
  {
   "cell_type": "markdown",
   "id": "483f038e",
   "metadata": {},
   "source": [
    "6. PACKAGES IN PYTHON\n",
    "A package is a collection of python module. Module is a single\n",
    "python file containing function definitions\n",
    "A package is a directory(folder)of python module containing an\n",
    "additional init py file, to differentiate a package from directory\n",
    "Packages can be nested to any depth, provided that the corresponding\n",
    "directories contain their own init py file.\n",
    "\n",
    "init py file is a directory indicates to the python interpreter that\n",
    "the directory should be treated like a python package\n",
    "init py is used to initialize the python package\n",
    "\n",
    "Steps to Create a Package\n",
    "\n",
    "Step1: Create the package directory\n",
    "Create the directory (folder)and give it your packages name\n",
    "Here the package name is calculator\n",
    "\n",
    "\n",
    "Step2: write module for calculator directory add save the module in calculator directory\n",
    "Here four module have create for calculator directory\n",
    "add.py div.py mul.py sub.py\n",
    "def add(a,b);\n",
    "print(a+b)\n",
    "def div(a,b);\n",
    "print(a/b)\n",
    "def mul(a,b);\n",
    "print(a*b)\n",
    "def sub(a,b);\n",
    "print(a-b)\n",
    "\n",
    "Step3: add the init .py file in the calculator directory\n",
    "A directory must contain the file named init__.py in order for python to consider it as a package.\n",
    "\n",
    "from * add import add\n",
    "from * sub import sub\n",
    "from * mul import mul\n",
    "from * div import div\n",
    "\n",
    "\n",
    "Step4: To test your package\n",
    "Import calculator package in your program and add the path \n",
    "of your package in your program by using sys.path.append()\n",
    "\n",
    "Example\n",
    "import calculator\n",
    "import sys\n",
    "sys.path.append(“path”)\n",
    "print(add.addition(10,5))\n",
    "print(sub.subtract(10,5))\n",
    "print(mul.multiply(10,5))\n",
    "print(div.divide(10,5))\n",
    "#Output :\n",
    "#15\n",
    "#5\n",
    "#50\n",
    "#2\n"
   ]
  },
  {
   "cell_type": "markdown",
   "id": "0ca2f839",
   "metadata": {},
   "source": [
    "Packages are a way of structuring many packages and modules which helps in a well-organized hierarchy of data set, making the directories and modules easy to access. Just like there are different drives and folders in an OS to help us store files, similarly packages help us in storing other sub-packages and modules, so that it can be used by the user when necessary."
   ]
  },
  {
   "cell_type": "markdown",
   "id": "644c293e",
   "metadata": {},
   "source": [
    "To tell Python that a particular directory is a package, we create a file named __init__.py inside it and then it is considered as a package and we may create other modules and sub-packages within it. This __init__.py file can be left blank or can be coded with the initialization code for the package."
   ]
  },
  {
   "cell_type": "markdown",
   "id": "085a350d",
   "metadata": {},
   "source": [
    "To create a package in Python, we need to follow these three simple steps:\n",
    "\n",
    "1. First, we create a directory and give it a package name, preferably related to its operation.\n",
    "2. Then we put the classes and the required functions in it.\n",
    "3. Finally we create an __init__.py file inside the directory, to let Python know that the directory is a package."
   ]
  },
  {
   "cell_type": "markdown",
   "id": "4e904858",
   "metadata": {},
   "source": [
    "A directory or folder is a collection of files and subdirectories. Python has the os module that provides us with many useful methods to work with directories (and files as well)."
   ]
  },
  {
   "cell_type": "markdown",
   "id": "e8916691",
   "metadata": {},
   "source": [
    "Import calculator package in your program and add the path of your package in your\n",
    "program by using sys.path.append()\n"
   ]
  },
  {
   "cell_type": "code",
   "execution_count": 19,
   "id": "ecc5904c",
   "metadata": {},
   "outputs": [
    {
     "name": "stdout",
     "output_type": "stream",
     "text": [
      "15\n",
      "5\n",
      "50\n",
      "2.0\n"
     ]
    }
   ],
   "source": [
    "import calculator\n",
    "import sys\n",
    "sys.path.append(r\"C:\\Users\\Faculty-34\\Desktop\\calculator\")\n",
    "print(add.addition(10,5))\n",
    "print(sub.subtract(10,5))\n",
    "print(mul.multiply(10,5))\n",
    "print(div.divide(10,5))"
   ]
  }
 ],
 "metadata": {
  "kernelspec": {
   "display_name": "Python 3 (ipykernel)",
   "language": "python",
   "name": "python3"
  },
  "language_info": {
   "codemirror_mode": {
    "name": "ipython",
    "version": 3
   },
   "file_extension": ".py",
   "mimetype": "text/x-python",
   "name": "python",
   "nbconvert_exporter": "python",
   "pygments_lexer": "ipython3",
   "version": "3.9.13"
  }
 },
 "nbformat": 4,
 "nbformat_minor": 5
}
