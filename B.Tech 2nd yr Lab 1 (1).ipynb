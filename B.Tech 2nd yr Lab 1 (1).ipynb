{
 "cells": [
  {
   "cell_type": "code",
   "execution_count": 8,
   "id": "cea93ba5",
   "metadata": {},
   "outputs": [
    {
     "name": "stdout",
     "output_type": "stream",
     "text": [
      "addition of a: 10 & b: 3 is: 13\n",
      "substraction of a: 10 & b: 3 is: 7\n",
      "multiplication of a: 10 & b: 3 is: 30\n",
      "division of a: 10 & b: 3 is: 3.3333333333333335\n",
      "floor divison of a: 10 & b: 3 is: 3\n",
      "moduli of a: 10 & b: 3 is: 1\n",
      "exponent of a: 10 & b: 3 is: 1000\n"
     ]
    }
   ],
   "source": [
    "# Write a program to perform different arithematic operations on numbers in python.\n",
    "\n",
    "a=10; b=3\n",
    "print(\"addition of a:\",a,\"& b:\",b,\"is:\",a+b)\n",
    "print(\"substraction of a:\",a,\"& b:\",b,\"is:\",a-b)\n",
    "print(\"multiplication of a:\",a,\"& b:\",b,\"is:\",a*b)\n",
    "print(\"division of a:\",a,\"& b:\",b,\"is:\",a/b)\n",
    "print(\"floor divison of a:\",a,\"& b:\",b,\"is:\",a//b)\n",
    "print(\"moduli of a:\",a,\"& b:\",b,\"is:\",a%b)\n",
    "print(\"exponent of a:\",a,\"& b:\",b,\"is:\",a**b)"
   ]
  },
  {
   "cell_type": "code",
   "execution_count": 4,
   "id": "07a55bb2",
   "metadata": {},
   "outputs": [
    {
     "name": "stdout",
     "output_type": "stream",
     "text": [
      "The sum of 1.5 and 6.3 is 7.8\n"
     ]
    }
   ],
   "source": [
    "# Addition of two numbers\n",
    "\n",
    "num_1 = 1.5\n",
    "num2 = 6.3\n",
    "\n",
    "# Add two numbers\n",
    "sum = num_1 + num2\n",
    "\n",
    "# Display the sum\n",
    "print('The sum of {2} and {1} is {0}'.format(num_1, num2, sum))"
   ]
  },
  {
   "cell_type": "code",
   "execution_count": 6,
   "id": "ed8fdb38",
   "metadata": {},
   "outputs": [
    {
     "name": "stdout",
     "output_type": "stream",
     "text": [
      "Enter first number: 1\n",
      "Enter second number: 1\n",
      "The sum of 1 and 1 is 2.0\n"
     ]
    }
   ],
   "source": [
    "# Addition of two numbers by taking input numbers from user\n",
    "num1 = input('Enter first number: ')\n",
    "num2 = input('Enter second number: ')\n",
    "\n",
    "# Add two numbers\n",
    "sum = float(num1) + float(num2)\n",
    "\n",
    "# Display the sum\n",
    "print('The sum of {0} and {1} is {2}'.format(num1, num2, sum))"
   ]
  },
  {
   "cell_type": "code",
   "execution_count": 14,
   "id": "b2f3653e",
   "metadata": {},
   "outputs": [
    {
     "name": "stdout",
     "output_type": "stream",
     "text": [
      "Enter first number: 2\n",
      "Enter second number: 2\n",
      "The sum of 2 and 2 is 4.0\n"
     ]
    }
   ],
   "source": [
    "# Addition of two numbers by taking input numbers from user\n",
    "num1 = input('Enter first number: ')\n",
    "num2 = input('Enter second number: ')\n",
    "\n",
    "# Add two numbers\n",
    "sum = float(num1) + float(num2)\n",
    "\n",
    "# Display the sum\n",
    "print('The sum of {0} and {1} is {2}'.format(num1, num2, sum))"
   ]
  },
  {
   "cell_type": "code",
   "execution_count": 8,
   "id": "5b11f9ac",
   "metadata": {},
   "outputs": [
    {
     "name": "stdout",
     "output_type": "stream",
     "text": [
      "25\n"
     ]
    }
   ],
   "source": [
    "# Add two numbers using functions\n",
    "\n",
    "def add(a,b):\n",
    "    return a + b\n",
    "print(add(5,20))"
   ]
  },
  {
   "cell_type": "code",
   "execution_count": 25,
   "id": "3fcf0785",
   "metadata": {},
   "outputs": [
    {
     "name": "stdout",
     "output_type": "stream",
     "text": [
      "Enter the length of a Rectangle: 1\n",
      "Enter the breadth of a Rectangle: 1\n",
      "Area of a Rectangle is: 1.00\n"
     ]
    }
   ],
   "source": [
    "# Print Area of Rectangle\n",
    "\n",
    "l = float(input('Enter the length of a Rectangle: '))\n",
    "b = float(input('Enter the breadth of a Rectangle: '))\n",
    "Area = l * b\n",
    "print(\"Area of a Rectangle is: %.2f\" %Area)"
   ]
  },
  {
   "cell_type": "code",
   "execution_count": 16,
   "id": "14de988c",
   "metadata": {},
   "outputs": [
    {
     "name": "stdout",
     "output_type": "stream",
     "text": [
      "Area of a Rectangle is: 48\n"
     ]
    }
   ],
   "source": [
    "# Print Area of Rectangle uing Functions\n",
    "\n",
    "def AreaofRectangle(width, height):\n",
    "    Area = width * height\n",
    "    print(\"Area of a Rectangle is:\", Area)\n",
    "AreaofRectangle(8, 6)"
   ]
  },
  {
   "cell_type": "code",
   "execution_count": 15,
   "id": "e2f6f341",
   "metadata": {},
   "outputs": [
    {
     "name": "stdout",
     "output_type": "stream",
     "text": [
      "Enter the Width of a Rectangle: 1\n",
      "Enter the Height of a Rectangle: 1\n",
      "Area of a Rectangle is:  1.0\n",
      "Perimeter of Rectangle is:  4.0\n"
     ]
    }
   ],
   "source": [
    "# Print Area and Perimeter of a Rectangle by taking values from user\n",
    "\n",
    "w = float(input('Enter the Width of a Rectangle: '))\n",
    "h = float(input('Enter the Height of a Rectangle: '))\n",
    "Area = w * h\n",
    "Perimeter = 2 * (w + h)\n",
    "print(\"Area of a Rectangle is: \", Area)\n",
    "print(\"Perimeter of Rectangle is: \", Perimeter)"
   ]
  },
  {
   "cell_type": "code",
   "execution_count": 28,
   "id": "b0f4df67",
   "metadata": {},
   "outputs": [
    {
     "name": "stdout",
     "output_type": "stream",
     "text": [
      "Enter the width of a rectangle: 1\n",
      "Enter the height of a rectangle: 1\n",
      "Area of a rectangle is: 1.00\n",
      "Perimeter of rectangle is: 4.00\n"
     ]
    }
   ],
   "source": [
    "# Print Area and Perimeter of a Rectangle using Functions\n",
    "\n",
    "def Areaofrectangle(width, height):\n",
    "    Area = width * height\n",
    "    Perimeter = 2 * (width + height)\n",
    "    print(\"Area of a rectangle is: %.2f\" %Area)\n",
    "    print(\"Perimeter of rectangle is: %.2f\" %Perimeter)\n",
    "width = float(input('Enter the width of a rectangle: '))\n",
    "height = float(input('Enter the height of a rectangle: '))\n",
    "Areaofrectangle(width, height)"
   ]
  },
  {
   "cell_type": "code",
   "execution_count": 18,
   "id": "0c1318cb",
   "metadata": {},
   "outputs": [
    {
     "name": "stdout",
     "output_type": "stream",
     "text": [
      "Please Enter any Number: 1\n",
      "The List of Natural Numbers from 1 to 1 are\n",
      "1  "
     ]
    }
   ],
   "source": [
    "# Python Program to Print Natural Numbers from 1 to N using for loop\n",
    "#ferf\n",
    "#ref\n",
    "#verg\n",
    "''' This is a string\n",
    "\n",
    "fergg\n",
    "gthgtr\n",
    "gtrhg\n",
    "gthh\n",
    "'''\n",
    " \n",
    "number = int(input(\"Please Enter any Number: \"))\n",
    "\n",
    "print(\"The List of Natural Numbers from 1 to {0} are\".format(number)) \n",
    "\n",
    "for i in range(1, number + 1):\n",
    "    print (i, end = '  ')"
   ]
  },
  {
   "cell_type": "code",
   "execution_count": 31,
   "id": "1f884cad",
   "metadata": {},
   "outputs": [
    {
     "name": "stdout",
     "output_type": "stream",
     "text": [
      "Please Enter any Number: 10\n",
      "The List of Natural Numbers from 1 to 10 are\n",
      "1  2  3  4  5  6  7  8  9  10  "
     ]
    }
   ],
   "source": [
    "# Python Program to Print Natural Numbers from 1 to N using while loop\n",
    " \n",
    "number = int(input(\"Please Enter any Number: \"))\n",
    "i = 1\n",
    "\n",
    "print(\"The List of Natural Numbers from 1 to {0} are\".format(number)) \n",
    "\n",
    "while ( i <= number):\n",
    "    print (i, end = '  ')\n",
    "    i = i + 1"
   ]
  },
  {
   "cell_type": "code",
   "execution_count": 32,
   "id": "1c93d1f0",
   "metadata": {},
   "outputs": [
    {
     "name": "stdout",
     "output_type": "stream",
     "text": [
      "Please Enter the Minimum integer Value : 1\n",
      "Please Enter the Maximum integer Value : 10\n",
      "The List of Natural Numbers from 1 to 10 are\n",
      "1  2  3  4  5  6  7  8  9  10  "
     ]
    }
   ],
   "source": [
    "# Python Program to Print Natural Numbers within a range\n",
    " \n",
    "minimum = int(input(\"Please Enter the Minimum integer Value : \"))\n",
    "maximum = int(input(\"Please Enter the Maximum integer Value : \"))\n",
    "\n",
    "print(\"The List of Natural Numbers from {0} to {1} are\".format(minimum, maximum)) \n",
    "\n",
    "for i in range(minimum, maximum + 1):\n",
    "    print (i, end = '  ')"
   ]
  },
  {
   "cell_type": "code",
   "execution_count": 33,
   "id": "e5510656",
   "metadata": {},
   "outputs": [
    {
     "name": "stdout",
     "output_type": "stream",
     "text": [
      " Please Enter any Maximum Value : 10\n",
      "1\n",
      "3\n",
      "5\n",
      "7\n",
      "9\n"
     ]
    }
   ],
   "source": [
    "# Python Program to Print Odd Numbers from 1 to N using for loop\n",
    "\n",
    "maximum = int(input(\" Please Enter any Maximum Value : \"))\n",
    "\n",
    "for number in range(1, maximum + 1):\n",
    "    if(number % 2 != 0):\n",
    "        print(\"{0}\".format(number))"
   ]
  },
  {
   "cell_type": "code",
   "execution_count": 35,
   "id": "52e5cceb",
   "metadata": {},
   "outputs": [
    {
     "name": "stdout",
     "output_type": "stream",
     "text": [
      " Please Enter the Maximum Value : 10\n",
      "1\n",
      "3\n",
      "5\n",
      "7\n",
      "9\n"
     ]
    }
   ],
   "source": [
    "# Python Program to Print Odd Numbers from 1 to N using while loop\n",
    "\n",
    "maximum = int(input(\" Please Enter the Maximum Value : \"))\n",
    "\n",
    "number = 1\n",
    "\n",
    "while number <= maximum:\n",
    "    if(number % 2 != 0):\n",
    "        print(\"{0}\".format(number))\n",
    "    number = number + 1"
   ]
  },
  {
   "cell_type": "code",
   "execution_count": 16,
   "id": "d05b1a46",
   "metadata": {},
   "outputs": [
    {
     "name": "stdout",
     "output_type": "stream",
     "text": [
      " Please Enter the Minimum Value : 1\n",
      " Please Enter the Maximum Value : 10\n",
      "1\n",
      "3\n",
      "5\n",
      "7\n",
      "9\n"
     ]
    }
   ],
   "source": [
    "# Python Program to Print Odd Numbers from Minimum to Maximum in a range\n",
    "\n",
    "minimum = int(input(\" Please Enter the Minimum Value : \"))\n",
    "maximum = int(input(\" Please Enter the Maximum Value : \"))\n",
    "\n",
    "for number in range(minimum, maximum+1 ):\n",
    "    if(number % 2 != 0):\n",
    "        print(\"{0}\".format(number))"
   ]
  },
  {
   "cell_type": "code",
   "execution_count": 17,
   "id": "11c14259",
   "metadata": {},
   "outputs": [
    {
     "name": "stdout",
     "output_type": "stream",
     "text": [
      " Please Enter any Maximum Value : 10\n",
      "2\n",
      "4\n",
      "6\n",
      "8\n",
      "10\n"
     ]
    }
   ],
   "source": [
    "# Python Program to Print Even Numbers from 1 to N using for loop\n",
    "\n",
    "maximum = int(input(\" Please Enter any Maximum Value : \"))\n",
    "\n",
    "for number in range(1, maximum + 1):\n",
    "    if(number % 2 == 0):\n",
    "        print(\"{0}\".format(number))"
   ]
  },
  {
   "cell_type": "code",
   "execution_count": 39,
   "id": "3af08ec6",
   "metadata": {},
   "outputs": [
    {
     "name": "stdout",
     "output_type": "stream",
     "text": [
      " Please Enter the Maximum Value : 10\n",
      "2\n",
      "4\n",
      "6\n",
      "8\n",
      "10\n"
     ]
    }
   ],
   "source": [
    "# Python Program to Print Even Numbers from 1 to N using while loop\n",
    "\n",
    "maximum = int(input(\" Please Enter the Maximum Value : \"))\n",
    "\n",
    "number = 1\n",
    "\n",
    "while number <= maximum:\n",
    "    if(number % 2 == 0):\n",
    "        print(\"{0}\".format(number))\n",
    "    number = number + 1"
   ]
  },
  {
   "cell_type": "code",
   "execution_count": 40,
   "id": "2960a9d5",
   "metadata": {},
   "outputs": [
    {
     "name": "stdout",
     "output_type": "stream",
     "text": [
      " Please Enter the Minimum Value : 1\n",
      " Please Enter the Maximum Value : 10\n",
      "2\n",
      "4\n",
      "6\n",
      "8\n",
      "10\n"
     ]
    }
   ],
   "source": [
    "# Python Program to Print Even Numbers from Min to Max in a range\n",
    "\n",
    "minimum = int(input(\" Please Enter the Minimum Value : \"))\n",
    "maximum = int(input(\" Please Enter the Maximum Value : \"))\n",
    "\n",
    "for number in range(minimum, maximum+1):\n",
    "    if(number % 2 == 0):\n",
    "        print(\"{0}\".format(number))"
   ]
  },
  {
   "cell_type": "code",
   "execution_count": 44,
   "id": "ce6eee12",
   "metadata": {},
   "outputs": [
    {
     "name": "stdout",
     "output_type": "stream",
     "text": [
      "16\n"
     ]
    }
   ],
   "source": [
    "# Square of a given number using multiplication\n",
    "#Declaring the number.\n",
    "\n",
    "n = 4\n",
    " \n",
    "# Finding square by multiplying them\n",
    "# with each other\n",
    "square = n * n\n",
    " \n",
    "# Printing square\n",
    "print(square)"
   ]
  },
  {
   "cell_type": "code",
   "execution_count": 26,
   "id": "47846d20",
   "metadata": {},
   "outputs": [
    {
     "name": "stdout",
     "output_type": "stream",
     "text": [
      " Please Enter any numeric Value : 10\n",
      "The Square of a Given Number 10.0  = 100.0\n"
     ]
    }
   ],
   "source": [
    "# Python Program to Calculate Square of a Number using exponent\n",
    "\n",
    "number = float(input(\" Please Enter any numeric Value : \"))\n",
    "\n",
    "square = number ** 2\n",
    "\n",
    "print(\"The Square of a Given Number {0}  = {1}\".format(number, square))"
   ]
  },
  {
   "cell_type": "code",
   "execution_count": 46,
   "id": "cd092c8d",
   "metadata": {},
   "outputs": [
    {
     "name": "stdout",
     "output_type": "stream",
     "text": [
      "16\n"
     ]
    }
   ],
   "source": [
    "# Square of a given number using pow() method\n",
    "# Declaring the number.\n",
    "n = 4\n",
    " \n",
    "# Finding square by using pow method\n",
    "# This will yield n power 2 i.e. square of n\n",
    "square = pow(n, 2)\n",
    " \n",
    "# Printing square\n",
    "print(square)"
   ]
  },
  {
   "cell_type": "code",
   "execution_count": 12,
   "id": "0c7c23c0",
   "metadata": {},
   "outputs": [
    {
     "name": "stdout",
     "output_type": "stream",
     "text": [
      " Please Enter any numeric Value : 10\n",
      "The Square of a Given Number 10.0  = 100.0\n"
     ]
    }
   ],
   "source": [
    "def square(num):\n",
    "    return num * num\n",
    "\n",
    "number = float(input(\" Please Enter any numeric Value : \"))\n",
    "\n",
    "sqre = square(number)\n",
    "\n",
    "print(\"The Square of a Given Number {0}  = {1}\".format(number, sqre))"
   ]
  },
  {
   "cell_type": "code",
   "execution_count": 1,
   "id": "cec336aa",
   "metadata": {},
   "outputs": [
    {
     "name": "stdout",
     "output_type": "stream",
     "text": [
      " Please Enter any numeric Value : 10\n",
      "1\n",
      "4\n",
      "9\n",
      "16\n",
      "25\n",
      "36\n",
      "49\n",
      "64\n",
      "81\n"
     ]
    }
   ],
   "source": [
    "n = float(input(\" Please Enter any numeric Value : \"))\n",
    "a=1\n",
    "while a < n:\n",
    "    print (a * a)\n",
    "    a += 1\n",
    "\n",
    "    # 'if' is not necessary"
   ]
  },
  {
   "cell_type": "code",
   "execution_count": 2,
   "id": "7c2b2aaf",
   "metadata": {},
   "outputs": [
    {
     "name": "stdout",
     "output_type": "stream",
     "text": [
      "1 \t 1\n",
      "2 \t 4\n",
      "3 \t 9\n",
      "4 \t 16\n",
      "5 \t 25\n"
     ]
    }
   ],
   "source": [
    "n = 1 \n",
    "while n <= 5:\n",
    "    print (n, '\\t', n ** 2)\n",
    "    n += 1"
   ]
  },
  {
   "cell_type": "code",
   "execution_count": null,
   "id": "e45da279",
   "metadata": {},
   "outputs": [],
   "source": [
    "# Python Program to Calculate Cube of a Number using multiplication\n",
    "\n",
    "number = float(input(\" Please Enter any numeric Value : \"))\n",
    "\n",
    "cube = number * number * number\n",
    "\n",
    "print(\"The Cube of a Given Number {0}  = {1}\".format(number, cube))"
   ]
  },
  {
   "cell_type": "code",
   "execution_count": 54,
   "id": "8701fc1a",
   "metadata": {},
   "outputs": [
    {
     "name": "stdout",
     "output_type": "stream",
     "text": [
      " Please Enter any numeric Value : 10\n",
      "The Cube of a Given Number 10.0  = 1000.0\n"
     ]
    }
   ],
   "source": [
    "# Python Program to Calculate Cube of a Number using exponent operator\n",
    "\n",
    "number = float(input(\" Please Enter any numeric Value : \"))\n",
    "\n",
    "cube = number ** 3\n",
    "\n",
    "print(\"The Cube of a Given Number {0}  = {1}\".format(number, cube))"
   ]
  },
  {
   "cell_type": "code",
   "execution_count": 56,
   "id": "70f3eb69",
   "metadata": {},
   "outputs": [
    {
     "name": "stdout",
     "output_type": "stream",
     "text": [
      " Please Enter any numeric Value : 10\n",
      "The Cube of a Given Number 10.0  = 1000.0\n"
     ]
    }
   ],
   "source": [
    "# Python Program to Calculate Cube of a number using functions\n",
    "\n",
    "def cube(num):\n",
    "    return num * num * num\n",
    "\n",
    "number = float(input(\" Please Enter any numeric Value : \"))\n",
    "\n",
    "cub = cube(number)\n",
    "\n",
    "print(\"The Cube of a Given Number {0}  = {1}\".format(number, cub))"
   ]
  },
  {
   "cell_type": "code",
   "execution_count": 19,
   "id": "d77c9bd0",
   "metadata": {},
   "outputs": [
    {
     "name": "stdout",
     "output_type": "stream",
     "text": [
      "enter n: 5\n",
      "sum of cubes of first 5 natural numbers:  225\n"
     ]
    }
   ],
   "source": [
    "# Python Program to Calculate Cube Sum of N Natural Numbers using Functions\n",
    "\n",
    "def CubeSum(n):\n",
    "    s=0\n",
    "    for i in range(n+1):\n",
    "        s+=i**3\n",
    "    return s\n",
    "n=int(input(\"enter n: \"))\n",
    "print(\"sum of cubes of first {} natural numbers: \".format(n),CubeSum(n))"
   ]
  },
  {
   "cell_type": "code",
   "execution_count": 5,
   "id": "b37be83f",
   "metadata": {},
   "outputs": [
    {
     "name": "stdout",
     "output_type": "stream",
     "text": [
      "Enter a number: 10\n",
      "The sum is 55\n"
     ]
    }
   ],
   "source": [
    "# Sum of natural numbers up to num\n",
    "\n",
    "num = int(input(\"Enter a number: \"))  \n",
    "  \n",
    "if num < 0:  \n",
    "   print(\"Enter a positive number\")  \n",
    "else:  \n",
    "   sum = 0  \n",
    "   # use while loop to iterate un till zero  \n",
    "   while(num > 0):  \n",
    "       sum += num  \n",
    "       num -= 1  \n",
    "   print(\"The sum is\",sum)  "
   ]
  },
  {
   "cell_type": "code",
   "execution_count": 1,
   "id": "f6022165",
   "metadata": {},
   "outputs": [
    {
     "name": "stdout",
     "output_type": "stream",
     "text": [
      "Please Enter the First value: 10\n",
      "Please Enter the Second value: 20\n",
      "Please Enter the Third value: 40\n",
      "40.0 is Greater Than both 10.0 and 20.0\n"
     ]
    }
   ],
   "source": [
    "# largest of 3 numbers using elIf Statement\n",
    "\n",
    "a = float(input(\"Please Enter the First value: \"))\n",
    "b = float(input(\"Please Enter the Second value: \"))\n",
    "c = float(input(\"Please Enter the Third value: \"))\n",
    "\n",
    "if (a > b and a > c):\n",
    "          print(\"{0} is Greater Than both {1} and {2}\". format(a, b, c))\n",
    "elif (b > a and b > c):\n",
    "          print(\"{0} is Greater Than both {1} and {2}\". format(b, a, c))\n",
    "elif (c > a and c > b):\n",
    "          print(\"{0} is Greater Than both {1} and {2}\". format(c, a, b))\n",
    "else:\n",
    "          print(\"Either any two values or all the three values are equal\")"
   ]
  },
  {
   "cell_type": "code",
   "execution_count": 1,
   "id": "0b53fb65",
   "metadata": {},
   "outputs": [
    {
     "name": "stdout",
     "output_type": "stream",
     "text": [
      "The largest number is 14\n"
     ]
    }
   ],
   "source": [
    "# Python program to find the largest number among the three input numbers\n",
    "\n",
    "# change the values of num1, num2 and num3\n",
    "# for a different result\n",
    "num1 = 10\n",
    "num2 = 14\n",
    "num3 = 12\n",
    "\n",
    "# uncomment following lines to take three numbers from user\n",
    "#num1 = float(input(\"Enter first number: \"))\n",
    "#num2 = float(input(\"Enter second number: \"))\n",
    "#num3 = float(input(\"Enter third number: \"))\n",
    "\n",
    "if (num1 >= num2) and (num1 >= num3):\n",
    "   largest = num1\n",
    "elif (num2 >= num1) and (num2 >= num3):\n",
    "   largest = num2\n",
    "else:\n",
    "   largest = num3\n",
    "\n",
    "print(\"The largest number is\", largest)"
   ]
  },
  {
   "cell_type": "code",
   "execution_count": 24,
   "id": "1a34762f",
   "metadata": {},
   "outputs": [
    {
     "name": "stdout",
     "output_type": "stream",
     "text": [
      "Enter the first number: 10\n",
      "Enter the second number: 3\n",
      "Quotient is: 3\n",
      "Remainder is: 1\n"
     ]
    }
   ],
   "source": [
    "# Python program to find the quotient and remainder of 2 numbers\n",
    "\n",
    "a=int(input(\"Enter the first number: \"))\n",
    "b=int(input(\"Enter the second number: \"))\n",
    "quotient=a//b\n",
    "remainder=a%b\n",
    "print(\"Quotient is:\",quotient)\n",
    "print(\"Remainder is:\",remainder)"
   ]
  },
  {
   "cell_type": "code",
   "execution_count": 28,
   "id": "4119bb96",
   "metadata": {},
   "outputs": [
    {
     "name": "stdout",
     "output_type": "stream",
     "text": [
      "Quotient:  3\n",
      "Remainder 1\n",
      "Quotient:  19\n",
      "Remainder 4\n"
     ]
    }
   ],
   "source": [
    "# Python program to find the quotient and remainder of 2 numbers\n",
    "\n",
    "def find(n, m):\n",
    "\n",
    "# for quotient\n",
    "    q = n//m\n",
    "    print(\"Quotient: \", q)\n",
    "\n",
    "# for remainder\n",
    "    r = n%m\n",
    "    print(\"Remainder\", r)\n",
    "\n",
    "# Driver Code\n",
    "find(10, 3)\n",
    "find(99, 5)\n"
   ]
  },
  {
   "cell_type": "code",
   "execution_count": 21,
   "id": "58a225b5",
   "metadata": {},
   "outputs": [
    {
     "name": "stdout",
     "output_type": "stream",
     "text": [
      "Quotient:  3\n",
      "Remainder:  1\n",
      "Quotient:  19\n",
      "Remainder:  4\n"
     ]
    }
   ],
   "source": [
    "# Python program to find the quotient and remainder using divmod() method\n",
    "q, r = divmod(10, 3)\n",
    "print(\"Quotient: \", q)\n",
    "print(\"Remainder: \", r)\n",
    "\n",
    "q, r = divmod(99, 5)\n",
    "print(\"Quotient: \", q)\n",
    "print(\"Remainder: \", r)\n"
   ]
  },
  {
   "cell_type": "code",
   "execution_count": 28,
   "id": "812966df",
   "metadata": {},
   "outputs": [
    {
     "name": "stdout",
     "output_type": "stream",
     "text": [
      "enter physics marks: 40\n",
      "enter chemistry marks: 39\n",
      "enter maths marks: 63\n",
      "cutoff = 51.25\n"
     ]
    }
   ],
   "source": [
    "#Engineering Cutoff\n",
    "#The total marks for every subject is 200.\n",
    "#First, take your mathematic marks divide it by 2, then you will get the marks for 100.\n",
    "#Marks of physics and chemistry should be divided by 4, then you would get marks for 50 for each subject.\n",
    "#Cutoff marks are calculated by converting the Maths marks to 100, Chemistry marks to 50, Physics marks to 50 and then adding them up.\n",
    "#This is the normal process to getting cutoff marks.\n",
    "\n",
    "p=float(input(\"enter physics marks: \"))\n",
    "\n",
    "c=float(input(\"enter chemistry marks: \"))\n",
    "\n",
    "m=float(input(\"enter maths marks: \"))\n",
    "\n",
    "cutoff=(p/4+c/4+m/2)\n",
    "\n",
    "print(\"cutoff =\", cutoff)"
   ]
  },
  {
   "cell_type": "code",
   "execution_count": 26,
   "id": "1863cc44",
   "metadata": {},
   "outputs": [
    {
     "name": "stdout",
     "output_type": "stream",
     "text": [
      "Enter age of a user: 20\n",
      "User is eligible for voting:  20\n"
     ]
    }
   ],
   "source": [
    "# Python program to check vote eligibility \n",
    "\n",
    "age = int(input(\"Enter age of a user: \"))\n",
    "\n",
    "if age >= 18:\n",
    "    print(\"User is eligible for voting: \", age)\n",
    "else:\n",
    "    print(\"User is not eligible for voting: \", age)"
   ]
  },
  {
   "cell_type": "code",
   "execution_count": 1,
   "id": "41bd10f9",
   "metadata": {},
   "outputs": [
    {
     "name": "stdout",
     "output_type": "stream",
     "text": [
      "Select operation.\n",
      "1.Add\n",
      "2.Subtract\n",
      "3.Multiply\n",
      "4.Divide\n",
      "Enter choice(1/2/3/4): 1\n",
      "Enter first number: 1\n",
      "Enter second number: 1\n",
      "1.0 + 1.0 = 2.0\n",
      "Let's do next calculation? (yes/no): no\n"
     ]
    }
   ],
   "source": [
    "\n",
    "# This function adds two numbers\n",
    "def add(x, y):\n",
    "    return x + y\n",
    "\n",
    "# This function subtracts two numbers\n",
    "def subtract(x, y):\n",
    "    return x - y\n",
    "\n",
    "# This function multiplies two numbers\n",
    "def multiply(x, y):\n",
    "    return x * y\n",
    "\n",
    "# This function divides two numbers\n",
    "def divide(x, y):\n",
    "    return x / y\n",
    "\n",
    "\n",
    "print(\"Select operation.\")\n",
    "print(\"1.Add\")\n",
    "print(\"2.Subtract\")\n",
    "print(\"3.Multiply\")\n",
    "print(\"4.Divide\")\n",
    "\n",
    "while True:\n",
    "    # take input from the user\n",
    "    choice = input(\"Enter choice(1/2/3/4): \")\n",
    "\n",
    "    # check if choice is one of the four options\n",
    "    if choice in ('1', '2', '3', '4'):\n",
    "        num1 = float(input(\"Enter first number: \"))\n",
    "        num2 = float(input(\"Enter second number: \"))\n",
    "\n",
    "        if choice == '1':\n",
    "            print(num1, \"+\", num2, \"=\", add(num1, num2))\n",
    "\n",
    "        elif choice == '2':\n",
    "            print(num1, \"-\", num2, \"=\", subtract(num1, num2))\n",
    "\n",
    "        elif choice == '3':\n",
    "            print(num1, \"*\", num2, \"=\", multiply(num1, num2))\n",
    "\n",
    "        elif choice == '4':\n",
    "            print(num1, \"/\", num2, \"=\", divide(num1, num2))\n",
    "        \n",
    "        # check if user wants another calculation\n",
    "        # break the while loop if answer is no\n",
    "        next_calculation = input(\"Let's do next calculation? (yes/no): \")\n",
    "        if next_calculation == \"no\":\n",
    "          break\n",
    "    \n",
    "    else:\n",
    "        print(\"Invalid Input\")"
   ]
  },
  {
   "cell_type": "code",
   "execution_count": 3,
   "id": "d6a61f5e",
   "metadata": {},
   "outputs": [
    {
     "name": "stdout",
     "output_type": "stream",
     "text": [
      "Temperature value in degree Celsius: 37\n",
      "The 37.00 degree Celsius is equal to: 98.60 Fahrenheit\n",
      "----OR----\n",
      "Temperature value in degree Celsius: 98\n",
      "The 98.00 degree Celsius is equal to: 208.40 Fahrenheit\n"
     ]
    }
   ],
   "source": [
    "# For Converting the temperature from celsius to degree Fahrenheit \n",
    "\n",
    "celsius_1 = float(input(\"Temperature value in degree Celsius: \" ))  \n",
    "Fahrenheit_1 = (celsius_1 * 1.8) + 32   \n",
    "# print the result  \n",
    "print('The %.2f degree Celsius is equal to: %.2f Fahrenheit'  \n",
    "      %(celsius_1, Fahrenheit_1))  \n",
    "  \n",
    "print(\"----OR----\")  \n",
    "celsius_2 = float (input(\"Temperature value in degree Celsius: \" ))  \n",
    "Fahrenheit_2 = (celsius_2 * 9/5) + 32  \n",
    "# print the result  \n",
    "print ('The %.2f degree Celsius is equal to: %.2f Fahrenheit'  \n",
    "      %(celsius_2, Fahrenheit_2))  "
   ]
  },
  {
   "cell_type": "code",
   "execution_count": 2,
   "id": "daf1dcbf",
   "metadata": {},
   "outputs": [
    {
     "name": "stdout",
     "output_type": "stream",
     "text": [
      "The 37.50 degree Celsius is equal to: 99.50 Fahrenheit\n"
     ]
    }
   ],
   "source": [
    "celsius = 37.5\n",
    "Fahrenheit = (celsius * 1.8) + 32\n",
    "print ('The %.2f degree Celsius is equal to: %.2f Fahrenheit' %(celsius, Fahrenheit)) "
   ]
  },
  {
   "cell_type": "code",
   "execution_count": 3,
   "id": "eff8f3cb",
   "metadata": {},
   "outputs": [
    {
     "name": "stdout",
     "output_type": "stream",
     "text": [
      "SALARY PROGRAM\n",
      "Enter name of employee:A\n",
      "Enter Basic Salary :1000\n",
      "\n",
      "\n",
      "\n",
      "S A L A R Y   D E T A I L E D   B R E A K U P \n",
      "==============================================\n",
      " NAME OF EMPLOYEE :  A\n",
      " BASIC SALARY :  1000.0\n",
      " DEARNESS ALLOW. :  250.0\n",
      " HOUSE RENT ALLOW.:  150.0\n",
      " TRAVEL ALLOW. :  75.0\n",
      "==============================================\n",
      " NET SALARY PAY :  1475.0\n",
      " PROVIDENT FUND :  150.0\n",
      "==============================================\n",
      " GROSS PAYMENT :  1325.0\n",
      "==============================================\n"
     ]
    }
   ],
   "source": [
    "#Calculate the Gross Salary of an employee for following allowance & deduction.\n",
    "#Get Basic Salary of Employee,\n",
    "#DA = 25% of Basic,\n",
    "#HRA = 15% of Basic,\n",
    "#PF = 12% of Basic,\n",
    "#TA = 7.50% of Basic.\n",
    "#Net Pay = Basic + DA + HRA + TA\n",
    "#Gross Pay = Net Pay - PF.\n",
    "\n",
    "print(\"SALARY PROGRAM\")\n",
    "name= str(input(\"Enter name of employee:\"))\n",
    "basic=float(input(\"Enter Basic Salary :\"))\n",
    "da=float(basic*0.25)\n",
    "hra=float(basic*0.15)\n",
    "pf=float((basic+da)*0.12)\n",
    "ta=float(basic*0.075)\n",
    "netpay=float(basic+da+hra+ta)\n",
    "grosspay=float(netpay-pf)\n",
    "\n",
    "print(\"\\n\\n\")\n",
    "print(\"S A L A R Y   D E T A I L E D   B R E A K U P \")\n",
    "print(\"==============================================\")\n",
    "print(\" NAME OF EMPLOYEE : \",name)\n",
    "print(\" BASIC SALARY : \",basic)\n",
    "print(\" DEARNESS ALLOW. : \",da)\n",
    "print(\" HOUSE RENT ALLOW.: \",hra)\n",
    "print(\" TRAVEL ALLOW. : \",ta)\n",
    "print(\"==============================================\")\n",
    "print(\" NET SALARY PAY : \",netpay)\n",
    "print(\" PROVIDENT FUND : \",pf)\n",
    "print(\"==============================================\")\n",
    "print(\" GROSS PAYMENT : \",grosspay)\n",
    "print(\"==============================================\")"
   ]
  },
  {
   "cell_type": "code",
   "execution_count": 10,
   "id": "44335c2d",
   "metadata": {},
   "outputs": [
    {
     "name": "stdout",
     "output_type": "stream",
     "text": [
      "Enter the width of a rectangle: 2\n",
      "Enter the height of a rectangle: 2\n",
      "Area of a rectangle is: 4.00\n"
     ]
    }
   ],
   "source": [
    "# Print Area of Rectangle using Functions\n",
    "\n",
    "def Areaofrectangle(width, height):\n",
    "    Area = width * height\n",
    "    print(\"Area of a rectangle is: %.2f\" %Area)\n",
    "width = float(input('Enter the width of a rectangle: '))\n",
    "height = float(input('Enter the height of a rectangle: '))\n",
    "Areaofrectangle(width, height)"
   ]
  },
  {
   "cell_type": "code",
   "execution_count": 4,
   "id": "b05e7c13",
   "metadata": {},
   "outputs": [
    {
     "name": "stdout",
     "output_type": "stream",
     "text": [
      "Enter a number: 10\n",
      "The factorial of 10 is 3628800\n"
     ]
    }
   ],
   "source": [
    "# Python 3 program to find factorial of given number iteration\n",
    "num = int(input(\"Enter a number: \"))    \n",
    "factorial = 1    \n",
    "if num < 0:    \n",
    "   print(\" Factorial does not exist for negative numbers\")    \n",
    "elif num == 0:    \n",
    "   print(\"The factorial of 0 is 1\")    \n",
    "else:    \n",
    "   for i in range(1,num + 1):    \n",
    "       factorial = factorial*i    \n",
    "   print(\"The factorial of\",num,\"is\",factorial)  "
   ]
  },
  {
   "cell_type": "code",
   "execution_count": 11,
   "id": "07ed6ee4",
   "metadata": {},
   "outputs": [
    {
     "name": "stdout",
     "output_type": "stream",
     "text": [
      "Enter a number: 10\n",
      "The factorial of 10 is 3628800\n",
      "This is a recursive function\n",
      "    to find the factorial of an integer\n"
     ]
    }
   ],
   "source": [
    "# Python program to find the factorial of a number provided by the user using recursion\n",
    "def factorial(x):\n",
    "    \"\"\"This is a recursive function\n",
    "    to find the factorial of an integer\"\"\"\n",
    "\n",
    "    if x == 1:\n",
    "        return 1\n",
    "    else:\n",
    "        # recursive call to the function\n",
    "        return (x * factorial(x-1))\n",
    "\n",
    "# change the value for a different result\n",
    "num = int(input(\"Enter a number: \"))\n",
    "\n",
    "# to take input from the user\n",
    "# num = int(input(\"Enter a number: \"))\n",
    "# call the factorial function\n",
    "result = factorial(num)\n",
    "print(\"The factorial of\", num, \"is\", result)\n",
    "print (factorial.__doc__)"
   ]
  },
  {
   "cell_type": "code",
   "execution_count": 6,
   "id": "005e8b80",
   "metadata": {},
   "outputs": [
    {
     "name": "stdout",
     "output_type": "stream",
     "text": [
      "Hello World!\n"
     ]
    }
   ],
   "source": [
    "print(\"Hello World!\")"
   ]
  },
  {
   "cell_type": "code",
   "execution_count": 33,
   "id": "5223e1b5",
   "metadata": {},
   "outputs": [
    {
     "name": "stdout",
     "output_type": "stream",
     "text": [
      "str\n",
      "Hello World\n"
     ]
    }
   ],
   "source": [
    "str='Hello World'\n",
    "print('str')\n",
    "print(str)"
   ]
  },
  {
   "cell_type": "code",
   "execution_count": 9,
   "id": "0a00cbc7",
   "metadata": {},
   "outputs": [
    {
     "name": "stdout",
     "output_type": "stream",
     "text": [
      "5\n",
      "The sum of 2 and 3 is 5\n",
      "The sum of 2 and 3 is 5.0\n"
     ]
    }
   ],
   "source": [
    "# using the addition operator\n",
    "val1 = 2\n",
    "val2 = 3\n",
    "res = val1 + val2\n",
    "res1 = int(val1) + int(val2)\n",
    "res2 = float(val1) + float(val2)\n",
    "print(res)\n",
    "print('The sum of {0} and {1} is {2}'.format(val1, val2, res1))\n",
    "print('The sum of {0} and {1} is {2}'.format(val1, val2, res2))"
   ]
  },
  {
   "cell_type": "code",
   "execution_count": 10,
   "id": "402c8398",
   "metadata": {},
   "outputs": [
    {
     "name": "stdout",
     "output_type": "stream",
     "text": [
      "-1\n",
      "The difference of 2 and 3 is -1\n",
      "The difference of 2 and 3 is -1.0\n"
     ]
    }
   ],
   "source": [
    "# using the subtraction operator\n",
    "val1 = 2\n",
    "val2 = 3\n",
    "res = val1 - val2\n",
    "res1 = int(val1) - int(val2)\n",
    "res2 = float(val1) - float(val2)\n",
    "print(res)\n",
    "print('The difference of {0} and {1} is {2}'.format(val1, val2, res1))\n",
    "print('The difference of {0} and {1} is {2}'.format(val1, val2, res2))"
   ]
  },
  {
   "cell_type": "code",
   "execution_count": 11,
   "id": "91e5a081",
   "metadata": {},
   "outputs": [
    {
     "name": "stdout",
     "output_type": "stream",
     "text": [
      "6\n",
      "The product of 2 and 3 is 6\n",
      "The product of 2 and 3 is 6.0\n"
     ]
    }
   ],
   "source": [
    "# using the multiplication operator\n",
    "val1 = 2\n",
    "val2 = 3\n",
    "res = val1 * val2\n",
    "res1 = int(val1) * int(val2)\n",
    "res2 = float(val1) * float(val2)\n",
    "print(res)\n",
    "print('The product of {0} and {1} is {2}'.format(val1, val2, res1))\n",
    "print('The product of {0} and {1} is {2}'.format(val1, val2, res2))"
   ]
  },
  {
   "cell_type": "code",
   "execution_count": 12,
   "id": "7d02d9eb",
   "metadata": {},
   "outputs": [
    {
     "name": "stdout",
     "output_type": "stream",
     "text": [
      "1.5\n",
      "The division of 3 and 2 is 1.5\n",
      "The division of 3 and 2 is 1.5\n"
     ]
    }
   ],
   "source": [
    "# using the division operator\n",
    "val1 = 3\n",
    "val2 = 2\n",
    "res = val1 / val2\n",
    "res1 = int(val1) / int(val2)\n",
    "res2 = float(val1) / float(val2)\n",
    "print(res)\n",
    "print('The division of {0} and {1} is {2}'.format(val1, val2, res1))\n",
    "print('The division of {0} and {1} is {2}'.format(val1, val2, res2))"
   ]
  },
  {
   "cell_type": "code",
   "execution_count": 13,
   "id": "adce3f35",
   "metadata": {},
   "outputs": [
    {
     "name": "stdout",
     "output_type": "stream",
     "text": [
      "1\n",
      "The floor division of 3 and 2 is 1\n",
      "The floor division of 3 and 2 is 1.0\n"
     ]
    }
   ],
   "source": [
    "# using the floor division\n",
    "val1 = 3\n",
    "val2 = 2\n",
    "res = val1 // val2\n",
    "res1 = int(val1) // int(val2)\n",
    "res2 = float(val1) // float(val2)\n",
    "print(res)\n",
    "print('The floor division of {0} and {1} is {2}'.format(val1, val2, res1))\n",
    "print('The floor division of {0} and {1} is {2}'.format(val1, val2, res2))"
   ]
  },
  {
   "cell_type": "code",
   "execution_count": 14,
   "id": "d84df8a4",
   "metadata": {},
   "outputs": [
    {
     "name": "stdout",
     "output_type": "stream",
     "text": [
      "1\n",
      "The modulo of 3 and 2 is 1\n",
      "The modulo of 3 and 2 is 1.0\n"
     ]
    }
   ],
   "source": [
    "# using the modulo division\n",
    "val1 = 3\n",
    "val2 = 2\n",
    "res = val1 % val2\n",
    "res1 = int(val1) % int(val2)\n",
    "res2 = float(val1) % float(val2)\n",
    "print(res)\n",
    "print('The modulo of {0} and {1} is {2}'.format(val1, val2, res1))\n",
    "print('The modulo of {0} and {1} is {2}'.format(val1, val2, res2))"
   ]
  },
  {
   "cell_type": "code",
   "execution_count": 3,
   "id": "dafc20b4",
   "metadata": {},
   "outputs": [
    {
     "name": "stdout",
     "output_type": "stream",
     "text": [
      "Enter number:5\n",
      "Square root of number: 2.23606797749979\n"
     ]
    }
   ],
   "source": [
    "#to calculate square root using newtons method\n",
    "def newton_method(number, number_iters = 100):\n",
    "\n",
    "    a = float(number) \n",
    "\n",
    "    for i in range(number_iters): \n",
    "\n",
    "        number = 0.5 * (number + a / number) \n",
    "\n",
    "    return number\n",
    "\n",
    "a=int(input(\"Enter number:\"))\n",
    "\n",
    "print(\"Square root of number:\",newton_method(a))"
   ]
  },
  {
   "cell_type": "code",
   "execution_count": 1,
   "id": "f5c8dab7",
   "metadata": {},
   "outputs": [
    {
     "name": "stdout",
     "output_type": "stream",
     "text": [
      "Enter a number: 5\n",
      "Approx:  2.5\n",
      "Better:  2.25\n",
      "Approx:  2.25\n",
      "Better:  2.236111111111111\n",
      "Approx:  2.236111111111111\n",
      "Better:  2.2360679779158037\n",
      "Approx:  2.2360679779158037\n",
      "Better:  2.23606797749979\n",
      "Approx:  2.23606797749979\n",
      "Better:  2.23606797749979\n",
      "Square Root 2.23606797749979\n"
     ]
    }
   ],
   "source": [
    "num=float(input(\"Enter a number: \"))\n",
    "approx=0.5*num\n",
    "print(\"Approx: \", approx)\n",
    "better=0.5*(approx+num/approx)\n",
    "print(\"Better: \", better)\n",
    "while(better!=approx):\n",
    "    approx=better\n",
    "    print(\"Approx: \", approx)\n",
    "    better=0.5*(approx+num/approx)\n",
    "    print(\"Better: \", better)\n",
    "print(\"Square Root\", better)\n",
    "    "
   ]
  },
  {
   "cell_type": "code",
   "execution_count": 2,
   "id": "6cb5a9be",
   "metadata": {},
   "outputs": [
    {
     "name": "stdout",
     "output_type": "stream",
     "text": [
      "enter x1 : 1\n",
      "enter x2 : 4\n",
      "enter y1 : 6\n",
      "enter y2 : 5\n",
      "distance between (1, 4) and (6, 5) is :  3.1622776601683795\n"
     ]
    }
   ],
   "source": [
    "#distance between two points\n",
    "x1=int(input(\"enter x1 : \"))\n",
    "\n",
    "x2=int(input(\"enter x2 : \"))\n",
    "\n",
    "y1=int(input(\"enter y1 : \"))\n",
    "\n",
    "y2=int(input(\"enter y2 : \"))\n",
    "\n",
    "result= ((((x2 - x1 )**2) + ((y2-y1)**2) )**0.5)\n",
    "\n",
    "print(\"distance between\",(x1,y1),\"and\",(x2,y2),\"is : \", result)"
   ]
  },
  {
   "cell_type": "code",
   "execution_count": 5,
   "id": "93525f68",
   "metadata": {},
   "outputs": [
    {
     "name": "stdout",
     "output_type": "stream",
     "text": [
      "GCD of 98 and 56 is 14\n"
     ]
    }
   ],
   "source": [
    "# Python program to find GCD of two numbers\n",
    "# Function to find gcd of two numbers\n",
    "\n",
    "\n",
    "def gcd(a, b):\n",
    "\t# Find minimum of a and b\n",
    "\tresult = min(a, b)\n",
    "\n",
    "\twhile result:\n",
    "\t\tif a % result == 0 and b % result == 0:\n",
    "\t\t\tbreak\n",
    "\t\tresult -= 1\n",
    "\n",
    "\t# Return the gcd of a and b\n",
    "\treturn result\n",
    "\n",
    "\n",
    "# Driver Code\n",
    "a = 98\n",
    "b = 56\n",
    "\n",
    "print(f\"GCD of {a} and {b} is {gcd(a, b)}\")\n",
    "\n",
    "# This code is contributed by Soham Mirikar\n"
   ]
  },
  {
   "cell_type": "code",
   "execution_count": 2,
   "id": "690ac96a",
   "metadata": {},
   "outputs": [
    {
     "name": "stdout",
     "output_type": "stream",
     "text": [
      "The gcd of 60 and 48 is : 12\n"
     ]
    }
   ],
   "source": [
    "#gcd of two numbers\n",
    "import math\n",
    "\n",
    "# prints 12\n",
    "print(\"The gcd of 60 and 48 is : \", end=\"\")\n",
    "print(math.gcd(60, 48))\n"
   ]
  },
  {
   "cell_type": "code",
   "execution_count": 6,
   "id": "17944ee3",
   "metadata": {},
   "outputs": [
    {
     "name": "stdout",
     "output_type": "stream",
     "text": [
      "54.598150033144236\n",
      "0.049787068367863944\n",
      "1.0\n"
     ]
    }
   ],
   "source": [
    "#exponent of a number\n",
    "#The math. exp() method returns E raised to the power of x (Ex).\n",
    "#'E' is the base of the natural system of logarithms (approximately 2.718282)\n",
    "#and x is the number passed to it.\n",
    "import math\n",
    "\n",
    "test_int = 4\n",
    "test_neg_int = -3\n",
    "test_float = 0.00\n",
    "\n",
    "\n",
    "print (math.exp(test_int))\n",
    "print (math.exp(test_neg_int))\n",
    "print (math.exp(test_float))\n"
   ]
  },
  {
   "cell_type": "code",
   "execution_count": 16,
   "id": "7d7d2971",
   "metadata": {},
   "outputs": [
    {
     "name": "stdout",
     "output_type": "stream",
     "text": [
      "Enter number of values : 5\n",
      "Enter integer : 1\n",
      "Enter integer : 2\n",
      "Enter integer : 3\n",
      "Enter integer : 4\n",
      "Enter integer : 5\n",
      "Circulating the elements of list  [1, 2, 3, 4, 5]\n",
      "[2, 3, 4, 5, 1]\n",
      "[3, 4, 5, 1, 2]\n",
      "[4, 5, 1, 2, 3]\n",
      "[5, 1, 2, 3, 4]\n",
      "[1, 2, 3, 4, 5]\n"
     ]
    }
   ],
   "source": [
    "# Circulate the values of n variables\n",
    "#range(start, stop[, step])\n",
    "\n",
    "no_of_terms = int(input(\"Enter number of values : \"))\n",
    "\n",
    "list1 = []\n",
    "for val in range(0,no_of_terms,1):\n",
    "    ele = int(input(\"Enter integer : \"))\n",
    "    list1.append(ele)\n",
    "\n",
    "print(\"Circulating the elements of list \", list1)\n",
    "   \n",
    "for val in range(0,no_of_terms,1):\n",
    "    ele = list1.pop(0)\n",
    "    list1.append(ele)\n",
    "    print(list1)"
   ]
  },
  {
   "cell_type": "code",
   "execution_count": 1,
   "id": "8aef598c",
   "metadata": {},
   "outputs": [
    {
     "name": "stdout",
     "output_type": "stream",
     "text": [
      "The value of x after swapping: 10\n",
      "The value of y after swapping: 5\n"
     ]
    }
   ],
   "source": [
    "# Python program to swap two variables\n",
    "#using temp\n",
    "\n",
    "x = 5\n",
    "y = 10\n",
    "temp = x\n",
    "x = y\n",
    "y = temp\n",
    "\n",
    "print('The value of x after swapping: {}'.format(x))\n",
    "print('The value of y after swapping: {}'.format(y))\n"
   ]
  },
  {
   "cell_type": "code",
   "execution_count": 8,
   "id": "115b9451",
   "metadata": {},
   "outputs": [
    {
     "name": "stdout",
     "output_type": "stream",
     "text": [
      "x = 10\n",
      "y = 5\n"
     ]
    }
   ],
   "source": [
    "#without temp\n",
    "x = 5\n",
    "y = 10\n",
    "\n",
    "x, y = y, x\n",
    "print(\"x =\", x)\n",
    "print(\"y =\", y)\n"
   ]
  },
  {
   "cell_type": "code",
   "execution_count": 6,
   "id": "ed8793a7",
   "metadata": {},
   "outputs": [
    {
     "name": "stdout",
     "output_type": "stream",
     "text": [
      "Enter number:1\n",
      "The entered number is odd\n"
     ]
    }
   ],
   "source": [
    "#odd or even\n",
    "num=int(input(\"Enter number:\"))\n",
    "if(num%2)==0:\n",
    "    print(\"The entered number is even\")\n",
    "else:\n",
    "    print(\"The entered number is odd\")"
   ]
  },
  {
   "cell_type": "code",
   "execution_count": 9,
   "id": "a3514520",
   "metadata": {},
   "outputs": [
    {
     "name": "stdout",
     "output_type": "stream",
     "text": [
      "Input a number: -.222\n",
      "It is a negative number\n"
     ]
    }
   ],
   "source": [
    "#positive or negative\n",
    "num = float(input(\"Input a number: \"))\n",
    "if num > 0:\n",
    "   print(\"It is positive number\")\n",
    "elif num == 0:\n",
    "   print(\"It is Zero\")\n",
    "else:\n",
    "   print(\"It is a negative number\")\n",
    "   "
   ]
  },
  {
   "cell_type": "code",
   "execution_count": 10,
   "id": "8142d622",
   "metadata": {},
   "outputs": [
    {
     "name": "stdout",
     "output_type": "stream",
     "text": [
      "Input a number: 0\n",
      "It is Zero\n"
     ]
    }
   ],
   "source": [
    "num = float(input(\"Input a number: \"))\n",
    "if num > 0:\n",
    "   print(\"It is positive number\")\n",
    "elif num == 0:\n",
    "   print(\"It is Zero\")\n",
    "else:\n",
    "   print(\"It is a negative number\")\n",
    "   "
   ]
  },
  {
   "cell_type": "code",
   "execution_count": null,
   "id": "81e064d5",
   "metadata": {},
   "outputs": [],
   "source": [
    "# Python program to check if year is a leap year or not\n",
    "year = int(input(\"Enter a year: \"))\n",
    "\n",
    "# divided by 100 means century year (ending with 00)\n",
    "# century year divided by 400 is leap year\n",
    "if (year % 400 == 0) and (year % 100 == 0):\n",
    "    print(\"{0} is a leap year\".format(year))\n",
    "\n",
    "# not divided by 100 means not a century year\n",
    "# year divided by 4 is a leap year\n",
    "elif (year % 4 ==0) and (year % 100 != 0):\n",
    "    print(\"{0} is a leap year\".format(year))\n",
    "\n",
    "# if not divided by both 400 (century year) and 4 (not century year)\n",
    "# year is not leap year\n",
    "else:\n",
    "    print(\"{0} is not a leap year\".format(year))"
   ]
  },
  {
   "cell_type": "code",
   "execution_count": null,
   "id": "8b6b4546",
   "metadata": {},
   "outputs": [],
   "source": [
    "#greatest of two numbers\n",
    "\n",
    "num1=int(input(\"Enter the first number:\"))\n",
    "num2=int(input(\"Enter the second number:\"))\n",
    "if(num1>num2):\n",
    "    print('{} is the greatest'.format(num1))\n",
    "else:\n",
    "    print('{} is the greatest'.format(num2))"
   ]
  },
  {
   "cell_type": "code",
   "execution_count": 17,
   "id": "efd4094b",
   "metadata": {},
   "outputs": [
    {
     "name": "stdout",
     "output_type": "stream",
     "text": [
      "Enter the first number5\n",
      "Enter the second number6\n",
      "Enter the third number25\n",
      "25 is the greatest\n"
     ]
    }
   ],
   "source": [
    "#greatest of three numbers\n",
    "\n",
    "num1=int(input(\"Enter the first number:\"))\n",
    "num2=int(input(\"Enter the second number:\"))\n",
    "num3=int(input(\"Enter the third number:\"))\n",
    "if(num1>num2 and num1>num3):\n",
    "    print('{} is the greatest'.format(num1))\n",
    "elif(num2>num1 and num2>num3):\n",
    "    print('{} is the greatest'.format(num2))\n",
    "else:\n",
    "    print('{} is the greatest'.format(num3))"
   ]
  },
  {
   "cell_type": "code",
   "execution_count": 2,
   "id": "21571896",
   "metadata": {},
   "outputs": [
    {
     "name": "stdout",
     "output_type": "stream",
     "text": [
      "Enter the number: 6754\n",
      "The reverse number is:  4576\n",
      "The number is not a palindrome\n"
     ]
    }
   ],
   "source": [
    "#to check whether the given number is a palindrome or not\n",
    "\n",
    "num = int(input(\"Enter the number: \")) #6754\n",
    "a = num\n",
    "reverse = 0\n",
    "#6754\n",
    " \n",
    "while (num > 0): \n",
    "    dig = num % 10 #digit #rem 4\n",
    "    reverse = reverse * 10 + dig #add 4 to rev\n",
    "    num = num // 10 #floor div #6754 = 675.4, 5: need #remove 4 from 6754\n",
    " \n",
    "print(\"The reverse number is: \", reverse)\n",
    " \n",
    "if a==reverse:\n",
    "    print(\"The number is a palindrome\")\n",
    "else:\n",
    "    print(\"The number is not a palindrome\")    "
   ]
  },
  {
   "cell_type": "code",
   "execution_count": null,
   "id": "2559b528",
   "metadata": {},
   "outputs": [],
   "source": [
    "a = input(\"Enter the number\")\n",
    "n = int(len(a/2))\n",
    "firsthalf = a[0:n]\n",
    "lasthalf = a[-1:-n-1:-1]\n",
    "if(lasthalf==firsthalf):\n",
    "    print(\"Its a palindrome\")\n",
    "else:\n",
    "    print(\"Its not a palindrome\")"
   ]
  },
  {
   "cell_type": "code",
   "execution_count": null,
   "id": "07f150f0",
   "metadata": {},
   "outputs": [],
   "source": [
    "a = input(\"Enter the number\")\n",
    "n = int(len(a/2))\n",
    "firsthalf = a[0:n]\n",
    "lasthalf = a[-1:-n-1:-1]\n",
    "if(lasthalf==firsthalf):\n",
    "    print(\"Its a palindrome\")\n",
    "else:\n",
    "    print(\"Its not a palindrome\")\n",
    "    "
   ]
  },
  {
   "cell_type": "code",
   "execution_count": 3,
   "id": "deacfc6e",
   "metadata": {},
   "outputs": [
    {
     "name": "stdout",
     "output_type": "stream",
     "text": [
      "Enter the number9897\n",
      "Its not a palindrome\n"
     ]
    }
   ],
   "source": [
    "a = input(\"Enter the number\")\n",
    "n = int(len(a)/2)\n",
    "firsthalf = a[0:n]\n",
    "lasthalf = a[-1:-n-1:-1]\n",
    "if(lasthalf==firsthalf):\n",
    "    print(\"Its a palindrome\")\n",
    "else:\n",
    "    print(\"Its not a palindrome\")\n",
    "    "
   ]
  },
  {
   "cell_type": "code",
   "execution_count": 52,
   "id": "2d7a96a2",
   "metadata": {},
   "outputs": [
    {
     "name": "stdout",
     "output_type": "stream",
     "text": [
      "hello world\n",
      "hello hello hello hello hello \n"
     ]
    }
   ],
   "source": [
    "#use of + operator in strings\n",
    "\n",
    "string1='hello'\n",
    "string2=' world'\n",
    "combined=string1+string2\n",
    "print(combined)\n",
    "\n",
    "#use of * operator in strings\n",
    "print(string1*5)"
   ]
  },
  {
   "cell_type": "code",
   "execution_count": 53,
   "id": "9e6a671b",
   "metadata": {},
   "outputs": [
    {
     "data": {
      "text/plain": [
       "102"
      ]
     },
     "execution_count": 53,
     "metadata": {},
     "output_type": "execute_result"
    }
   ],
   "source": [
    "#sum of array elements using library function\n",
    "\n",
    "arr=[12,3,4,6,77]\n",
    "#ans=sum(arr)\n",
    "#print(\"The sum of array elements is:\",ans)\n",
    "#a=sum(arr)\n",
    "#print(a)\n",
    "#print(\"The sum of array elements is:\")\n",
    "\n",
    "sum(arr)\n",
    "#print(s)"
   ]
  },
  {
   "cell_type": "code",
   "execution_count": 54,
   "id": "2aea1a11",
   "metadata": {},
   "outputs": [
    {
     "name": "stdout",
     "output_type": "stream",
     "text": [
      "5\n"
     ]
    }
   ],
   "source": [
    "#length of sequence using library function\n",
    "list1=['apple','orange','pineapple',1,2.4]\n",
    "a=len(list1)\n",
    "print(a)\n",
    "#print(list1)\n",
    "#a=len(list1)\n",
    "#print(a)\n",
    "#len(list1)"
   ]
  },
  {
   "cell_type": "code",
   "execution_count": 21,
   "id": "9dca2155",
   "metadata": {},
   "outputs": [
    {
     "name": "stdout",
     "output_type": "stream",
     "text": [
      "Matrix1\n",
      " [[12 11]\n",
      " [32 31]]\n",
      "Matrix2\n",
      " [[34 55]\n",
      " [17 30]]\n",
      "\n",
      "Addition of two matrices: \n",
      "[[46 66]\n",
      " [49 61]]\n",
      "\n",
      "Multiplication of two matrices: \n",
      "[[408 605]\n",
      " [544 930]]\n",
      "Transpose of 2x2 matrix:\n",
      " [[12 32]\n",
      " [11 31]]\n"
     ]
    }
   ],
   "source": [
    "#perform 2x2 matrix operations using python library\n",
    "#import numpy\n",
    "import numpy as np\n",
    "mat1=np.array([[12,11],[32,31]])\n",
    "mat2=np.array([[34,55],[17,30]])\n",
    "print(\"Matrix1\\n\",mat1)\n",
    "print(\"Matrix2\\n\",mat2)\n",
    "\n",
    "#addition\n",
    "print (\"\\nAddition of two matrices: \")\n",
    "print (np.add(mat1,mat2))\n",
    "\n",
    "#multiplication\n",
    "print (\"\\nMultiplication of two matrices: \")\n",
    "print (np.multiply(mat1,mat2))\n",
    "\n",
    "#transpose\n",
    "print(\"Transpose of 2x2 matrix:\\n\",mat1.T)"
   ]
  },
  {
   "cell_type": "code",
   "execution_count": 36,
   "id": "937ba6ed",
   "metadata": {},
   "outputs": [
    {
     "name": "stdout",
     "output_type": "stream",
     "text": [
      "[[2, 4], [6, 8]]\n"
     ]
    }
   ],
   "source": [
    "# Program to add two matrices using nested loop\n",
    "\n",
    "A = [[1,2],[3,4]]\n",
    "\n",
    "B = [[1,2],[3,4]]\n",
    "\n",
    "\n",
    "result = [[0,0],[0,0]]\n",
    "\n",
    "# iterate through rows\n",
    "for i in range(len(A)):\n",
    "# iterate through columns\n",
    "\tfor j in range(len(A[0])):\n",
    "\t\tresult[i][j] = A[i][j] + B[i][j]\n",
    " \n",
    "print(result)\n",
    "#for r in result:\n",
    "#\tprint(r)\n"
   ]
  },
  {
   "cell_type": "code",
   "execution_count": 25,
   "id": "bffb8d2b",
   "metadata": {},
   "outputs": [
    {
     "name": "stdout",
     "output_type": "stream",
     "text": [
      "[[7, 10], [15, 22]]\n"
     ]
    }
   ],
   "source": [
    "# Program to multiply two matrices using nested loops\n",
    "\n",
    "# take a 2x2 matrix\n",
    "A = [[1, 2],[3, 4]]\n",
    "\n",
    "# take a 2x2 matrix\n",
    "B = [[1,2],[3,4]]\n",
    "\t\n",
    "result = [[0,0],[0,0]]\n",
    "\n",
    "# iterating by row of A\n",
    "for i in range(len(A)):\n",
    "\n",
    "\t# iterating by column by B\n",
    "\tfor j in range(len(B[0])):\n",
    "\n",
    "\t\t# iterating by rows of B\n",
    "\t\tfor k in range(len(B)):\n",
    "\t\t\tresult[i][j] += A[i][k] * B[k][j]\n",
    "print(result)\n",
    "#for r in result:\n",
    "#\tprint(r)\n"
   ]
  },
  {
   "cell_type": "code",
   "execution_count": 56,
   "id": "a3a75a81",
   "metadata": {},
   "outputs": [
    {
     "name": "stdout",
     "output_type": "stream",
     "text": [
      "[[1, 3], [2, 4]]\n"
     ]
    }
   ],
   "source": [
    "# Program to transpose a matrix using a nested loop\n",
    "\n",
    "X = [[1,2],[3 ,4]]\n",
    "\n",
    "result = [[0,0],[0,0]]\n",
    "\n",
    "# iterate through rows\n",
    "for i in range(len(X)):\n",
    "   # iterate through columns\n",
    "   for j in range(len(X[0])):\n",
    "       result[j][i] = X[i][j]\n",
    "print(result)\n",
    "#for r in result:\n",
    "#    print(r)"
   ]
  },
  {
   "cell_type": "code",
   "execution_count": 1,
   "id": "79d7293a",
   "metadata": {},
   "outputs": [
    {
     "name": "stdout",
     "output_type": "stream",
     "text": [
      "Enter the list Size3\n",
      "Enter a value2\n",
      "Enter a value5\n",
      "Enter a value9\n",
      "[2, 5, 9]\n",
      "Enter a card to insert1\n",
      "[1, 2, 5, 9]\n"
     ]
    }
   ],
   "source": [
    "#insert a card in the list of sorted cards\n",
    "List_Size = int(input(\"Enter the list Size\"))\n",
    "Position =0\n",
    "aList=[]\n",
    "while(Position < List_Size):\n",
    "    avalue=int(input(\"Enter a value\"))\n",
    "    aList.append(avalue)\n",
    "    Position+=1\n",
    "print(aList)\n",
    "   \n",
    "avalue=int(input(\"Enter a card to insert\")) # a new card\n",
    "#x=avalue\n",
    "aList.append(0) \n",
    "Position = List_Size-1\n",
    "while(Position >=0):\n",
    "    if(avalue<aList[Position]):\n",
    "        aList[Position+1]=aList[Position]\n",
    "        aList[Position]=avalue\n",
    "    else:\n",
    "        aList[Position+1]=avalue\n",
    "        break \n",
    "    Position-=1\n",
    "print(aList)"
   ]
  },
  {
   "cell_type": "code",
   "execution_count": 8,
   "id": "17fc19fa",
   "metadata": {},
   "outputs": [
    {
     "name": "stdout",
     "output_type": "stream",
     "text": [
      "Enter the value of n: 2\n",
      "[2, 5, 7, 9]\n"
     ]
    }
   ],
   "source": [
    "def insert(list, n):\n",
    "    index = len(list)\n",
    "    for i in range(len(list)):\n",
    "        if list[i]>n:\n",
    "            index = i\n",
    "            break\n",
    "    if index == len(list):\n",
    "        list = list[:index] + [n]\n",
    "    else:\n",
    "        list = list[:index] + [n] + list[index:]\n",
    "    return list\n",
    "\n",
    "list = [5, 7, 9]\n",
    "n = int(input(\"Enter the value of n: \"))\n",
    "print(insert(list, n))"
   ]
  },
  {
   "cell_type": "code",
   "execution_count": 11,
   "id": "db7a9849",
   "metadata": {},
   "outputs": [
    {
     "name": "stdout",
     "output_type": "stream",
     "text": [
      "Enter key: 3\n",
      "Element found at index:  1\n"
     ]
    }
   ],
   "source": [
    "def linear_Search(list1, n, key):  \n",
    "  \n",
    "    #Searching list1 sequentially  \n",
    "    for i in range(0, n):  \n",
    "        if (list1[i] == key):  \n",
    "            return i\n",
    "    return -1  \n",
    "  \n",
    "list1 = [1 ,3, 5, 4, 7, 9]  \n",
    "key = int(input(\"Enter key: \"))  \n",
    "  \n",
    "n = len(list1)  \n",
    "res = linear_Search(list1, n, key)  \n",
    "if(res == -1):  \n",
    "    print(\"Element not found\")  \n",
    "else:  \n",
    "    print(\"Element found at index: \", res)"
   ]
  },
  {
   "cell_type": "code",
   "execution_count": 3,
   "id": "672ac349",
   "metadata": {},
   "outputs": [
    {
     "name": "stdout",
     "output_type": "stream",
     "text": [
      "The original list is : [(2, 3), (4, 7), (8, 11), (3, 6)]\n",
      "The min and max of index 1 :  (2, 8)\n",
      "The min and max of index 2 :  (3, 11)\n"
     ]
    }
   ],
   "source": [
    "# maxima-minima\n",
    "test_list = [(2, 3), (4, 7), (8, 11), (3, 6)]\n",
    "\n",
    "print (\"The original list is : \" + str(test_list))\n",
    "\n",
    "res1 = min(test_list)[0], max(test_list)[0]\n",
    "res2 = min(test_list)[1], max(test_list)[1]\n",
    "\n",
    "print (\"The min and max of index 1 :  \" +  str(res1))\n",
    "print (\"The min and max of index 2 :  \" +  str(res2))"
   ]
  },
  {
   "cell_type": "markdown",
   "id": "3517fd3d",
   "metadata": {},
   "source": [
    "Use the zip function to get an iterable of tuples with\n",
    "the corresponding items.\n",
    "Use a list comprehension to iterate over the iterable.\n",
    "On each iteration, pass the tuple to the sum() function."
   ]
  },
  {
   "cell_type": "code",
   "execution_count": 7,
   "id": "6be74415",
   "metadata": {},
   "outputs": [
    {
     "name": "stdout",
     "output_type": "stream",
     "text": [
      "[(1, 4), (2, 5), (3, 6)]\n",
      "[5, 7, 9]\n"
     ]
    }
   ],
   "source": [
    "#sum of two tuples:\n",
    "\n",
    "tuple_1 = (1, 2, 3)\n",
    "tuple_2 = (4, 5, 6)\n",
    "\n",
    "#  [(1, 4), (2, 5), (3, 6)]\n",
    "print(list(zip(tuple_1, tuple_2)))\n",
    "\n",
    "result = [sum(tup) for tup in zip(tuple_1, tuple_2)]\n",
    "\n",
    "print(result)  #  [5, 7, 9]\n"
   ]
  },
  {
   "cell_type": "code",
   "execution_count": 3,
   "id": "6bad4695",
   "metadata": {},
   "outputs": [
    {
     "name": "stdout",
     "output_type": "stream",
     "text": [
      "The original tuple : (1, 3)\n",
      "The duplicated tuple elements are : ((1, 3), (1, 3), (1, 3), (1, 3))\n"
     ]
    }
   ],
   "source": [
    "#duplicate a tuple\n",
    "test_tup = (1, 3)\n",
    "\n",
    "print(\"The original tuple : \" + str(test_tup))\n",
    "\n",
    "N = 4\n",
    "\n",
    "res = ((test_tup, ) * N)\n",
    "\n",
    "print(\"The duplicated tuple elements are : \" + str(res))\n"
   ]
  },
  {
   "cell_type": "code",
   "execution_count": 9,
   "id": "6fe8ae99",
   "metadata": {},
   "outputs": [
    {
     "name": "stdout",
     "output_type": "stream",
     "text": [
      "('a', 'b', 'c', 'd', 'e', 'f')\n",
      "('b', 'c', 'd', 'e', 'f', 'g', 'h', 'i')\n",
      "('j', 'h')\n"
     ]
    }
   ],
   "source": [
    "#slicing operator\n",
    "tuple= ('a','b','c','d','e','f','g','h','i','j')\n",
    "print(tuple[0:6])\n",
    "print(tuple[1:9:1])\n",
    "print(tuple[-1:-5:-2])"
   ]
  },
  {
   "cell_type": "code",
   "execution_count": 8,
   "id": "ddec9840",
   "metadata": {},
   "outputs": [
    {
     "name": "stdout",
     "output_type": "stream",
     "text": [
      "[1, 2, 3, 4, 5, 6]\n"
     ]
    }
   ],
   "source": [
    "#obtaining a list from a list of tuples\n",
    "tup = [(1, 2), (3, 4), (5, 6)]\n",
    "\n",
    "result = []\n",
    "\n",
    "for t in tup:\n",
    "    for x in t:\n",
    "        result.append(x)\n",
    "\n",
    "\n",
    "print(result)\n"
   ]
  },
  {
   "cell_type": "code",
   "execution_count": 9,
   "id": "4e5dcfa1",
   "metadata": {},
   "outputs": [
    {
     "name": "stdout",
     "output_type": "stream",
     "text": [
      "False\n",
      "True\n",
      "False\n"
     ]
    }
   ],
   "source": [
    "#compare tuples\n",
    "tuple1 = (1,2,3)\n",
    "tuple2 = (1,2,4)\n",
    " \n",
    "print (tuple1 == tuple2)  \n",
    " \n",
    "print (tuple1 < tuple2)    \n",
    " \n",
    "print (tuple1 > tuple2) "
   ]
  },
  {
   "cell_type": "code",
   "execution_count": 8,
   "id": "cf6a0d29",
   "metadata": {},
   "outputs": [
    {
     "name": "stdout",
     "output_type": "stream",
     "text": [
      "('tuple', False, 3.2, 1)\n",
      "('tuplex', True, 5.0, 4)\n"
     ]
    }
   ],
   "source": [
    "#print two tuples of different data types\n",
    "tuple1 = (\"tuple\", False, 3.2, 1)\n",
    "tuple2 = (\"tuplex\", True, 5.0, 4)\n",
    "print(tuple1)\n",
    "print(tuple2)"
   ]
  },
  {
   "cell_type": "markdown",
   "id": "d3631e94",
   "metadata": {},
   "source": [
    "#implement a histogram\n",
    "\n",
    "Matplotlib is a comprehensive library for creating static,\n",
    "animated, and interactive visualizations in Python.\n",
    "Matplotlib makes easy things easy and hard things possible.\n",
    "Create publication quality plots.\n",
    "\n",
    "Pyplot is an API (Application Programming Interface) for\n",
    "Python's matplotlib that effectively makes matplotlib a \n",
    "viable open source alternative to MATLAB. Matplotlib is a\n",
    "library for data visualization, typically in the form of \n",
    "plots, graphs and charts.\n",
    "\n",
    "A histogram is a bar graph-like representation of data\n",
    "that buckets a range of classes into columns along the \n",
    "horizontal x-axis. The vertical y-axis represents the\n",
    "number count or percentage of occurrences in the data\n",
    "for each column. Columns can be used to visualize \n",
    "patterns of data distributions."
   ]
  },
  {
   "cell_type": "code",
   "execution_count": 2,
   "id": "43af9615",
   "metadata": {},
   "outputs": [
    {
     "data": {
      "image/png": "[encoded data removed]",
      "text/plain": [
       "<Figure size 640x480 with 1 Axes>"
      ]
     },
     "metadata": {},
     "output_type": "display_data"
    }
   ],
   "source": [
    "#implement a histogram\n",
    "\n",
    "import matplotlib.pyplot as plt\n",
    "\n",
    "x = [0, 1, 1, 2, 3, 3, 5, 7, 8, 9, 10,\n",
    "     10, 11, 11, 13, 13, 15, 16, 17, 18, 18,\n",
    "     18, 19, 20, 21, 21, 23, 24, 24, 25, 25,\n",
    "     25, 25, 26, 26, 26, 27, 27, 27, 27, 27,\n",
    "     29, 30, 30, 31, 33, 34, 34, 34, 35, 36,\n",
    "     36, 37, 37, 38, 38, 39, 40, 41, 41, 42,\n",
    "     43, 44, 45, 45, 46, 47, 48, 48, 49, 50,\n",
    "     51, 52, 53, 54, 55, 55, 56, 57, 58, 60,\n",
    "     61, 63, 64, 65, 66, 68, 70, 71, 72, 74,\n",
    "     75, 77, 81, 83, 84, 87, 89, 90, 90, 91\n",
    "     ]\n",
    "\n",
    "plt.hist(x, bins=5)\n",
    "plt.show()"
   ]
  },
  {
   "cell_type": "markdown",
   "id": "95133f8d",
   "metadata": {},
   "source": [
    "# The Below Information Is Just For Practice.\n",
    "# Dont Write In Record Or Observation."
   ]
  },
  {
   "cell_type": "markdown",
   "id": "ee255055",
   "metadata": {},
   "source": [
    "The below shows the parameters accepted by matplotlib.pyplot.hist() function : :\n",
    "        \n",
    "x\tarray or sequence of array\n",
    "bins\toptional parameter contains integer or sequence or strings\n",
    "density\toptional parameter contains boolean values\n",
    "range\toptional parameter represents upper and lower range of bins\n",
    "histtype\toptional parameter used to create type of histogram [bar, barstacked, step, stepfilled], default is “bar”\n",
    "align\toptional parameter controls the plotting of histogram [left, right, mid]\n",
    "weights\toptional parameter contains array of weights having same dimensions as x\n",
    "bottom\tlocation of the baseline of each bin\n",
    "rwidth\toptional parameter which is relative width of the bars with respect to bin width\n",
    "color\toptional parameter used to set color or sequence of color specs\n",
    "label\toptional parameter string or sequence of string to match with multiple datasets\n",
    "log\toptional parameter used to set histogram axis on log scale"
   ]
  },
  {
   "cell_type": "code",
   "execution_count": 3,
   "id": "0bc595f5",
   "metadata": {},
   "outputs": [
    {
     "data": {
      "image/png": "[encoded data removed]",
      "text/plain": [
       "<Figure size 1000x700 with 1 Axes>"
      ]
     },
     "metadata": {},
     "output_type": "display_data"
    }
   ],
   "source": [
    "from matplotlib import pyplot as plt\n",
    "import numpy as np\n",
    "\n",
    "\n",
    "# Creating dataset\n",
    "a = np.array([22, 87, 5, 43, 56,\n",
    "\t\t\t73, 55, 54, 11,\n",
    "\t\t\t20, 51, 5, 79, 31,\n",
    "\t\t\t27])\n",
    "\n",
    "# Creating histogram\n",
    "fig, ax = plt.subplots(figsize =(10, 7))\n",
    "ax.hist(a, bins = [0, 25, 50, 75, 100])\n",
    "\n",
    "# Show plot\n",
    "plt.show()\n"
   ]
  },
  {
   "cell_type": "markdown",
   "id": "ecc84ff5",
   "metadata": {},
   "source": [
    "Customization of Histogram\n",
    "Matplotlib provides a range of different methods to customize histogram. \n",
    "matplotlib.pyplot.hist() function itself provides many attributes with the help of which we can modify a histogram.The hist() function provide a patches object which gives access to the properties of the created objects, using this we can modify the plot according to our will."
   ]
  },
  {
   "cell_type": "code",
   "execution_count": 4,
   "id": "a2378b78",
   "metadata": {},
   "outputs": [
    {
     "data": {
      "image/png": "[encoded data removed]",
      "text/plain": [
       "<Figure size 1000x700 with 1 Axes>"
      ]
     },
     "metadata": {},
     "output_type": "display_data"
    }
   ],
   "source": [
    "import matplotlib.pyplot as plt\n",
    "import numpy as np\n",
    "from matplotlib import colors\n",
    "from matplotlib.ticker import PercentFormatter\n",
    "\n",
    "# Creating dataset\n",
    "np.random.seed(23685752)\n",
    "N_points = 10000\n",
    "n_bins = 20\n",
    "\n",
    "# Creating distribution\n",
    "x = np.random.randn(N_points)\n",
    "y = .8 ** x + np.random.randn(10000) + 25\n",
    "\n",
    "# Creating histogram\n",
    "fig, axs = plt.subplots(1, 1,\n",
    "\t\t\t\t\t\tfigsize =(10, 7),\n",
    "\t\t\t\t\t\ttight_layout = True)\n",
    "\n",
    "axs.hist(x, bins = n_bins)\n",
    "\n",
    "# Show plot\n",
    "plt.show()\n"
   ]
  },
  {
   "cell_type": "code",
   "execution_count": 6,
   "id": "50e418f8",
   "metadata": {},
   "outputs": [
    {
     "name": "stderr",
     "output_type": "stream",
     "text": [
      "C:\\Users\\Faculty-34\\AppData\\Local\\Temp\\ipykernel_13104\\2393164873.py:36: MatplotlibDeprecationWarning: The 'b' parameter of grid() has been renamed 'visible' since Matplotlib 3.5; support for the old name will be dropped two minor releases later.\n",
      "  axs.grid(b = True, color ='grey',\n"
     ]
    },
    {
     "data": {
      "image/png": "[encoded data removed]",
      "text/plain": [
       "<Figure size 1000x700 with 1 Axes>"
      ]
     },
     "metadata": {},
     "output_type": "display_data"
    }
   ],
   "source": [
    "import matplotlib.pyplot as plt\n",
    "import numpy as np\n",
    "from matplotlib import colors\n",
    "from matplotlib.ticker import PercentFormatter\n",
    "\n",
    "\n",
    "# Creating dataset\n",
    "np.random.seed(23685752)\n",
    "N_points = 10000\n",
    "n_bins = 20\n",
    "\n",
    "# Creating distribution\n",
    "x = np.random.randn(N_points)\n",
    "y = .8 ** x + np.random.randn(10000) + 25\n",
    "legend = ['distribution']\n",
    "\n",
    "# Creating histogram\n",
    "fig, axs = plt.subplots(1, 1,\n",
    "\t\t\t\t\t\tfigsize =(10, 7),\n",
    "\t\t\t\t\t\ttight_layout = True)\n",
    "\n",
    "\n",
    "# Remove axes splines\n",
    "for s in ['top', 'bottom', 'left', 'right']:\n",
    "\taxs.spines[s].set_visible(False)\n",
    "\n",
    "# Remove x, y ticks\n",
    "axs.xaxis.set_ticks_position('none')\n",
    "axs.yaxis.set_ticks_position('none')\n",
    "\n",
    "# Add padding between axes and labels\n",
    "axs.xaxis.set_tick_params(pad = 5)\n",
    "axs.yaxis.set_tick_params(pad = 10)\n",
    "\n",
    "# Add x, y gridlines\n",
    "axs.grid(b = True, color ='grey',\n",
    "\t\tlinestyle ='-.', linewidth = 0.5,\n",
    "\t\talpha = 0.6)\n",
    "\n",
    "# Add Text watermark\n",
    "fig.text(0.9, 0.15, 'MalvikaSingh',\n",
    "\t\tfontsize = 12,\n",
    "\t\tcolor ='red',\n",
    "\t\tha ='right',\n",
    "\t\tva ='bottom',\n",
    "\t\talpha = 0.7)\n",
    "\n",
    "# Creating histogram\n",
    "N, bins, patches = axs.hist(x, bins = n_bins)\n",
    "\n",
    "# Setting color\n",
    "fracs = ((N**(1 / 5)) / N.max())\n",
    "norm = colors.Normalize(fracs.min(), fracs.max())\n",
    "\n",
    "for thisfrac, thispatch in zip(fracs, patches):\n",
    "\tcolor = plt.cm.viridis(norm(thisfrac))\n",
    "\tthispatch.set_facecolor(color)\n",
    "\n",
    "# Adding extra features\n",
    "plt.xlabel(\"X-axis\")\n",
    "plt.ylabel(\"y-axis\")\n",
    "plt.legend(legend)\n",
    "plt.title('Customized histogram')\n",
    "\n",
    "# Show plot\n",
    "plt.show()\n"
   ]
  },
  {
   "cell_type": "markdown",
   "id": "e81b7bc0",
   "metadata": {},
   "source": [
    "1. Count the following in a file:\n",
    "Number of characters\n",
    "Number of words\n",
    "Number of lines\n"
   ]
  },
  {
   "cell_type": "markdown",
   "id": "e7ba863e",
   "metadata": {},
   "source": [
    "You can use enumerate() in a loop in almost the same way\n",
    "that you use the original iterable object.\n",
    "Instead of putting the iterable directly after\n",
    "in in the for loop, you put it inside the parentheses of enumerate()"
   ]
  },
  {
   "cell_type": "code",
   "execution_count": 10,
   "id": "2ee1b099",
   "metadata": {},
   "outputs": [
    {
     "name": "stdout",
     "output_type": "stream",
     "text": [
      "0 a\n",
      "1 b\n",
      "2 c\n"
     ]
    }
   ],
   "source": [
    "values = [\"a\", \"b\", \"c\"]\n",
    "for count, value in enumerate(values):\n",
    "    print(count, value)"
   ]
  },
  {
   "cell_type": "code",
   "execution_count": 11,
   "id": "8ad5bbf1",
   "metadata": {},
   "outputs": [
    {
     "name": "stdout",
     "output_type": "stream",
     "text": [
      "Number of character 314\n",
      "Number of words 35\n",
      "Total Number of lines: 4\n"
     ]
    }
   ],
   "source": [
    "#Write a program to count number of lines, words and characters in a text file:\n",
    "a=open(\"C:/Users/Faculty-34/Desktop/a.txt\", 'r')\n",
    "line = 0\n",
    "word = 0\n",
    "character = 0\n",
    "#count = 0\n",
    "for count, line in enumerate(a):\n",
    "    character = character +len(line)\n",
    "    words = line.split ( )\n",
    "    word = word + len(words)\n",
    "    \n",
    "#print('Number of line', line)\n",
    "print('Number of character', character)\n",
    "print('Number of words', word)\n",
    "print('Total Number of lines:', count + 1)"
   ]
  },
  {
   "cell_type": "markdown",
   "id": "c82a6aee",
   "metadata": {},
   "source": [
    "2. Perform the following on a file:\n",
    "Read\n",
    "Split\n",
    "Copy\n",
    "Write\n"
   ]
  },
  {
   "cell_type": "code",
   "execution_count": 7,
   "id": "58beeb6d",
   "metadata": {},
   "outputs": [
    {
     "name": "stdout",
     "output_type": "stream",
     "text": [
      "Python is a high-level, general-purpose programming language.\n",
      "\n",
      "Its design philosophy emphasizes code readability with the use of significant indentation.\n",
      "\n",
      "Python is dynamically-typed and garbage-collected. \n",
      "\n",
      "It supports multiple programming paradigms, including structured, object-oriented and functional programming.\n"
     ]
    }
   ],
   "source": [
    "#read\n",
    "aa=open(\"C:/Users/Faculty-34/Desktop/a.txt\", 'r')\n",
    "for line in aa:\n",
    "    print(line)"
   ]
  },
  {
   "cell_type": "code",
   "execution_count": 8,
   "id": "ce1eb7c9",
   "metadata": {},
   "outputs": [
    {
     "name": "stdout",
     "output_type": "stream",
     "text": [
      "['Python', 'is', 'a', 'high-level,', 'general-purpose', 'programming', 'language.']\n",
      "['Its', 'design', 'philosophy', 'emphasizes', 'code', 'readability', 'with', 'the', 'use', 'of', 'significant', 'indentation.']\n",
      "['Python', 'is', 'dynamically-typed', 'and', 'garbage-collected.']\n",
      "['It', 'supports', 'multiple', 'programming', 'paradigms,', 'including', 'structured,', 'object-oriented', 'and', 'functional', 'programming.']\n"
     ]
    }
   ],
   "source": [
    "#Splitting line in a text line:\n",
    "aa=open(\"C:/Users/Faculty-34/Desktop/a.txt\", 'r+')\n",
    "for line in aa:\n",
    "    words=line.split()\n",
    "    print(words)"
   ]
  },
  {
   "cell_type": "code",
   "execution_count": 14,
   "id": "c1e05435",
   "metadata": {},
   "outputs": [],
   "source": [
    "#copy the contents of one file to another\n",
    "source=open(\"C:/Users/Faculty-34/Desktop/a.txt\", 'r')\n",
    "destination=open(\"C:/Users/Faculty-34/Desktop/b.txt\", 'w')\n",
    "for line in source:\n",
    "    destination.write(line)\n",
    "source.close()\n",
    "destination.close()"
   ]
  },
  {
   "cell_type": "code",
   "execution_count": 15,
   "id": "3dabffc4",
   "metadata": {},
   "outputs": [],
   "source": [
    "#write to a file\n",
    "aa=open(\"C:/Users/Faculty-34/Desktop/a.txt\", 'w+')\n",
    "aa.write('this file is a.txt')\n",
    "aa.write('to add more lines')\n",
    "aa.close()"
   ]
  }
 ],
 "metadata": {
  "kernelspec": {
   "display_name": "Python 3 (ipykernel)",
   "language": "python",
   "name": "python3"
  },
  "language_info": {
   "codemirror_mode": {
    "name": "ipython",
    "version": 3
   },
   "file_extension": ".py",
   "mimetype": "text/x-python",
   "name": "python",
   "nbconvert_exporter": "python",
   "pygments_lexer": "ipython3",
   "version": "3.9.13"
  }
 },
 "nbformat": 4,
 "nbformat_minor": 5
}
